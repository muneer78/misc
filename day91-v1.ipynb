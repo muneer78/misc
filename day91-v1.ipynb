{
 "cells": [
  {
   "cell_type": "code",
   "execution_count": 109,
   "id": "bf682ee8",
   "metadata": {},
   "outputs": [
    {
     "ename": "AttributeError",
     "evalue": "module 'datetime' has no attribute 'now'",
     "output_type": "error",
     "traceback": [
      "\u001b[1;31m---------------------------------------------------------------------------\u001b[0m",
      "\u001b[1;31mAttributeError\u001b[0m                            Traceback (most recent call last)",
      "\u001b[1;32m~\\AppData\\Local\\Temp/ipykernel_33628/3211922902.py\u001b[0m in \u001b[0;36m<module>\u001b[1;34m\u001b[0m\n\u001b[0;32m      8\u001b[0m \u001b[1;32mfrom\u001b[0m \u001b[0mdateutil\u001b[0m\u001b[1;33m.\u001b[0m\u001b[0mrelativedelta\u001b[0m \u001b[1;32mimport\u001b[0m \u001b[0mrelativedelta\u001b[0m\u001b[1;33m\u001b[0m\u001b[1;33m\u001b[0m\u001b[0m\n\u001b[0;32m      9\u001b[0m \u001b[1;33m\u001b[0m\u001b[0m\n\u001b[1;32m---> 10\u001b[1;33m \u001b[0mdate\u001b[0m \u001b[1;33m=\u001b[0m \u001b[0mdatetime\u001b[0m\u001b[1;33m.\u001b[0m\u001b[0mnow\u001b[0m\u001b[1;33m(\u001b[0m\u001b[1;33m)\u001b[0m\u001b[1;33m.\u001b[0m\u001b[0mstrftime\u001b[0m\u001b[1;33m(\u001b[0m\u001b[1;34m'%Y%m%d'\u001b[0m\u001b[1;33m)\u001b[0m\u001b[1;33m\u001b[0m\u001b[1;33m\u001b[0m\u001b[0m\n\u001b[0m\u001b[0;32m     11\u001b[0m \u001b[1;33m\u001b[0m\u001b[0m\n\u001b[0;32m     12\u001b[0m \u001b[0mdf\u001b[0m \u001b[1;33m=\u001b[0m \u001b[0mpd\u001b[0m\u001b[1;33m.\u001b[0m\u001b[0mread_excel\u001b[0m\u001b[1;33m(\u001b[0m\u001b[1;34m'Day 91.xlsx'\u001b[0m\u001b[1;33m,\u001b[0m \u001b[0msheet_name\u001b[0m\u001b[1;33m=\u001b[0m\u001b[1;33m[\u001b[0m\u001b[1;34m'All'\u001b[0m\u001b[1;33m,\u001b[0m \u001b[1;34m'Create Lead'\u001b[0m\u001b[1;33m,\u001b[0m \u001b[1;34m'Create Lead - Exception'\u001b[0m\u001b[1;33m,\u001b[0m \u001b[1;34m'Create Opp'\u001b[0m\u001b[1;33m,\u001b[0m \u001b[1;34m'Create Opp - Exception'\u001b[0m\u001b[1;33m,\u001b[0m\u001b[1;34m'Reassign Opp'\u001b[0m\u001b[1;33m]\u001b[0m\u001b[1;33m)\u001b[0m\u001b[1;33m\u001b[0m\u001b[1;33m\u001b[0m\u001b[0m\n",
      "\u001b[1;31mAttributeError\u001b[0m: module 'datetime' has no attribute 'now'"
     ]
    }
   ],
   "source": [
    "import pandas as pd\n",
    "import numpy as np\n",
    "import datetime as dt\n",
    "import dateutil as du\n",
    "import datetime\n",
    "import dateutil\n",
    "from datetime import datetime as dt\n",
    "from dateutil.relativedelta import relativedelta\n",
    "\n",
    "date = datetime.now().strftime('%Y%m%d')\n",
    "\n",
    "df = pd.read_excel('Day 91.xlsx', sheet_name=['All', 'Create Lead', 'Create Lead - Exception', 'Create Opp', 'Create Opp - Exception','Reassign Opp'])\n",
    "df_leads = df.get('Create Lead')\n",
    "df_leadserror = df.get('Create Lead - Exception')\n",
    "df_newopps = df.get('Create Opp')\n",
    "df_newoppserror = df.get('Create Opp - Exception')\n",
    "df_existingopps = df.get('Reassign Opp')\n",
    "\n",
    "df_reps = pd.read_csv('RepList.csv')\n",
    "rep_names = df_reps[\"Name\"]\n",
    "rep_territory_dict = dict(zip(df_reps.Name, df_reps.Bucket))\n",
    "rep_id_dict = dict(zip(df_reps.Name, df_reps.ID))"
   ]
  },
  {
   "cell_type": "code",
   "execution_count": 110,
   "id": "b739db5f",
   "metadata": {},
   "outputs": [],
   "source": [
    "df_leads['rep'] = None"
   ]
  },
  {
   "cell_type": "code",
   "execution_count": 111,
   "id": "3b03e5f8",
   "metadata": {},
   "outputs": [],
   "source": [
    "def setterritory(df_leads):\n",
    "    if df_leads['fmcsa_trucks'] > 40: return \"40+\"\n",
    "    elif df_leads['state'] == 'AZ' and df_leads['fmcsa_trucks'] <= 9: return \"AZ 1-9\"\n",
    "    elif df_leads['state'] == 'AZ' and (df_leads['fmcsa_trucks'] > 9 and df_leads['fmcsa_trucks'] < 26): return \"AZ 10-25\"\n",
    "    elif df_leads['state'] == 'AZ' and (df_leads['fmcsa_trucks'] > 25 and df_leads['fmcsa_trucks'] < 41): return \"AZ 26-40\"\n",
    "    elif df_leads['state'] == 'IL' and df_leads['fmcsa_trucks'] <= 9: return \"IL 1-9\"\n",
    "    elif df_leads['state'] == 'IL' and (df_leads['fmcsa_trucks'] > 9 and df_leads['fmcsa_trucks'] < 26): return \"IL 10-25\"\n",
    "    elif df_leads['state'] == 'IL' and (df_leads['fmcsa_trucks'] > 25 and df_leads['fmcsa_trucks'] < 41): return \"IL 26-40\"\n",
    "    elif df_leads['state'] == 'GA' and df_leads['fmcsa_trucks'] <= 9: return \"GA 1-9\"\n",
    "    elif df_leads['state'] == 'GA' and (df_leads['fmcsa_trucks'] > 9 and df_leads['fmcsa_trucks'] < 26): return \"GA 10-25\"\n",
    "    elif df_leads['state'] == 'GA' and (df_leads['fmcsa_trucks'] > 25 and df_leads['fmcsa_trucks'] < 41): return \"GA 26-40\"\n",
    "    elif df_leads['state'] == 'TN' and df_leads['fmcsa_trucks'] <= 9: return \"TN 1-9\"\n",
    "    elif df_leads['state'] == 'TN' and (df_leads['fmcsa_trucks'] > 9 and df_leads['fmcsa_trucks'] < 26): return \"TN 10-25\"\n",
    "    elif df_leads['state'] == 'TN' and (df_leads['fmcsa_trucks'] > 25 and df_leads['fmcsa_trucks'] < 41): return \"TN 26-40\"\n",
    "    elif df_leads['state'] == 'TX' and df_leads['fmcsa_trucks'] <= 9: return \"TX 1-9\"\n",
    "    elif df_leads['state'] == 'TX' and (df_leads['fmcsa_trucks'] > 9 and df_leads['fmcsa_trucks'] < 26): return \"TX 10-25\"\n",
    "    elif df_leads['state'] == 'TX' and (df_leads['fmcsa_trucks'] > 25 and df_leads['fmcsa_trucks'] < 41): return \"TX 26-40\"\n",
    "    elif df_leads['state'] not in ('AZ', 'GA', 'IL', 'TN' 'TX') and df_leads['fmcsa_trucks'] <= 9: return \"NR 1-9\"\n",
    "    elif df_leads['state'] not in ('AZ', 'GA', 'IL', 'TN' 'TX') and (df_leads['fmcsa_trucks'] > 9 and df_leads['fmcsa_trucks'] < 26): return \"NR 10-25\"\n",
    "    elif df_leads['state'] not in ('AZ', 'GA', 'IL', 'TN' 'TX') and (df_leads['fmcsa_trucks'] > 25 and df_leads['fmcsa_trucks'] < 41): return \"NR 26-40\"\n",
    "    else: return \"not processed\""
   ]
  },
  {
   "cell_type": "code",
   "execution_count": 112,
   "id": "f7f5abdb",
   "metadata": {},
   "outputs": [],
   "source": [
    "df_leads['bucket'] = df_leads.apply(setterritory, axis=1)"
   ]
  },
  {
   "cell_type": "code",
   "execution_count": 113,
   "id": "ac2530c6",
   "metadata": {},
   "outputs": [],
   "source": [
    "repdict = {'AZ 1-9': ['Brandon Homan'], \n",
    "           'GA 1-9': ['Gustavo Marquez', 'Junior Robert', 'Rosana Aboytes'], \n",
    "           'IL 1-9': ['Joe Knudson', 'Justin Wold', 'Rosana Aboytes'],\n",
    "           'NR 1-9': ['Adam Capps', 'Adris Veney', 'Amanda Breting', 'August Ripley', 'Austin Hicks', 'Dalton Graves', 'Ethan Warren', 'Jacob Peterson', 'Jed Kent', 'Jonathan Motyka', 'Justin Bilombele', 'Nagi Williams', 'Tony Lee', 'Wade Hyatt'],\n",
    "           'TN 1-9': ['Ryan Wendt'],\n",
    "           'TX 1-9': ['Maria Contin Garcia', 'TJ Thompson'],\n",
    "           'AZ 10-25': ['Emily Kamm'],\n",
    "           'GA 10-25': ['Holden Stallbaumer'],\n",
    "           'IL 10-25': ['Connor Sacks', 'Richard Azunna-Iwuh'],\n",
    "           'NR 10-25': ['Dylan Curry', 'Ethan Sageser', 'Nolan McCall', 'Robbie Genau', 'Tony Vitale'],\n",
    "           'TN 10-25': ['Cole Theodoropoulos'],\n",
    "           'TX 10-25': ['Landry Brewton'],\n",
    "           'AZ 26-40': ['Emily Kamm'],\n",
    "           'GA 26-40': ['Holden Stallbaumer'],\n",
    "           'IL 26-40': ['Ashli Hill'],\n",
    "           'NR 26-40': ['Jacob Douglas', 'Lucas Deegan', 'Seth Holman'],\n",
    "           'TN 26-40': ['Jon Kiger'],\n",
    "           'TX 26-40': ['Landry Brewton'],\n",
    "           '40+': ['Matt Bernard']\n",
    "          } "
   ]
  },
  {
   "cell_type": "code",
   "execution_count": 114,
   "id": "d03c965e",
   "metadata": {},
   "outputs": [],
   "source": [
    "# Iterate over the keys in the dictionary \n",
    "for bucket, values in repdict.items(): \n",
    "    # Get the row index where the key is present in the 'key' column \n",
    "    row_index = np.where(df_leads['bucket'] == bucket)\n",
    "    value_num = 0\n",
    "    for rowi in row_index[0]:\n",
    "# Assign one of the values from the value list in the dictionary to the 'value' column at the row index \n",
    "\n",
    "        df_leads.iloc[rowi, 19] = values[value_num]\n",
    "    \n",
    "        if len(values) == value_num + 1:\n",
    "            value_num = 0\n",
    "        else:\n",
    "            value_num +=1        "
   ]
  },
  {
   "cell_type": "code",
   "execution_count": 115,
   "id": "0c990365",
   "metadata": {},
   "outputs": [],
   "source": [
    "df_leads['Contact Attempted'] = \"No\"\n",
    "df_leads['Lead Status'] = \"New\"\n",
    "df_leads['Campaign'] = \"7013x000002LHUAAA4\"\n",
    "df_leads['Topic of Interest'] = \"RTS Carrier Services\"\n",
    "df_leads['Lead Record Type'] = \"0121H000001a2ShQAI\""
   ]
  },
  {
   "cell_type": "code",
   "execution_count": 116,
   "id": "ec0f432a",
   "metadata": {},
   "outputs": [],
   "source": [
    "df_leads['repid'] = df_leads['rep'].map(rep_id_dict)\n",
    "df_leads = df_leads[df_leads.fmcsa_trucks < 250]"
   ]
  },
  {
   "cell_type": "code",
   "execution_count": 117,
   "id": "1af3fe30",
   "metadata": {},
   "outputs": [],
   "source": [
    "df_leads.to_csv(f'{date}-Day91Leads.csv',index=False)"
   ]
  },
  {
   "cell_type": "code",
   "execution_count": 118,
   "id": "0ec36a4c",
   "metadata": {},
   "outputs": [],
   "source": [
    "df_newopps['rep'] = None"
   ]
  },
  {
   "cell_type": "code",
   "execution_count": 119,
   "id": "4e21a0f9",
   "metadata": {},
   "outputs": [],
   "source": [
    "def setterritory(df_newopps):\n",
    "    if df_newopps['fmcsa_trucks'] > 40: return \"40+\"\n",
    "    elif df_newopps['state'] == 'AZ' and df_newopps['fmcsa_trucks'] <= 9: return \"AZ 1-9\"\n",
    "    elif df_newopps['state'] == 'AZ' and (df_newopps['fmcsa_trucks'] > 9 and df_newopps['fmcsa_trucks'] < 26): return \"AZ 10-25\"\n",
    "    elif df_newopps['state'] == 'AZ' and (df_newopps['fmcsa_trucks'] > 25 and df_newopps['fmcsa_trucks'] < 41): return \"AZ 26-40\"\n",
    "    elif df_newopps['state'] == 'IL' and df_newopps['fmcsa_trucks'] <= 9: return \"IL 1-9\"\n",
    "    elif df_newopps['state'] == 'IL' and (df_newopps['fmcsa_trucks'] > 9 and df_newopps['fmcsa_trucks'] < 26): return \"IL 10-25\"\n",
    "    elif df_newopps['state'] == 'IL' and (df_newopps['fmcsa_trucks'] > 25 and df_newopps['fmcsa_trucks'] < 41): return \"IL 26-40\"\n",
    "    elif df_newopps['state'] == 'GA' and df_newopps['fmcsa_trucks'] <= 9: return \"GA 1-9\"\n",
    "    elif df_newopps['state'] == 'GA' and (df_newopps['fmcsa_trucks'] > 9 and df_newopps['fmcsa_trucks'] < 26): return \"GA 10-25\"\n",
    "    elif df_newopps['state'] == 'GA' and (df_newopps['fmcsa_trucks'] > 25 and df_newopps['fmcsa_trucks'] < 41): return \"GA 26-40\"\n",
    "    elif df_newopps['state'] == 'TN' and df_newopps['fmcsa_trucks'] <= 9: return \"TN 1-9\"\n",
    "    elif df_newopps['state'] == 'TN' and (df_newopps['fmcsa_trucks'] > 9 and df_newopps['fmcsa_trucks'] < 26): return \"TN 10-25\"\n",
    "    elif df_newopps['state'] == 'TN' and (df_newopps['fmcsa_trucks'] > 25 and df_newopps['fmcsa_trucks'] < 41): return \"TN 26-40\"\n",
    "    elif df_newopps['state'] == 'TX' and df_newopps['fmcsa_trucks'] <= 9: return \"TX 1-9\"\n",
    "    elif df_newopps['state'] == 'TX' and (df_newopps['fmcsa_trucks'] > 9 and df_newopps['fmcsa_trucks'] < 26): return \"TX 10-25\"\n",
    "    elif df_newopps['state'] == 'TX' and (df_newopps['fmcsa_trucks'] > 25 and df_newopps['fmcsa_trucks'] < 41): return \"TX 26-40\"\n",
    "    elif df_newopps['state'] not in ('AZ', 'GA', 'IL', 'TN' 'TX') and df_newopps['fmcsa_trucks'] <= 9: return \"NR 1-9\"\n",
    "    elif df_newopps['state'] not in ('AZ', 'GA', 'IL', 'TN' 'TX') and (df_newopps['fmcsa_trucks'] > 9 and df_newopps['fmcsa_trucks'] < 26): return \"NR 10-25\"\n",
    "    elif df_newopps['state'] not in ('AZ', 'GA', 'IL', 'TN' 'TX') and (df_newopps['fmcsa_trucks'] > 25 and df_newopps['fmcsa_trucks'] < 41): return \"NR 26-40\"\n",
    "    else: return \"not processed\""
   ]
  },
  {
   "cell_type": "code",
   "execution_count": 120,
   "id": "e5b47769",
   "metadata": {},
   "outputs": [],
   "source": [
    "df_newopps['bucket'] = df_newopps.apply(setterritory, axis=1)"
   ]
  },
  {
   "cell_type": "code",
   "execution_count": 121,
   "id": "29178f0a",
   "metadata": {},
   "outputs": [],
   "source": [
    "# Iterate over the keys in the dictionary \n",
    "for bucket, values in repdict.items(): \n",
    "    # Get the row index where the key is present in the 'key' column \n",
    "    row_index = np.where(df_newopps['bucket'] == bucket)\n",
    "    value_num = 0\n",
    "    for rowi in row_index[0]:\n",
    "# Assign one of the values from the value list in the dictionary to the 'value' column at the row index \n",
    "\n",
    "        df_newopps.iloc[rowi, 19] = values[value_num]\n",
    "    \n",
    "        if len(values) == value_num + 1:\n",
    "            value_num = 0\n",
    "        else:\n",
    "            value_num +=1     "
   ]
  },
  {
   "cell_type": "code",
   "execution_count": 124,
   "id": "0a2aab71",
   "metadata": {},
   "outputs": [
    {
     "name": "stdout",
     "output_type": "stream",
     "text": [
      "06/23/2023\n"
     ]
    }
   ],
   "source": [
    "date2 = dt.now()\n",
    "future = date2 + relativedelta(months=1)\n",
    "future_str = future.strftime(\"%m/%d/%Y\")"
   ]
  },
  {
   "cell_type": "code",
   "execution_count": 126,
   "id": "29a3f1a7",
   "metadata": {},
   "outputs": [],
   "source": [
    "df_newopps['Close Date'] = future_str\n",
    "df_newopps['Primary Source Campaign ID'] = \"7013x000002LHUAAA4\"\n",
    "df_newopps['Opportunity Type'] = \"RTSCS\"\n",
    "df_newopps['RecordTypeId'] = \"0123x000001dXL2AAM\"\n",
    "df_newopps['StageName'] = \"Open\""
   ]
  },
  {
   "cell_type": "code",
   "execution_count": 127,
   "id": "d9811246",
   "metadata": {},
   "outputs": [],
   "source": [
    "df_newopps['repid'] = df_newopps['rep'].map(rep_id_dict)\n",
    "df_newopps = df_newopps[df_newopps.fmcsa_trucks < 250]"
   ]
  },
  {
   "cell_type": "code",
   "execution_count": 128,
   "id": "cab7c770",
   "metadata": {},
   "outputs": [],
   "source": [
    "df_newopps.to_csv(f'{date}-Day91NewOpps.csv',index=False)"
   ]
  },
  {
   "cell_type": "code",
   "execution_count": 129,
   "id": "4eadc778",
   "metadata": {},
   "outputs": [],
   "source": [
    "df_existingopps['rep'] = None"
   ]
  },
  {
   "cell_type": "code",
   "execution_count": 130,
   "id": "d546babb",
   "metadata": {},
   "outputs": [],
   "source": [
    "def setterritory(df_existingopps):\n",
    "    if df_existingopps['fmcsa_trucks'] > 40: return \"40+\"\n",
    "    elif df_existingopps['state'] == 'AZ' and df_existingopps['fmcsa_trucks'] <= 9: return \"AZ 1-9\"\n",
    "    elif df_existingopps['state'] == 'AZ' and (df_existingopps['fmcsa_trucks'] > 9 and df_existingopps['fmcsa_trucks'] < 26): return \"AZ 10-25\"\n",
    "    elif df_existingopps['state'] == 'AZ' and (df_existingopps['fmcsa_trucks'] > 25 and df_existingopps['fmcsa_trucks'] < 41): return \"AZ 26-40\"\n",
    "    elif df_existingopps['state'] == 'IL' and df_existingopps['fmcsa_trucks'] <= 9: return \"IL 1-9\"\n",
    "    elif df_existingopps['state'] == 'IL' and (df_existingopps['fmcsa_trucks'] > 9 and df_existingopps['fmcsa_trucks'] < 26): return \"IL 10-25\"\n",
    "    elif df_existingopps['state'] == 'IL' and (df_existingopps['fmcsa_trucks'] > 25 and df_existingopps['fmcsa_trucks'] < 41): return \"IL 26-40\"\n",
    "    elif df_existingopps['state'] == 'GA' and df_existingopps['fmcsa_trucks'] <= 9: return \"GA 1-9\"\n",
    "    elif df_existingopps['state'] == 'GA' and (df_existingopps['fmcsa_trucks'] > 9 and df_existingopps['fmcsa_trucks'] < 26): return \"GA 10-25\"\n",
    "    elif df_existingopps['state'] == 'GA' and (df_existingopps['fmcsa_trucks'] > 25 and df_existingopps['fmcsa_trucks'] < 41): return \"GA 26-40\"\n",
    "    elif df_existingopps['state'] == 'TN' and df_existingopps['fmcsa_trucks'] <= 9: return \"TN 1-9\"\n",
    "    elif df_existingopps['state'] == 'TN' and (df_existingopps['fmcsa_trucks'] > 9 and df_existingopps['fmcsa_trucks'] < 26): return \"TN 10-25\"\n",
    "    elif df_existingopps['state'] == 'TN' and (df_existingopps['fmcsa_trucks'] > 25 and df_existingopps['fmcsa_trucks'] < 41): return \"TN 26-40\"\n",
    "    elif df_existingopps['state'] == 'TX' and df_existingopps['fmcsa_trucks'] <= 9: return \"TX 1-9\"\n",
    "    elif df_existingopps['state'] == 'TX' and (df_existingopps['fmcsa_trucks'] > 9 and df_existingopps['fmcsa_trucks'] < 26): return \"TX 10-25\"\n",
    "    elif df_existingopps['state'] == 'TX' and (df_existingopps['fmcsa_trucks'] > 25 and df_existingopps['fmcsa_trucks'] < 41): return \"TX 26-40\"\n",
    "    elif df_existingopps['state'] not in ('AZ', 'GA', 'IL', 'TN' 'TX') and df_existingopps['fmcsa_trucks'] <= 9: return \"NR 1-9\"\n",
    "    elif df_existingopps['state'] not in ('AZ', 'GA', 'IL', 'TN' 'TX') and (df_existingopps['fmcsa_trucks'] > 9 and df_existingopps['fmcsa_trucks'] < 26): return \"NR 10-25\"\n",
    "    elif df_existingopps['state'] not in ('AZ', 'GA', 'IL', 'TN' 'TX') and (df_existingopps['fmcsa_trucks'] > 25 and df_existingopps['fmcsa_trucks'] < 41): return \"NR 26-40\"\n",
    "    else: return \"not processed\""
   ]
  },
  {
   "cell_type": "code",
   "execution_count": 131,
   "id": "69a95acc",
   "metadata": {},
   "outputs": [],
   "source": [
    "df_existingopps['bucket'] = df_existingopps.apply(setterritory, axis=1)"
   ]
  },
  {
   "cell_type": "code",
   "execution_count": 132,
   "id": "e46a3df1",
   "metadata": {},
   "outputs": [],
   "source": [
    "# Iterate over the keys in the dictionary \n",
    "for bucket, values in repdict.items(): \n",
    "    # Get the row index where the key is present in the 'key' column \n",
    "    row_index = np.where(df_existingopps['bucket'] == bucket)\n",
    "    value_num = 0\n",
    "    for rowi in row_index[0]:\n",
    "# Assign one of the values from the value list in the dictionary to the 'value' column at the row index \n",
    "\n",
    "        df_existingopps.iloc[rowi, 19] = values[value_num]\n",
    "    \n",
    "        if len(values) == value_num + 1:\n",
    "            value_num = 0\n",
    "        else:\n",
    "            value_num +=1     "
   ]
  },
  {
   "cell_type": "code",
   "execution_count": 133,
   "id": "42fcb599",
   "metadata": {},
   "outputs": [],
   "source": [
    "df_existingopps['Primary Source Campaign ID'] = \"7013x000002LHUAAA4\""
   ]
  },
  {
   "cell_type": "code",
   "execution_count": 134,
   "id": "3bb835f1",
   "metadata": {},
   "outputs": [],
   "source": [
    "df_existingopps['repid'] = df_existingopps['rep'].map(rep_id_dict)\n",
    "df_existingopps = df_existingopps[df_existingopps.fmcsa_trucks < 250]"
   ]
  },
  {
   "cell_type": "code",
   "execution_count": 135,
   "id": "e0a76572",
   "metadata": {},
   "outputs": [],
   "source": [
    "df_existingopps.to_csv(f'{date}-Day91ReassignOpps.csv',index=False)"
   ]
  },
  {
   "cell_type": "code",
   "execution_count": 136,
   "id": "6eb5b0f5",
   "metadata": {},
   "outputs": [],
   "source": [
    "df_newoppserror['rep'] = None"
   ]
  },
  {
   "cell_type": "code",
   "execution_count": 137,
   "id": "0a3a719f",
   "metadata": {},
   "outputs": [],
   "source": [
    "def setterritory(df_newoppserror):\n",
    "    if df_newoppserror['fmcsa_trucks'] > 40: return \"40+\"\n",
    "    elif df_newoppserror['state'] == 'AZ' and df_newoppserror['fmcsa_trucks'] <= 9: return \"AZ 1-9\"\n",
    "    elif df_newoppserror['state'] == 'AZ' and (df_newoppserror['fmcsa_trucks'] > 9 and df_newoppserror['fmcsa_trucks'] < 26): return \"AZ 10-25\"\n",
    "    elif df_newoppserror['state'] == 'AZ' and (df_newoppserror['fmcsa_trucks'] > 25 and df_newoppserror['fmcsa_trucks'] < 41): return \"AZ 26-40\"\n",
    "    elif df_newoppserror['state'] == 'IL' and df_newoppserror['fmcsa_trucks'] <= 9: return \"IL 1-9\"\n",
    "    elif df_newoppserror['state'] == 'IL' and (df_newoppserror['fmcsa_trucks'] > 9 and df_newoppserror['fmcsa_trucks'] < 26): return \"IL 10-25\"\n",
    "    elif df_newoppserror['state'] == 'IL' and (df_newoppserror['fmcsa_trucks'] > 25 and df_newoppserror['fmcsa_trucks'] < 41): return \"IL 26-40\"\n",
    "    elif df_newoppserror['state'] == 'GA' and df_newoppserror['fmcsa_trucks'] <= 9: return \"GA 1-9\"\n",
    "    elif df_newoppserror['state'] == 'GA' and (df_newoppserror['fmcsa_trucks'] > 9 and df_newoppserror['fmcsa_trucks'] < 26): return \"GA 10-25\"\n",
    "    elif df_newoppserror['state'] == 'GA' and (df_newoppserror['fmcsa_trucks'] > 25 and df_newoppserror['fmcsa_trucks'] < 41): return \"GA 26-40\"\n",
    "    elif df_newoppserror['state'] == 'TN' and df_newoppserror['fmcsa_trucks'] <= 9: return \"TN 1-9\"\n",
    "    elif df_newoppserror['state'] == 'TN' and (df_newoppserror['fmcsa_trucks'] > 9 and df_newoppserror['fmcsa_trucks'] < 26): return \"TN 10-25\"\n",
    "    elif df_newoppserror['state'] == 'TN' and (df_newoppserror['fmcsa_trucks'] > 25 and df_newoppserror['fmcsa_trucks'] < 41): return \"TN 26-40\"\n",
    "    elif df_newoppserror['state'] == 'TX' and df_newoppserror['fmcsa_trucks'] <= 9: return \"TX 1-9\"\n",
    "    elif df_newoppserror['state'] == 'TX' and (df_newoppserror['fmcsa_trucks'] > 9 and df_newoppserror['fmcsa_trucks'] < 26): return \"TX 10-25\"\n",
    "    elif df_newoppserror['state'] == 'TX' and (df_newoppserror['fmcsa_trucks'] > 25 and df_newoppserror['fmcsa_trucks'] < 41): return \"TX 26-40\"\n",
    "    elif df_newoppserror['state'] not in ('AZ', 'GA', 'IL', 'TN' 'TX') and df_newoppserror['fmcsa_trucks'] <= 9: return \"NR 1-9\"\n",
    "    elif df_newoppserror['state'] not in ('AZ', 'GA', 'IL', 'TN' 'TX') and (df_newoppserror['fmcsa_trucks'] > 9 and df_newoppserror['fmcsa_trucks'] < 26): return \"NR 10-25\"\n",
    "    elif df_newoppserror['state'] not in ('AZ', 'GA', 'IL', 'TN' 'TX') and (df_newoppserror['fmcsa_trucks'] > 25 and df_newoppserror['fmcsa_trucks'] < 41): return \"NR 26-40\"\n",
    "    else: return \"not processed\""
   ]
  },
  {
   "cell_type": "code",
   "execution_count": 138,
   "id": "3fb726b0",
   "metadata": {},
   "outputs": [],
   "source": [
    "df_newoppserror['bucket'] = df_newoppserror.apply(setterritory, axis=1)"
   ]
  },
  {
   "cell_type": "code",
   "execution_count": 139,
   "id": "21171a74",
   "metadata": {},
   "outputs": [],
   "source": [
    "# Iterate over the keys in the dictionary \n",
    "for bucket, values in repdict.items(): \n",
    "    # Get the row index where the key is present in the 'key' column \n",
    "    row_index = np.where(df_newoppserror['bucket'] == bucket)\n",
    "    value_num = 0\n",
    "    for rowi in row_index[0]:\n",
    "# Assign one of the values from the value list in the dictionary to the 'value' column at the row index \n",
    "\n",
    "        df_newoppserror.iloc[rowi, 19] = values[value_num]\n",
    "    \n",
    "        if len(values) == value_num + 1:\n",
    "            value_num = 0\n",
    "        else:\n",
    "            value_num +=1     "
   ]
  },
  {
   "cell_type": "code",
   "execution_count": 140,
   "id": "0e2f6be9",
   "metadata": {},
   "outputs": [],
   "source": [
    "df_newoppserror = df_newoppserror[df_newoppserror.fmcsa_trucks < 250]"
   ]
  },
  {
   "cell_type": "code",
   "execution_count": 141,
   "id": "831cd098",
   "metadata": {},
   "outputs": [],
   "source": [
    "df_leadserror['rep'] = None"
   ]
  },
  {
   "cell_type": "code",
   "execution_count": 142,
   "id": "eecf6331",
   "metadata": {},
   "outputs": [],
   "source": [
    "def setterritory(df_leadserror):\n",
    "    if df_leadserror['fmcsa_trucks'] > 40: return \"40+\"\n",
    "    elif df_leadserror['state'] == 'AZ' and df_leadserror['fmcsa_trucks'] <= 9: return \"AZ 1-9\"\n",
    "    elif df_leadserror['state'] == 'AZ' and (df_leadserror['fmcsa_trucks'] > 9 and df_leadserror['fmcsa_trucks'] < 26): return \"AZ 10-25\"\n",
    "    elif df_leadserror['state'] == 'AZ' and (df_leadserror['fmcsa_trucks'] > 25 and df_leadserror['fmcsa_trucks'] < 41): return \"AZ 26-40\"\n",
    "    elif df_leadserror['state'] == 'IL' and df_leadserror['fmcsa_trucks'] <= 9: return \"IL 1-9\"\n",
    "    elif df_leadserror['state'] == 'IL' and (df_leadserror['fmcsa_trucks'] > 9 and df_leadserror['fmcsa_trucks'] < 26): return \"IL 10-25\"\n",
    "    elif df_leadserror['state'] == 'IL' and (df_leadserror['fmcsa_trucks'] > 25 and df_leadserror['fmcsa_trucks'] < 41): return \"IL 26-40\"\n",
    "    elif df_leadserror['state'] == 'GA' and df_leadserror['fmcsa_trucks'] <= 9: return \"GA 1-9\"\n",
    "    elif df_leadserror['state'] == 'GA' and (df_leadserror['fmcsa_trucks'] > 9 and df_leadserror['fmcsa_trucks'] < 26): return \"GA 10-25\"\n",
    "    elif df_leadserror['state'] == 'GA' and (df_leadserror['fmcsa_trucks'] > 25 and df_leadserror['fmcsa_trucks'] < 41): return \"GA 26-40\"\n",
    "    elif df_leadserror['state'] == 'TN' and df_leadserror['fmcsa_trucks'] <= 9: return \"TN 1-9\"\n",
    "    elif df_leadserror['state'] == 'TN' and (df_leadserror['fmcsa_trucks'] > 9 and df_leadserror['fmcsa_trucks'] < 26): return \"TN 10-25\"\n",
    "    elif df_leadserror['state'] == 'TN' and (df_leadserror['fmcsa_trucks'] > 25 and df_leadserror['fmcsa_trucks'] < 41): return \"TN 26-40\"\n",
    "    elif df_leadserror['state'] == 'TX' and df_leadserror['fmcsa_trucks'] <= 9: return \"TX 1-9\"\n",
    "    elif df_leadserror['state'] == 'TX' and (df_leadserror['fmcsa_trucks'] > 9 and df_leadserror['fmcsa_trucks'] < 26): return \"TX 10-25\"\n",
    "    elif df_leadserror['state'] == 'TX' and (df_leadserror['fmcsa_trucks'] > 25 and df_leadserror['fmcsa_trucks'] < 41): return \"TX 26-40\"\n",
    "    elif df_leadserror['state'] not in ('AZ', 'GA', 'IL', 'TN' 'TX') and df_leadserror['fmcsa_trucks'] <= 9: return \"NR 1-9\"\n",
    "    elif df_leadserror['state'] not in ('AZ', 'GA', 'IL', 'TN' 'TX') and (df_leadserror['fmcsa_trucks'] > 9 and df_leadserror['fmcsa_trucks'] < 26): return \"NR 10-25\"\n",
    "    elif df_leadserror['state'] not in ('AZ', 'GA', 'IL', 'TN' 'TX') and (df_leadserror['fmcsa_trucks'] > 25 and df_leadserror['fmcsa_trucks'] < 41): return \"NR 26-40\"\n",
    "    else: return \"not processed\""
   ]
  },
  {
   "cell_type": "code",
   "execution_count": 143,
   "id": "1a40a0f3",
   "metadata": {},
   "outputs": [],
   "source": [
    "df_leadserror['bucket'] = df_leadserror.apply(setterritory, axis=1)"
   ]
  },
  {
   "cell_type": "code",
   "execution_count": 144,
   "id": "b1a2716a",
   "metadata": {},
   "outputs": [],
   "source": [
    "# Iterate over the keys in the dictionary \n",
    "for bucket, values in repdict.items(): \n",
    "    # Get the row index where the key is present in the 'key' column \n",
    "    row_index = np.where(df_leadserror['bucket'] == bucket)\n",
    "    value_num = 0\n",
    "    for rowi in row_index[0]:\n",
    "# Assign one of the values from the value list in the dictionary to the 'value' column at the row index \n",
    "\n",
    "        df_leadserror.iloc[rowi, 19] = values[value_num]\n",
    "    \n",
    "        if len(values) == value_num + 1:\n",
    "            value_num = 0\n",
    "        else:\n",
    "            value_num +=1     "
   ]
  },
  {
   "cell_type": "code",
   "execution_count": 145,
   "id": "bd6a2053",
   "metadata": {},
   "outputs": [],
   "source": [
    "df_leadserror = df_leadserror[df_leadserror.fmcsa_trucks < 250]"
   ]
  },
  {
   "cell_type": "code",
   "execution_count": 146,
   "id": "683d5f4a",
   "metadata": {},
   "outputs": [],
   "source": [
    "with pd.ExcelWriter(f'{date}-Day91Errors.xlsx') as writer:\n",
    "    df_leadserror.to_excel(writer, sheet_name='Leads',index=False)\n",
    "    df_newoppserror.to_excel(writer, sheet_name='Opportunities',index=False)"
   ]
  },
  {
   "cell_type": "code",
   "execution_count": 147,
   "id": "24448649",
   "metadata": {},
   "outputs": [],
   "source": [
    "df_successleads = pd.read_csv('Day91SuccessLeads.csv')"
   ]
  },
  {
   "cell_type": "code",
   "execution_count": 148,
   "id": "32a83db2",
   "metadata": {},
   "outputs": [],
   "source": [
    "successleads = pd.merge(df_successleads, df_leads, left_on='PFJ_SF_NAME', right_on=[\"pfj_sf_name\"])\n",
    "successleads.drop('pfj_sf_name', axis=1, inplace=True)"
   ]
  },
  {
   "cell_type": "code",
   "execution_count": 149,
   "id": "e3c39e12",
   "metadata": {},
   "outputs": [],
   "source": [
    "with pd.ExcelWriter(f'{date}-Day91Load.xlsx') as writer:\n",
    "    successleads.to_excel(writer, sheet_name='Leads',index=False)\n",
    "    df_newopps.to_excel(writer, sheet_name='New Opportunities',index=False)\n",
    "    df_existingopps.to_excel(writer, sheet_name='Reassigned Opportunities',index=False)"
   ]
  },
  {
   "cell_type": "code",
   "execution_count": null,
   "id": "c8a7c112",
   "metadata": {},
   "outputs": [],
   "source": []
  }
 ],
 "metadata": {
  "kernelspec": {
   "display_name": "Python 3 (ipykernel)",
   "language": "python",
   "name": "python3"
  },
  "language_info": {
   "codemirror_mode": {
    "name": "ipython",
    "version": 3
   },
   "file_extension": ".py",
   "mimetype": "text/x-python",
   "name": "python",
   "nbconvert_exporter": "python",
   "pygments_lexer": "ipython3",
   "version": "3.9.7"
  }
 },
 "nbformat": 4,
 "nbformat_minor": 5
}
