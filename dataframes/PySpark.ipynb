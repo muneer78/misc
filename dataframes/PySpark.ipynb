{
  "nbformat": 4,
  "nbformat_minor": 0,
  "metadata": {
    "colab": {
      "provenance": []
    },
    "kernelspec": {
      "name": "python3",
      "display_name": "Python 3"
    },
    "language_info": {
      "name": "python"
    }
  },
  "cells": [
    {
      "cell_type": "code",
      "source": [
        "# https://spark.apache.org/docs/latest/api/python/getting_started/install.html\n",
        "\n",
        "# PySpark installation using PyPI is as follows:"
      ],
      "metadata": {
        "id": "R0STCqh0zNBn"
      },
      "execution_count": null,
      "outputs": []
    },
    {
      "cell_type": "code",
      "execution_count": null,
      "metadata": {
        "colab": {
          "base_uri": "https://localhost:8080/"
        },
        "id": "JJK_uIy238u7",
        "outputId": "52f5f9bb-e1ea-43b0-d798-cf12f18ca998"
      },
      "outputs": [
        {
          "output_type": "stream",
          "name": "stdout",
          "text": [
            "Collecting pyspark\n",
            "  Downloading pyspark-3.5.1.tar.gz (317.0 MB)\n",
            "\u001b[2K     \u001b[90m━━━━━━━━━━━━━━━━━━━━━━━━━━━━━━━━━━━━━━━━\u001b[0m \u001b[32m317.0/317.0 MB\u001b[0m \u001b[31m3.8 MB/s\u001b[0m eta \u001b[36m0:00:00\u001b[0m\n",
            "\u001b[?25h  Preparing metadata (setup.py) ... \u001b[?25l\u001b[?25hdone\n",
            "Requirement already satisfied: py4j==0.10.9.7 in /usr/local/lib/python3.10/dist-packages (from pyspark) (0.10.9.7)\n",
            "Building wheels for collected packages: pyspark\n",
            "  Building wheel for pyspark (setup.py) ... \u001b[?25l\u001b[?25hdone\n",
            "  Created wheel for pyspark: filename=pyspark-3.5.1-py2.py3-none-any.whl size=317488491 sha256=29a386f284b20f61188d9ce76e2987a28e385667b7b70e0f7d78bfbfa9587c7c\n",
            "  Stored in directory: /root/.cache/pip/wheels/80/1d/60/2c256ed38dddce2fdd93be545214a63e02fbd8d74fb0b7f3a6\n",
            "Successfully built pyspark\n",
            "Installing collected packages: pyspark\n",
            "Successfully installed pyspark-3.5.1\n"
          ]
        }
      ],
      "source": [
        "pip install pyspark"
      ]
    },
    {
      "cell_type": "code",
      "source": [
        "# If you want to install extra TV dependencies for a specific component, you can install it as below:\n",
        "\n",
        "# Spark SQL\n",
        "pip install pyspark[sql]\n",
        "# pandas API on Spark\n",
        "pip install pyspark[pandas_on_spark] plotly  # to plot your data, you can install plotly together.\n",
        "# Spark Connect\n",
        "pip install pyspark[connect]"
      ],
      "metadata": {
        "colab": {
          "base_uri": "https://localhost:8080/",
          "height": 106
        },
        "id": "6bciL4UrigaZ",
        "outputId": "14914bf8-f7a0-4ff9-8723-cad43c5da1a8"
      },
      "execution_count": null,
      "outputs": [
        {
          "output_type": "error",
          "ename": "SyntaxError",
          "evalue": "invalid syntax (<ipython-input-5-10c22eb755a3>, line 4)",
          "traceback": [
            "\u001b[0;36m  File \u001b[0;32m\"<ipython-input-5-10c22eb755a3>\"\u001b[0;36m, line \u001b[0;32m4\u001b[0m\n\u001b[0;31m    pip install pyspark[sql]\u001b[0m\n\u001b[0m        ^\u001b[0m\n\u001b[0;31mSyntaxError\u001b[0m\u001b[0;31m:\u001b[0m invalid syntax\n"
          ]
        }
      ]
    },
    {
      "cell_type": "code",
      "source": [
        "from pyspark import SparkConf\n",
        "from pyspark import SparkContext"
      ],
      "metadata": {
        "id": "XQ9RfFXk3IvO"
      },
      "execution_count": null,
      "outputs": []
    },
    {
      "cell_type": "code",
      "source": [
        "conf = SparkConf().setAppName('SparkRDD').setMaster('local')\n",
        "sc = SparkContext(conf=conf)"
      ],
      "metadata": {
        "id": "vqgVBJCM31Sv"
      },
      "execution_count": null,
      "outputs": []
    },
    {
      "cell_type": "code",
      "source": [
        "# PySpark parallelize() is a function in SparkContext and is used to create an RDD from a list collection\n",
        "# RDDs in PySpark are a collection of partitions\n",
        "# RDD is an immutable distributed collection of elements of your data, partitioned across nodes in your cluster that can be operated in parallel\n",
        "# https://www.databricks.com/blog/2016/07/14/a-tale-of-three-apache-spark-apis-rdds-dataframes-and-datasets.html\n",
        "# https://spark.apache.org/docs/latest//api/python/reference/api/pyspark.RDD.html\n",
        "myRDD = sc.parallelize([('a',1), ('b', 2)])"
      ],
      "metadata": {
        "id": "oIfPwI1-3Lvp"
      },
      "execution_count": null,
      "outputs": []
    },
    {
      "cell_type": "code",
      "source": [
        "myRDD.take(5)"
      ],
      "metadata": {
        "colab": {
          "base_uri": "https://localhost:8080/"
        },
        "id": "Xtv7eptt38b_",
        "outputId": "a873f552-f3fb-470c-f08b-226367158eb8"
      },
      "execution_count": null,
      "outputs": [
        {
          "output_type": "execute_result",
          "data": {
            "text/plain": [
              "[('a', 1), ('b', 2)]"
            ]
          },
          "metadata": {},
          "execution_count": 9
        }
      ]
    },
    {
      "cell_type": "code",
      "source": [
        "myRDD.collect()"
      ],
      "metadata": {
        "colab": {
          "base_uri": "https://localhost:8080/"
        },
        "id": "saXboeyR577i",
        "outputId": "04ce8891-33b2-416b-defa-fdf98e8aadc9"
      },
      "execution_count": null,
      "outputs": [
        {
          "output_type": "execute_result",
          "data": {
            "text/plain": [
              "[('a', 1), ('b', 2)]"
            ]
          },
          "metadata": {},
          "execution_count": 8
        }
      ]
    },
    {
      "cell_type": "code",
      "source": [
        "# generator\n",
        "for i in range(10):\n",
        "    print(i, end=\"\")"
      ],
      "metadata": {
        "colab": {
          "base_uri": "https://localhost:8080/"
        },
        "id": "pEN8p1CB9wTt",
        "outputId": "4b57b6dd-4b4d-4eec-f19b-69e40eea413a"
      },
      "execution_count": null,
      "outputs": [
        {
          "output_type": "stream",
          "name": "stdout",
          "text": [
            "0123456789"
          ]
        }
      ]
    },
    {
      "cell_type": "code",
      "source": [
        "from operator import add\n",
        "sc.parallelize([1,2,3,4,5]).reduce(add)"
      ],
      "metadata": {
        "colab": {
          "base_uri": "https://localhost:8080/"
        },
        "id": "LjLfIXeCDqqq",
        "outputId": "1753b56d-e165-434a-da97-85af0ba8a919"
      },
      "execution_count": null,
      "outputs": [
        {
          "output_type": "execute_result",
          "data": {
            "text/plain": [
              "15"
            ]
          },
          "metadata": {},
          "execution_count": 11
        }
      ]
    },
    {
      "cell_type": "markdown",
      "source": [
        "starting spark session below"
      ],
      "metadata": {
        "id": "a_M6fRET7jlD"
      }
    },
    {
      "cell_type": "code",
      "source": [
        "import pyspark"
      ],
      "metadata": {
        "id": "lwVXJLF23I-3"
      },
      "execution_count": null,
      "outputs": []
    },
    {
      "cell_type": "code",
      "source": [
        "import pandas as pd"
      ],
      "metadata": {
        "id": "lPfZYquI3JiA"
      },
      "execution_count": null,
      "outputs": []
    },
    {
      "cell_type": "code",
      "source": [
        "import os"
      ],
      "metadata": {
        "id": "iSZBHON34V43"
      },
      "execution_count": null,
      "outputs": []
    },
    {
      "cell_type": "code",
      "source": [
        "!ls"
      ],
      "metadata": {
        "colab": {
          "base_uri": "https://localhost:8080/"
        },
        "id": "OO9GVyDo523L",
        "outputId": "687c5d44-d52b-410f-8ebf-b1ec2143ae59"
      },
      "execution_count": null,
      "outputs": [
        {
          "output_type": "stream",
          "name": "stdout",
          "text": [
            "sample_data\n"
          ]
        }
      ]
    },
    {
      "cell_type": "code",
      "source": [
        "df_pandas = pd.read_csv('/content/sample_data/Agent States Check.csv')"
      ],
      "metadata": {
        "id": "-7hMocCw3QaQ"
      },
      "execution_count": null,
      "outputs": []
    },
    {
      "cell_type": "code",
      "source": [
        "df_pandas"
      ],
      "metadata": {
        "colab": {
          "base_uri": "https://localhost:8080/",
          "height": 424
        },
        "id": "qn_iPrzh9Jb3",
        "outputId": "7c688c75-d336-43a3-b9f8-0678cb21cea2"
      },
      "execution_count": null,
      "outputs": [
        {
          "output_type": "execute_result",
          "data": {
            "text/plain": [
              "       call_date state_time              tsr              sname  CallCenterID  \\\n",
              "0     2024-03-08   00:00:00       edu_aayton        Andre Ayton            17   \n",
              "1     2024-03-08   00:00:00     edu_apolanco      Ariel Polanco            17   \n",
              "2     2024-03-08   00:00:00  edu_devwilliams  Devontay Williams            17   \n",
              "3     2024-03-08   00:00:00      edu_dgarcia     Deborah Garcia            17   \n",
              "4     2024-03-08   00:00:00      edu_fdennis       Frank Dennis            17   \n",
              "...          ...        ...              ...                ...           ...   \n",
              "2517  2024-03-08   07:40:54   EGS_IA_lrendon      Lisset Rendon            70   \n",
              "2518  2024-03-08   07:40:54    TS_EF_awright        Adam Wright            72   \n",
              "2519  2024-03-08   07:40:55      edu_idabney   Indonesia Dabney            17   \n",
              "2520  2024-03-08   07:40:55      TS_EF_nhill        Nathan Hill            72   \n",
              "2521  2024-03-08   07:40:55      TS_EF_nhill        Nathan Hill            72   \n",
              "\n",
              "     agent_group   state_name  login_datetime  logout_datetime  Login_Event  \\\n",
              "0             IA  Agent Reset             NaN              NaN            1   \n",
              "1             IA    End Shift             NaN              NaN            1   \n",
              "2             IA  Agent Reset             NaN              NaN            1   \n",
              "3             IA       Logout             NaN              NaN            1   \n",
              "4             IA  Agent Reset             NaN              NaN            1   \n",
              "...          ...          ...             ...              ...          ...   \n",
              "2517       LX_IA      Ringing             NaN              NaN            0   \n",
              "2518      BPO_EF        Ready             NaN              NaN            0   \n",
              "2519          IA        Ready             NaN              NaN            0   \n",
              "2520      BPO_EF      On Call             NaN              NaN            0   \n",
              "2521      BPO_EF      Ringing             NaN              NaN            0   \n",
              "\n",
              "      duration  \n",
              "0        19578  \n",
              "1        17251  \n",
              "2        18631  \n",
              "3        18049  \n",
              "4        18497  \n",
              "...        ...  \n",
              "2517         0  \n",
              "2518         3  \n",
              "2519         0  \n",
              "2520         0  \n",
              "2521         0  \n",
              "\n",
              "[2522 rows x 11 columns]"
            ],
            "text/html": [
              "\n",
              "  <div id=\"df-42fc304d-d08e-41da-b8a6-9272642efcab\" class=\"colab-df-container\">\n",
              "    <div>\n",
              "<style scoped>\n",
              "    .dataframe tbody tr th:only-of-type {\n",
              "        vertical-align: middle;\n",
              "    }\n",
              "\n",
              "    .dataframe tbody tr th {\n",
              "        vertical-align: top;\n",
              "    }\n",
              "\n",
              "    .dataframe thead th {\n",
              "        text-align: right;\n",
              "    }\n",
              "</style>\n",
              "<table border=\"1\" class=\"dataframe\">\n",
              "  <thead>\n",
              "    <tr style=\"text-align: right;\">\n",
              "      <th></th>\n",
              "      <th>call_date</th>\n",
              "      <th>state_time</th>\n",
              "      <th>tsr</th>\n",
              "      <th>sname</th>\n",
              "      <th>CallCenterID</th>\n",
              "      <th>agent_group</th>\n",
              "      <th>state_name</th>\n",
              "      <th>login_datetime</th>\n",
              "      <th>logout_datetime</th>\n",
              "      <th>Login_Event</th>\n",
              "      <th>duration</th>\n",
              "    </tr>\n",
              "  </thead>\n",
              "  <tbody>\n",
              "    <tr>\n",
              "      <th>0</th>\n",
              "      <td>2024-03-08</td>\n",
              "      <td>00:00:00</td>\n",
              "      <td>edu_aayton</td>\n",
              "      <td>Andre Ayton</td>\n",
              "      <td>17</td>\n",
              "      <td>IA</td>\n",
              "      <td>Agent Reset</td>\n",
              "      <td>NaN</td>\n",
              "      <td>NaN</td>\n",
              "      <td>1</td>\n",
              "      <td>19578</td>\n",
              "    </tr>\n",
              "    <tr>\n",
              "      <th>1</th>\n",
              "      <td>2024-03-08</td>\n",
              "      <td>00:00:00</td>\n",
              "      <td>edu_apolanco</td>\n",
              "      <td>Ariel Polanco</td>\n",
              "      <td>17</td>\n",
              "      <td>IA</td>\n",
              "      <td>End Shift</td>\n",
              "      <td>NaN</td>\n",
              "      <td>NaN</td>\n",
              "      <td>1</td>\n",
              "      <td>17251</td>\n",
              "    </tr>\n",
              "    <tr>\n",
              "      <th>2</th>\n",
              "      <td>2024-03-08</td>\n",
              "      <td>00:00:00</td>\n",
              "      <td>edu_devwilliams</td>\n",
              "      <td>Devontay Williams</td>\n",
              "      <td>17</td>\n",
              "      <td>IA</td>\n",
              "      <td>Agent Reset</td>\n",
              "      <td>NaN</td>\n",
              "      <td>NaN</td>\n",
              "      <td>1</td>\n",
              "      <td>18631</td>\n",
              "    </tr>\n",
              "    <tr>\n",
              "      <th>3</th>\n",
              "      <td>2024-03-08</td>\n",
              "      <td>00:00:00</td>\n",
              "      <td>edu_dgarcia</td>\n",
              "      <td>Deborah Garcia</td>\n",
              "      <td>17</td>\n",
              "      <td>IA</td>\n",
              "      <td>Logout</td>\n",
              "      <td>NaN</td>\n",
              "      <td>NaN</td>\n",
              "      <td>1</td>\n",
              "      <td>18049</td>\n",
              "    </tr>\n",
              "    <tr>\n",
              "      <th>4</th>\n",
              "      <td>2024-03-08</td>\n",
              "      <td>00:00:00</td>\n",
              "      <td>edu_fdennis</td>\n",
              "      <td>Frank Dennis</td>\n",
              "      <td>17</td>\n",
              "      <td>IA</td>\n",
              "      <td>Agent Reset</td>\n",
              "      <td>NaN</td>\n",
              "      <td>NaN</td>\n",
              "      <td>1</td>\n",
              "      <td>18497</td>\n",
              "    </tr>\n",
              "    <tr>\n",
              "      <th>...</th>\n",
              "      <td>...</td>\n",
              "      <td>...</td>\n",
              "      <td>...</td>\n",
              "      <td>...</td>\n",
              "      <td>...</td>\n",
              "      <td>...</td>\n",
              "      <td>...</td>\n",
              "      <td>...</td>\n",
              "      <td>...</td>\n",
              "      <td>...</td>\n",
              "      <td>...</td>\n",
              "    </tr>\n",
              "    <tr>\n",
              "      <th>2517</th>\n",
              "      <td>2024-03-08</td>\n",
              "      <td>07:40:54</td>\n",
              "      <td>EGS_IA_lrendon</td>\n",
              "      <td>Lisset Rendon</td>\n",
              "      <td>70</td>\n",
              "      <td>LX_IA</td>\n",
              "      <td>Ringing</td>\n",
              "      <td>NaN</td>\n",
              "      <td>NaN</td>\n",
              "      <td>0</td>\n",
              "      <td>0</td>\n",
              "    </tr>\n",
              "    <tr>\n",
              "      <th>2518</th>\n",
              "      <td>2024-03-08</td>\n",
              "      <td>07:40:54</td>\n",
              "      <td>TS_EF_awright</td>\n",
              "      <td>Adam Wright</td>\n",
              "      <td>72</td>\n",
              "      <td>BPO_EF</td>\n",
              "      <td>Ready</td>\n",
              "      <td>NaN</td>\n",
              "      <td>NaN</td>\n",
              "      <td>0</td>\n",
              "      <td>3</td>\n",
              "    </tr>\n",
              "    <tr>\n",
              "      <th>2519</th>\n",
              "      <td>2024-03-08</td>\n",
              "      <td>07:40:55</td>\n",
              "      <td>edu_idabney</td>\n",
              "      <td>Indonesia Dabney</td>\n",
              "      <td>17</td>\n",
              "      <td>IA</td>\n",
              "      <td>Ready</td>\n",
              "      <td>NaN</td>\n",
              "      <td>NaN</td>\n",
              "      <td>0</td>\n",
              "      <td>0</td>\n",
              "    </tr>\n",
              "    <tr>\n",
              "      <th>2520</th>\n",
              "      <td>2024-03-08</td>\n",
              "      <td>07:40:55</td>\n",
              "      <td>TS_EF_nhill</td>\n",
              "      <td>Nathan Hill</td>\n",
              "      <td>72</td>\n",
              "      <td>BPO_EF</td>\n",
              "      <td>On Call</td>\n",
              "      <td>NaN</td>\n",
              "      <td>NaN</td>\n",
              "      <td>0</td>\n",
              "      <td>0</td>\n",
              "    </tr>\n",
              "    <tr>\n",
              "      <th>2521</th>\n",
              "      <td>2024-03-08</td>\n",
              "      <td>07:40:55</td>\n",
              "      <td>TS_EF_nhill</td>\n",
              "      <td>Nathan Hill</td>\n",
              "      <td>72</td>\n",
              "      <td>BPO_EF</td>\n",
              "      <td>Ringing</td>\n",
              "      <td>NaN</td>\n",
              "      <td>NaN</td>\n",
              "      <td>0</td>\n",
              "      <td>0</td>\n",
              "    </tr>\n",
              "  </tbody>\n",
              "</table>\n",
              "<p>2522 rows × 11 columns</p>\n",
              "</div>\n",
              "    <div class=\"colab-df-buttons\">\n",
              "\n",
              "  <div class=\"colab-df-container\">\n",
              "    <button class=\"colab-df-convert\" onclick=\"convertToInteractive('df-42fc304d-d08e-41da-b8a6-9272642efcab')\"\n",
              "            title=\"Convert this dataframe to an interactive table.\"\n",
              "            style=\"display:none;\">\n",
              "\n",
              "  <svg xmlns=\"http://www.w3.org/2000/svg\" height=\"24px\" viewBox=\"0 -960 960 960\">\n",
              "    <path d=\"M120-120v-720h720v720H120Zm60-500h600v-160H180v160Zm220 220h160v-160H400v160Zm0 220h160v-160H400v160ZM180-400h160v-160H180v160Zm440 0h160v-160H620v160ZM180-180h160v-160H180v160Zm440 0h160v-160H620v160Z\"/>\n",
              "  </svg>\n",
              "    </button>\n",
              "\n",
              "  <style>\n",
              "    .colab-df-container {\n",
              "      display:flex;\n",
              "      gap: 12px;\n",
              "    }\n",
              "\n",
              "    .colab-df-convert {\n",
              "      background-color: #E8F0FE;\n",
              "      border: none;\n",
              "      border-radius: 50%;\n",
              "      cursor: pointer;\n",
              "      display: none;\n",
              "      fill: #1967D2;\n",
              "      height: 32px;\n",
              "      padding: 0 0 0 0;\n",
              "      width: 32px;\n",
              "    }\n",
              "\n",
              "    .colab-df-convert:hover {\n",
              "      background-color: #E2EBFA;\n",
              "      box-shadow: 0px 1px 2px rgba(60, 64, 67, 0.3), 0px 1px 3px 1px rgba(60, 64, 67, 0.15);\n",
              "      fill: #174EA6;\n",
              "    }\n",
              "\n",
              "    .colab-df-buttons div {\n",
              "      margin-bottom: 4px;\n",
              "    }\n",
              "\n",
              "    [theme=dark] .colab-df-convert {\n",
              "      background-color: #3B4455;\n",
              "      fill: #D2E3FC;\n",
              "    }\n",
              "\n",
              "    [theme=dark] .colab-df-convert:hover {\n",
              "      background-color: #434B5C;\n",
              "      box-shadow: 0px 1px 3px 1px rgba(0, 0, 0, 0.15);\n",
              "      filter: drop-shadow(0px 1px 2px rgba(0, 0, 0, 0.3));\n",
              "      fill: #FFFFFF;\n",
              "    }\n",
              "  </style>\n",
              "\n",
              "    <script>\n",
              "      const buttonEl =\n",
              "        document.querySelector('#df-42fc304d-d08e-41da-b8a6-9272642efcab button.colab-df-convert');\n",
              "      buttonEl.style.display =\n",
              "        google.colab.kernel.accessAllowed ? 'block' : 'none';\n",
              "\n",
              "      async function convertToInteractive(key) {\n",
              "        const element = document.querySelector('#df-42fc304d-d08e-41da-b8a6-9272642efcab');\n",
              "        const dataTable =\n",
              "          await google.colab.kernel.invokeFunction('convertToInteractive',\n",
              "                                                    [key], {});\n",
              "        if (!dataTable) return;\n",
              "\n",
              "        const docLinkHtml = 'Like what you see? Visit the ' +\n",
              "          '<a target=\"_blank\" href=https://colab.research.google.com/notebooks/data_table.ipynb>data table notebook</a>'\n",
              "          + ' to learn more about interactive tables.';\n",
              "        element.innerHTML = '';\n",
              "        dataTable['output_type'] = 'display_data';\n",
              "        await google.colab.output.renderOutput(dataTable, element);\n",
              "        const docLink = document.createElement('div');\n",
              "        docLink.innerHTML = docLinkHtml;\n",
              "        element.appendChild(docLink);\n",
              "      }\n",
              "    </script>\n",
              "  </div>\n",
              "\n",
              "\n",
              "<div id=\"df-ce4acad0-4d5f-40b6-8a60-f7e1b7d46286\">\n",
              "  <button class=\"colab-df-quickchart\" onclick=\"quickchart('df-ce4acad0-4d5f-40b6-8a60-f7e1b7d46286')\"\n",
              "            title=\"Suggest charts\"\n",
              "            style=\"display:none;\">\n",
              "\n",
              "<svg xmlns=\"http://www.w3.org/2000/svg\" height=\"24px\"viewBox=\"0 0 24 24\"\n",
              "     width=\"24px\">\n",
              "    <g>\n",
              "        <path d=\"M19 3H5c-1.1 0-2 .9-2 2v14c0 1.1.9 2 2 2h14c1.1 0 2-.9 2-2V5c0-1.1-.9-2-2-2zM9 17H7v-7h2v7zm4 0h-2V7h2v10zm4 0h-2v-4h2v4z\"/>\n",
              "    </g>\n",
              "</svg>\n",
              "  </button>\n",
              "\n",
              "<style>\n",
              "  .colab-df-quickchart {\n",
              "      --bg-color: #E8F0FE;\n",
              "      --fill-color: #1967D2;\n",
              "      --hover-bg-color: #E2EBFA;\n",
              "      --hover-fill-color: #174EA6;\n",
              "      --disabled-fill-color: #AAA;\n",
              "      --disabled-bg-color: #DDD;\n",
              "  }\n",
              "\n",
              "  [theme=dark] .colab-df-quickchart {\n",
              "      --bg-color: #3B4455;\n",
              "      --fill-color: #D2E3FC;\n",
              "      --hover-bg-color: #434B5C;\n",
              "      --hover-fill-color: #FFFFFF;\n",
              "      --disabled-bg-color: #3B4455;\n",
              "      --disabled-fill-color: #666;\n",
              "  }\n",
              "\n",
              "  .colab-df-quickchart {\n",
              "    background-color: var(--bg-color);\n",
              "    border: none;\n",
              "    border-radius: 50%;\n",
              "    cursor: pointer;\n",
              "    display: none;\n",
              "    fill: var(--fill-color);\n",
              "    height: 32px;\n",
              "    padding: 0;\n",
              "    width: 32px;\n",
              "  }\n",
              "\n",
              "  .colab-df-quickchart:hover {\n",
              "    background-color: var(--hover-bg-color);\n",
              "    box-shadow: 0 1px 2px rgba(60, 64, 67, 0.3), 0 1px 3px 1px rgba(60, 64, 67, 0.15);\n",
              "    fill: var(--button-hover-fill-color);\n",
              "  }\n",
              "\n",
              "  .colab-df-quickchart-complete:disabled,\n",
              "  .colab-df-quickchart-complete:disabled:hover {\n",
              "    background-color: var(--disabled-bg-color);\n",
              "    fill: var(--disabled-fill-color);\n",
              "    box-shadow: none;\n",
              "  }\n",
              "\n",
              "  .colab-df-spinner {\n",
              "    border: 2px solid var(--fill-color);\n",
              "    border-color: transparent;\n",
              "    border-bottom-color: var(--fill-color);\n",
              "    animation:\n",
              "      spin 1s steps(1) infinite;\n",
              "  }\n",
              "\n",
              "  @keyframes spin {\n",
              "    0% {\n",
              "      border-color: transparent;\n",
              "      border-bottom-color: var(--fill-color);\n",
              "      border-left-color: var(--fill-color);\n",
              "    }\n",
              "    20% {\n",
              "      border-color: transparent;\n",
              "      border-left-color: var(--fill-color);\n",
              "      border-top-color: var(--fill-color);\n",
              "    }\n",
              "    30% {\n",
              "      border-color: transparent;\n",
              "      border-left-color: var(--fill-color);\n",
              "      border-top-color: var(--fill-color);\n",
              "      border-right-color: var(--fill-color);\n",
              "    }\n",
              "    40% {\n",
              "      border-color: transparent;\n",
              "      border-right-color: var(--fill-color);\n",
              "      border-top-color: var(--fill-color);\n",
              "    }\n",
              "    60% {\n",
              "      border-color: transparent;\n",
              "      border-right-color: var(--fill-color);\n",
              "    }\n",
              "    80% {\n",
              "      border-color: transparent;\n",
              "      border-right-color: var(--fill-color);\n",
              "      border-bottom-color: var(--fill-color);\n",
              "    }\n",
              "    90% {\n",
              "      border-color: transparent;\n",
              "      border-bottom-color: var(--fill-color);\n",
              "    }\n",
              "  }\n",
              "</style>\n",
              "\n",
              "  <script>\n",
              "    async function quickchart(key) {\n",
              "      const quickchartButtonEl =\n",
              "        document.querySelector('#' + key + ' button');\n",
              "      quickchartButtonEl.disabled = true;  // To prevent multiple clicks.\n",
              "      quickchartButtonEl.classList.add('colab-df-spinner');\n",
              "      try {\n",
              "        const charts = await google.colab.kernel.invokeFunction(\n",
              "            'suggestCharts', [key], {});\n",
              "      } catch (error) {\n",
              "        console.error('Error during call to suggestCharts:', error);\n",
              "      }\n",
              "      quickchartButtonEl.classList.remove('colab-df-spinner');\n",
              "      quickchartButtonEl.classList.add('colab-df-quickchart-complete');\n",
              "    }\n",
              "    (() => {\n",
              "      let quickchartButtonEl =\n",
              "        document.querySelector('#df-ce4acad0-4d5f-40b6-8a60-f7e1b7d46286 button');\n",
              "      quickchartButtonEl.style.display =\n",
              "        google.colab.kernel.accessAllowed ? 'block' : 'none';\n",
              "    })();\n",
              "  </script>\n",
              "</div>\n",
              "\n",
              "  <div id=\"id_27703712-7383-4e35-ac6b-0687d6b0c5db\">\n",
              "    <style>\n",
              "      .colab-df-generate {\n",
              "        background-color: #E8F0FE;\n",
              "        border: none;\n",
              "        border-radius: 50%;\n",
              "        cursor: pointer;\n",
              "        display: none;\n",
              "        fill: #1967D2;\n",
              "        height: 32px;\n",
              "        padding: 0 0 0 0;\n",
              "        width: 32px;\n",
              "      }\n",
              "\n",
              "      .colab-df-generate:hover {\n",
              "        background-color: #E2EBFA;\n",
              "        box-shadow: 0px 1px 2px rgba(60, 64, 67, 0.3), 0px 1px 3px 1px rgba(60, 64, 67, 0.15);\n",
              "        fill: #174EA6;\n",
              "      }\n",
              "\n",
              "      [theme=dark] .colab-df-generate {\n",
              "        background-color: #3B4455;\n",
              "        fill: #D2E3FC;\n",
              "      }\n",
              "\n",
              "      [theme=dark] .colab-df-generate:hover {\n",
              "        background-color: #434B5C;\n",
              "        box-shadow: 0px 1px 3px 1px rgba(0, 0, 0, 0.15);\n",
              "        filter: drop-shadow(0px 1px 2px rgba(0, 0, 0, 0.3));\n",
              "        fill: #FFFFFF;\n",
              "      }\n",
              "    </style>\n",
              "    <button class=\"colab-df-generate\" onclick=\"generateWithVariable('df_pandas')\"\n",
              "            title=\"Generate code using this dataframe.\"\n",
              "            style=\"display:none;\">\n",
              "\n",
              "  <svg xmlns=\"http://www.w3.org/2000/svg\" height=\"24px\"viewBox=\"0 0 24 24\"\n",
              "       width=\"24px\">\n",
              "    <path d=\"M7,19H8.4L18.45,9,17,7.55,7,17.6ZM5,21V16.75L18.45,3.32a2,2,0,0,1,2.83,0l1.4,1.43a1.91,1.91,0,0,1,.58,1.4,1.91,1.91,0,0,1-.58,1.4L9.25,21ZM18.45,9,17,7.55Zm-12,3A5.31,5.31,0,0,0,4.9,8.1,5.31,5.31,0,0,0,1,6.5,5.31,5.31,0,0,0,4.9,4.9,5.31,5.31,0,0,0,6.5,1,5.31,5.31,0,0,0,8.1,4.9,5.31,5.31,0,0,0,12,6.5,5.46,5.46,0,0,0,6.5,12Z\"/>\n",
              "  </svg>\n",
              "    </button>\n",
              "    <script>\n",
              "      (() => {\n",
              "      const buttonEl =\n",
              "        document.querySelector('#id_27703712-7383-4e35-ac6b-0687d6b0c5db button.colab-df-generate');\n",
              "      buttonEl.style.display =\n",
              "        google.colab.kernel.accessAllowed ? 'block' : 'none';\n",
              "\n",
              "      buttonEl.onclick = () => {\n",
              "        google.colab.notebook.generateWithVariable('df_pandas');\n",
              "      }\n",
              "      })();\n",
              "    </script>\n",
              "  </div>\n",
              "\n",
              "    </div>\n",
              "  </div>\n"
            ],
            "application/vnd.google.colaboratory.intrinsic+json": {
              "type": "dataframe",
              "variable_name": "df_pandas",
              "summary": "{\n  \"name\": \"df_pandas\",\n  \"rows\": 2522,\n  \"fields\": [\n    {\n      \"column\": \"call_date\",\n      \"properties\": {\n        \"dtype\": \"object\",\n        \"num_unique_values\": 1,\n        \"samples\": [\n          \"2024-03-08\"\n        ],\n        \"semantic_type\": \"\",\n        \"description\": \"\"\n      }\n    },\n    {\n      \"column\": \"state_time\",\n      \"properties\": {\n        \"dtype\": \"object\",\n        \"num_unique_values\": 1186,\n        \"samples\": [\n          \"07:14:00\"\n        ],\n        \"semantic_type\": \"\",\n        \"description\": \"\"\n      }\n    },\n    {\n      \"column\": \"tsr\",\n      \"properties\": {\n        \"dtype\": \"category\",\n        \"num_unique_values\": 44,\n        \"samples\": [\n          \"TS_EF_ecooper\"\n        ],\n        \"semantic_type\": \"\",\n        \"description\": \"\"\n      }\n    },\n    {\n      \"column\": \"sname\",\n      \"properties\": {\n        \"dtype\": \"category\",\n        \"num_unique_values\": 44,\n        \"samples\": [\n          \"Ellie Cooper\"\n        ],\n        \"semantic_type\": \"\",\n        \"description\": \"\"\n      }\n    },\n    {\n      \"column\": \"CallCenterID\",\n      \"properties\": {\n        \"dtype\": \"number\",\n        \"std\": 25,\n        \"min\": 17,\n        \"max\": 72,\n        \"num_unique_values\": 3,\n        \"samples\": [\n          17\n        ],\n        \"semantic_type\": \"\",\n        \"description\": \"\"\n      }\n    },\n    {\n      \"column\": \"agent_group\",\n      \"properties\": {\n        \"dtype\": \"category\",\n        \"num_unique_values\": 3,\n        \"samples\": [\n          \"IA\"\n        ],\n        \"semantic_type\": \"\",\n        \"description\": \"\"\n      }\n    },\n    {\n      \"column\": \"state_name\",\n      \"properties\": {\n        \"dtype\": \"category\",\n        \"num_unique_values\": 12,\n        \"samples\": [\n          \"Forced\"\n        ],\n        \"semantic_type\": \"\",\n        \"description\": \"\"\n      }\n    },\n    {\n      \"column\": \"login_datetime\",\n      \"properties\": {\n        \"dtype\": \"number\",\n        \"std\": null,\n        \"min\": null,\n        \"max\": null,\n        \"num_unique_values\": 0,\n        \"samples\": [],\n        \"semantic_type\": \"\",\n        \"description\": \"\"\n      }\n    },\n    {\n      \"column\": \"logout_datetime\",\n      \"properties\": {\n        \"dtype\": \"number\",\n        \"std\": null,\n        \"min\": null,\n        \"max\": null,\n        \"num_unique_values\": 0,\n        \"samples\": [],\n        \"semantic_type\": \"\",\n        \"description\": \"\"\n      }\n    },\n    {\n      \"column\": \"Login_Event\",\n      \"properties\": {\n        \"dtype\": \"number\",\n        \"std\": 0,\n        \"min\": 0,\n        \"max\": 1,\n        \"num_unique_values\": 2,\n        \"samples\": [],\n        \"semantic_type\": \"\",\n        \"description\": \"\"\n      }\n    },\n    {\n      \"column\": \"duration\",\n      \"properties\": {\n        \"dtype\": \"number\",\n        \"std\": 2023,\n        \"min\": 0,\n        \"max\": 20392,\n        \"num_unique_values\": 194,\n        \"samples\": [],\n        \"semantic_type\": \"\",\n        \"description\": \"\"\n      }\n    }\n  ]\n}"
            }
          },
          "metadata": {},
          "execution_count": 44
        }
      ]
    },
    {
      "cell_type": "code",
      "source": [
        "type(df_pandas)"
      ],
      "metadata": {
        "colab": {
          "base_uri": "https://localhost:8080/",
          "height": 204
        },
        "id": "IaiC_Z5j9Dcf",
        "outputId": "6218743a-cc07-41b9-f1fc-44d39f20128c"
      },
      "execution_count": null,
      "outputs": [
        {
          "output_type": "execute_result",
          "data": {
            "text/plain": [
              "pandas.core.frame.DataFrame"
            ],
            "text/html": [
              "<div style=\"max-width:800px; border: 1px solid var(--colab-border-color);\"><style>\n",
              "      pre.function-repr-contents {\n",
              "        overflow-x: auto;\n",
              "        padding: 8px 12px;\n",
              "        max-height: 500px;\n",
              "      }\n",
              "\n",
              "      pre.function-repr-contents.function-repr-contents-collapsed {\n",
              "        cursor: pointer;\n",
              "        max-height: 100px;\n",
              "      }\n",
              "    </style>\n",
              "    <pre style=\"white-space: initial; background:\n",
              "         var(--colab-secondary-surface-color); padding: 8px 12px;\n",
              "         border-bottom: 1px solid var(--colab-border-color);\"><b>pandas.core.frame.DataFrame</b><br/>def __init__(data=None, index: Axes | None=None, columns: Axes | None=None, dtype: Dtype | None=None, copy: bool | None=None) -&gt; None</pre><pre class=\"function-repr-contents function-repr-contents-collapsed\" style=\"\"><a class=\"filepath\" style=\"display:none\" href=\"#\">/usr/local/lib/python3.10/dist-packages/pandas/core/frame.py</a>Two-dimensional, size-mutable, potentially heterogeneous tabular data.\n",
              "\n",
              "Data structure also contains labeled axes (rows and columns).\n",
              "Arithmetic operations align on both row and column labels. Can be\n",
              "thought of as a dict-like container for Series objects. The primary\n",
              "pandas data structure.\n",
              "\n",
              "Parameters\n",
              "----------\n",
              "data : ndarray (structured or homogeneous), Iterable, dict, or DataFrame\n",
              "    Dict can contain Series, arrays, constants, dataclass or list-like objects. If\n",
              "    data is a dict, column order follows insertion-order. If a dict contains Series\n",
              "    which have an index defined, it is aligned by its index. This alignment also\n",
              "    occurs if data is a Series or a DataFrame itself. Alignment is done on\n",
              "    Series/DataFrame inputs.\n",
              "\n",
              "    If data is a list of dicts, column order follows insertion-order.\n",
              "\n",
              "index : Index or array-like\n",
              "    Index to use for resulting frame. Will default to RangeIndex if\n",
              "    no indexing information part of input data and no index provided.\n",
              "columns : Index or array-like\n",
              "    Column labels to use for resulting frame when data does not have them,\n",
              "    defaulting to RangeIndex(0, 1, 2, ..., n). If data contains column labels,\n",
              "    will perform column selection instead.\n",
              "dtype : dtype, default None\n",
              "    Data type to force. Only a single dtype is allowed. If None, infer.\n",
              "copy : bool or None, default None\n",
              "    Copy data from inputs.\n",
              "    For dict data, the default of None behaves like ``copy=True``.  For DataFrame\n",
              "    or 2d ndarray input, the default of None behaves like ``copy=False``.\n",
              "    If data is a dict containing one or more Series (possibly of different dtypes),\n",
              "    ``copy=False`` will ensure that these inputs are not copied.\n",
              "\n",
              "    .. versionchanged:: 1.3.0\n",
              "\n",
              "See Also\n",
              "--------\n",
              "DataFrame.from_records : Constructor from tuples, also record arrays.\n",
              "DataFrame.from_dict : From dicts of Series, arrays, or dicts.\n",
              "read_csv : Read a comma-separated values (csv) file into DataFrame.\n",
              "read_table : Read general delimited file into DataFrame.\n",
              "read_clipboard : Read text from clipboard into DataFrame.\n",
              "\n",
              "Notes\n",
              "-----\n",
              "Please reference the :ref:`User Guide &lt;basics.dataframe&gt;` for more information.\n",
              "\n",
              "Examples\n",
              "--------\n",
              "Constructing DataFrame from a dictionary.\n",
              "\n",
              "&gt;&gt;&gt; d = {&#x27;col1&#x27;: [1, 2], &#x27;col2&#x27;: [3, 4]}\n",
              "&gt;&gt;&gt; df = pd.DataFrame(data=d)\n",
              "&gt;&gt;&gt; df\n",
              "   col1  col2\n",
              "0     1     3\n",
              "1     2     4\n",
              "\n",
              "Notice that the inferred dtype is int64.\n",
              "\n",
              "&gt;&gt;&gt; df.dtypes\n",
              "col1    int64\n",
              "col2    int64\n",
              "dtype: object\n",
              "\n",
              "To enforce a single dtype:\n",
              "\n",
              "&gt;&gt;&gt; df = pd.DataFrame(data=d, dtype=np.int8)\n",
              "&gt;&gt;&gt; df.dtypes\n",
              "col1    int8\n",
              "col2    int8\n",
              "dtype: object\n",
              "\n",
              "Constructing DataFrame from a dictionary including Series:\n",
              "\n",
              "&gt;&gt;&gt; d = {&#x27;col1&#x27;: [0, 1, 2, 3], &#x27;col2&#x27;: pd.Series([2, 3], index=[2, 3])}\n",
              "&gt;&gt;&gt; pd.DataFrame(data=d, index=[0, 1, 2, 3])\n",
              "   col1  col2\n",
              "0     0   NaN\n",
              "1     1   NaN\n",
              "2     2   2.0\n",
              "3     3   3.0\n",
              "\n",
              "Constructing DataFrame from numpy ndarray:\n",
              "\n",
              "&gt;&gt;&gt; df2 = pd.DataFrame(np.array([[1, 2, 3], [4, 5, 6], [7, 8, 9]]),\n",
              "...                    columns=[&#x27;a&#x27;, &#x27;b&#x27;, &#x27;c&#x27;])\n",
              "&gt;&gt;&gt; df2\n",
              "   a  b  c\n",
              "0  1  2  3\n",
              "1  4  5  6\n",
              "2  7  8  9\n",
              "\n",
              "Constructing DataFrame from a numpy ndarray that has labeled columns:\n",
              "\n",
              "&gt;&gt;&gt; data = np.array([(1, 2, 3), (4, 5, 6), (7, 8, 9)],\n",
              "...                 dtype=[(&quot;a&quot;, &quot;i4&quot;), (&quot;b&quot;, &quot;i4&quot;), (&quot;c&quot;, &quot;i4&quot;)])\n",
              "&gt;&gt;&gt; df3 = pd.DataFrame(data, columns=[&#x27;c&#x27;, &#x27;a&#x27;])\n",
              "...\n",
              "&gt;&gt;&gt; df3\n",
              "   c  a\n",
              "0  3  1\n",
              "1  6  4\n",
              "2  9  7\n",
              "\n",
              "Constructing DataFrame from dataclass:\n",
              "\n",
              "&gt;&gt;&gt; from dataclasses import make_dataclass\n",
              "&gt;&gt;&gt; Point = make_dataclass(&quot;Point&quot;, [(&quot;x&quot;, int), (&quot;y&quot;, int)])\n",
              "&gt;&gt;&gt; pd.DataFrame([Point(0, 0), Point(0, 3), Point(2, 3)])\n",
              "   x  y\n",
              "0  0  0\n",
              "1  0  3\n",
              "2  2  3\n",
              "\n",
              "Constructing DataFrame from Series/DataFrame:\n",
              "\n",
              "&gt;&gt;&gt; ser = pd.Series([1, 2, 3], index=[&quot;a&quot;, &quot;b&quot;, &quot;c&quot;])\n",
              "&gt;&gt;&gt; df = pd.DataFrame(data=ser, index=[&quot;a&quot;, &quot;c&quot;])\n",
              "&gt;&gt;&gt; df\n",
              "   0\n",
              "a  1\n",
              "c  3\n",
              "\n",
              "&gt;&gt;&gt; df1 = pd.DataFrame([1, 2, 3], index=[&quot;a&quot;, &quot;b&quot;, &quot;c&quot;], columns=[&quot;x&quot;])\n",
              "&gt;&gt;&gt; df2 = pd.DataFrame(data=df1, index=[&quot;a&quot;, &quot;c&quot;])\n",
              "&gt;&gt;&gt; df2\n",
              "   x\n",
              "a  1\n",
              "c  3</pre>\n",
              "      <script>\n",
              "      if (google.colab.kernel.accessAllowed && google.colab.files && google.colab.files.view) {\n",
              "        for (const element of document.querySelectorAll('.filepath')) {\n",
              "          element.style.display = 'block'\n",
              "          element.onclick = (event) => {\n",
              "            event.preventDefault();\n",
              "            event.stopPropagation();\n",
              "            google.colab.files.view(element.textContent, 490);\n",
              "          };\n",
              "        }\n",
              "      }\n",
              "      for (const element of document.querySelectorAll('.function-repr-contents')) {\n",
              "        element.onclick = (event) => {\n",
              "          event.preventDefault();\n",
              "          event.stopPropagation();\n",
              "          element.classList.toggle('function-repr-contents-collapsed');\n",
              "        };\n",
              "      }\n",
              "      </script>\n",
              "      </div>"
            ]
          },
          "metadata": {},
          "execution_count": 43
        }
      ]
    },
    {
      "cell_type": "code",
      "source": [
        "from pyspark.sql import SparkSession"
      ],
      "metadata": {
        "id": "1iL0ZFQ762aZ"
      },
      "execution_count": null,
      "outputs": []
    },
    {
      "cell_type": "code",
      "source": [
        "spark = SparkSession.builder.appName('TestApp').getOrCreate()"
      ],
      "metadata": {
        "id": "AtKY4IGT6_yb"
      },
      "execution_count": null,
      "outputs": []
    },
    {
      "cell_type": "code",
      "source": [
        "spark"
      ],
      "metadata": {
        "colab": {
          "base_uri": "https://localhost:8080/",
          "height": 219
        },
        "id": "oFKsFoim7CAL",
        "outputId": "b33d1dd3-5aed-4041-b3b0-4d720d57fe67"
      },
      "execution_count": null,
      "outputs": [
        {
          "output_type": "execute_result",
          "data": {
            "text/plain": [
              "<pyspark.sql.session.SparkSession at 0x7b642d3e9990>"
            ],
            "text/html": [
              "\n",
              "            <div>\n",
              "                <p><b>SparkSession - in-memory</b></p>\n",
              "                \n",
              "        <div>\n",
              "            <p><b>SparkContext</b></p>\n",
              "\n",
              "            <p><a href=\"http://5d13ec06b1bf:4040\">Spark UI</a></p>\n",
              "\n",
              "            <dl>\n",
              "              <dt>Version</dt>\n",
              "                <dd><code>v3.5.1</code></dd>\n",
              "              <dt>Master</dt>\n",
              "                <dd><code>local[*]</code></dd>\n",
              "              <dt>AppName</dt>\n",
              "                <dd><code>TestApp</code></dd>\n",
              "            </dl>\n",
              "        </div>\n",
              "        \n",
              "            </div>\n",
              "        "
            ]
          },
          "metadata": {},
          "execution_count": 45
        }
      ]
    },
    {
      "cell_type": "code",
      "source": [
        "df_pyspark = spark.read.option('header', 'true').csv('/content/sample_data/Agent States Check.csv')"
      ],
      "metadata": {
        "id": "Hx0XoQjJ2lAP"
      },
      "execution_count": null,
      "outputs": []
    },
    {
      "cell_type": "code",
      "source": [
        "df_pyspark = spark.read.csv('/content/sample_data/Agent States Check.csv', header=True, inferSchema=True)"
      ],
      "metadata": {
        "id": "rPm8Eh-JBSre"
      },
      "execution_count": null,
      "outputs": []
    },
    {
      "cell_type": "code",
      "source": [
        "df_pyspark.show(10)"
      ],
      "metadata": {
        "colab": {
          "base_uri": "https://localhost:8080/"
        },
        "id": "OvKxodlX9dqL",
        "outputId": "29edcbaa-c996-4182-c352-de627b4488ce"
      },
      "execution_count": null,
      "outputs": [
        {
          "output_type": "stream",
          "name": "stdout",
          "text": [
            "+----------+----------+---------------+-------------------+------------+-----------+-----------+--------------+---------------+-----------+--------+\n",
            "| call_date|state_time|            tsr|              sname|CallCenterID|agent_group| state_name|login_datetime|logout_datetime|Login_Event|duration|\n",
            "+----------+----------+---------------+-------------------+------------+-----------+-----------+--------------+---------------+-----------+--------+\n",
            "|2024-03-08|  00:00:00|     edu_aayton|        Andre Ayton|          17|         IA|Agent Reset|          NULL|           NULL|          1|   19578|\n",
            "|2024-03-08|  00:00:00|   edu_apolanco|      Ariel Polanco|          17|         IA|  End Shift|          NULL|           NULL|          1|   17251|\n",
            "|2024-03-08|  00:00:00|edu_devwilliams|  Devontay Williams|          17|         IA|Agent Reset|          NULL|           NULL|          1|   18631|\n",
            "|2024-03-08|  00:00:00|    edu_dgarcia|     Deborah Garcia|          17|         IA|     Logout|          NULL|           NULL|          1|   18049|\n",
            "|2024-03-08|  00:00:00|    edu_fdennis|       Frank Dennis|          17|         IA|Agent Reset|          NULL|           NULL|          1|   18497|\n",
            "|2024-03-08|  00:00:00|     edu_gallen|         Greg Allen|          17|         IA|Agent Reset|          NULL|           NULL|          1|   16785|\n",
            "|2024-03-08|  00:00:00|      edu_ghall|       Gerrard Hall|          17|         IA|  End Shift|          NULL|           NULL|          1|   20053|\n",
            "|2024-03-08|  00:00:00| edu_glanzafame|Gabrielle Lanzafame|          17|         IA|Agent Reset|          NULL|           NULL|          1|   17729|\n",
            "|2024-03-08|  00:00:00|    edu_idabney|   Indonesia Dabney|          17|         IA|Agent Reset|          NULL|           NULL|          1|   19892|\n",
            "|2024-03-08|  00:00:00|     edu_kcline|        Kelly Cline|          17|         IA|  End Shift|          NULL|           NULL|          1|   17747|\n",
            "+----------+----------+---------------+-------------------+------------+-----------+-----------+--------------+---------------+-----------+--------+\n",
            "only showing top 10 rows\n",
            "\n"
          ]
        }
      ]
    },
    {
      "cell_type": "code",
      "source": [
        "df_pyspark"
      ],
      "metadata": {
        "colab": {
          "base_uri": "https://localhost:8080/"
        },
        "id": "V-mcQXp_7rkK",
        "outputId": "fe554a08-5aab-4945-af77-121a8515530d"
      },
      "execution_count": null,
      "outputs": [
        {
          "output_type": "execute_result",
          "data": {
            "text/plain": [
              "DataFrame[call_date: string, state_time: string, tsr: string, sname: string, CallCenterID: string, agent_group: string, state_name: string, login_datetime: string, logout_datetime: string, Login_Event: string, duration: string]"
            ]
          },
          "metadata": {},
          "execution_count": 62
        }
      ]
    },
    {
      "cell_type": "code",
      "source": [
        "type(df_pyspark)"
      ],
      "metadata": {
        "colab": {
          "base_uri": "https://localhost:8080/",
          "height": 187
        },
        "id": "LCr0tI4I8lPB",
        "outputId": "e30ed1b3-a41b-433a-d631-3a839fd70e92"
      },
      "execution_count": null,
      "outputs": [
        {
          "output_type": "execute_result",
          "data": {
            "text/plain": [
              "pyspark.sql.dataframe.DataFrame"
            ],
            "text/html": [
              "<div style=\"max-width:800px; border: 1px solid var(--colab-border-color);\"><style>\n",
              "      pre.function-repr-contents {\n",
              "        overflow-x: auto;\n",
              "        padding: 8px 12px;\n",
              "        max-height: 500px;\n",
              "      }\n",
              "\n",
              "      pre.function-repr-contents.function-repr-contents-collapsed {\n",
              "        cursor: pointer;\n",
              "        max-height: 100px;\n",
              "      }\n",
              "    </style>\n",
              "    <pre style=\"white-space: initial; background:\n",
              "         var(--colab-secondary-surface-color); padding: 8px 12px;\n",
              "         border-bottom: 1px solid var(--colab-border-color);\"><b>pyspark.sql.dataframe.DataFrame</b><br/>def __init__(jdf: JavaObject, sql_ctx: Union[&#x27;SQLContext&#x27;, &#x27;SparkSession&#x27;])</pre><pre class=\"function-repr-contents function-repr-contents-collapsed\" style=\"\"><a class=\"filepath\" style=\"display:none\" href=\"#\">/usr/local/lib/python3.10/dist-packages/pyspark/sql/dataframe.py</a>A distributed collection of data grouped into named columns.\n",
              "\n",
              ".. versionadded:: 1.3.0\n",
              "\n",
              ".. versionchanged:: 3.4.0\n",
              "    Supports Spark Connect.\n",
              "\n",
              "Examples\n",
              "--------\n",
              "A :class:`DataFrame` is equivalent to a relational table in Spark SQL,\n",
              "and can be created using various functions in :class:`SparkSession`:\n",
              "\n",
              "&gt;&gt;&gt; people = spark.createDataFrame([\n",
              "...     {&quot;deptId&quot;: 1, &quot;age&quot;: 40, &quot;name&quot;: &quot;Hyukjin Kwon&quot;, &quot;gender&quot;: &quot;M&quot;, &quot;salary&quot;: 50},\n",
              "...     {&quot;deptId&quot;: 1, &quot;age&quot;: 50, &quot;name&quot;: &quot;Takuya Ueshin&quot;, &quot;gender&quot;: &quot;M&quot;, &quot;salary&quot;: 100},\n",
              "...     {&quot;deptId&quot;: 2, &quot;age&quot;: 60, &quot;name&quot;: &quot;Xinrong Meng&quot;, &quot;gender&quot;: &quot;F&quot;, &quot;salary&quot;: 150},\n",
              "...     {&quot;deptId&quot;: 3, &quot;age&quot;: 20, &quot;name&quot;: &quot;Haejoon Lee&quot;, &quot;gender&quot;: &quot;M&quot;, &quot;salary&quot;: 200}\n",
              "... ])\n",
              "\n",
              "Once created, it can be manipulated using the various domain-specific-language\n",
              "(DSL) functions defined in: :class:`DataFrame`, :class:`Column`.\n",
              "\n",
              "To select a column from the :class:`DataFrame`, use the apply method:\n",
              "\n",
              "&gt;&gt;&gt; age_col = people.age\n",
              "\n",
              "A more concrete example:\n",
              "\n",
              "&gt;&gt;&gt; # To create DataFrame using SparkSession\n",
              "... department = spark.createDataFrame([\n",
              "...     {&quot;id&quot;: 1, &quot;name&quot;: &quot;PySpark&quot;},\n",
              "...     {&quot;id&quot;: 2, &quot;name&quot;: &quot;ML&quot;},\n",
              "...     {&quot;id&quot;: 3, &quot;name&quot;: &quot;Spark SQL&quot;}\n",
              "... ])\n",
              "\n",
              "&gt;&gt;&gt; people.filter(people.age &gt; 30).join(\n",
              "...     department, people.deptId == department.id).groupBy(\n",
              "...     department.name, &quot;gender&quot;).agg({&quot;salary&quot;: &quot;avg&quot;, &quot;age&quot;: &quot;max&quot;}).show()\n",
              "+-------+------+-----------+--------+\n",
              "|   name|gender|avg(salary)|max(age)|\n",
              "+-------+------+-----------+--------+\n",
              "|     ML|     F|      150.0|      60|\n",
              "|PySpark|     M|       75.0|      50|\n",
              "+-------+------+-----------+--------+\n",
              "\n",
              "Notes\n",
              "-----\n",
              "A DataFrame should only be created as described above. It should not be directly\n",
              "created via using the constructor.</pre>\n",
              "      <script>\n",
              "      if (google.colab.kernel.accessAllowed && google.colab.files && google.colab.files.view) {\n",
              "        for (const element of document.querySelectorAll('.filepath')) {\n",
              "          element.style.display = 'block'\n",
              "          element.onclick = (event) => {\n",
              "            event.preventDefault();\n",
              "            event.stopPropagation();\n",
              "            google.colab.files.view(element.textContent, 80);\n",
              "          };\n",
              "        }\n",
              "      }\n",
              "      for (const element of document.querySelectorAll('.function-repr-contents')) {\n",
              "        element.onclick = (event) => {\n",
              "          event.preventDefault();\n",
              "          event.stopPropagation();\n",
              "          element.classList.toggle('function-repr-contents-collapsed');\n",
              "        };\n",
              "      }\n",
              "      </script>\n",
              "      </div>"
            ]
          },
          "metadata": {},
          "execution_count": 65
        }
      ]
    },
    {
      "cell_type": "code",
      "source": [
        "df_pyspark.head(3)"
      ],
      "metadata": {
        "colab": {
          "base_uri": "https://localhost:8080/"
        },
        "id": "vaSTRlt5_Jio",
        "outputId": "a9db4d5d-a9d1-468c-a285-450436549e4e"
      },
      "execution_count": null,
      "outputs": [
        {
          "output_type": "execute_result",
          "data": {
            "text/plain": [
              "[Row(call_date='2024-03-08', state_time='00:00:00', tsr='edu_aayton', sname='Andre Ayton', CallCenterID='17', agent_group='IA', state_name='Agent Reset', login_datetime=None, logout_datetime=None, Login_Event='1', duration='19578'),\n",
              " Row(call_date='2024-03-08', state_time='00:00:00', tsr='edu_apolanco', sname='Ariel Polanco', CallCenterID='17', agent_group='IA', state_name='End Shift', login_datetime=None, logout_datetime=None, Login_Event='1', duration='17251'),\n",
              " Row(call_date='2024-03-08', state_time='00:00:00', tsr='edu_devwilliams', sname='Devontay Williams', CallCenterID='17', agent_group='IA', state_name='Agent Reset', login_datetime=None, logout_datetime=None, Login_Event='1', duration='18631')]"
            ]
          },
          "metadata": {},
          "execution_count": 54
        }
      ]
    },
    {
      "cell_type": "code",
      "source": [
        "df_pyspark.printSchema()"
      ],
      "metadata": {
        "colab": {
          "base_uri": "https://localhost:8080/"
        },
        "id": "zD-xETWm_Qvn",
        "outputId": "50eeb1dd-82b4-4831-adc5-e023e23adfa5"
      },
      "execution_count": null,
      "outputs": [
        {
          "output_type": "stream",
          "name": "stdout",
          "text": [
            "root\n",
            " |-- call_date: date (nullable = true)\n",
            " |-- state_time: timestamp (nullable = true)\n",
            " |-- tsr: string (nullable = true)\n",
            " |-- sname: string (nullable = true)\n",
            " |-- CallCenterID: integer (nullable = true)\n",
            " |-- agent_group: string (nullable = true)\n",
            " |-- state_name: string (nullable = true)\n",
            " |-- login_datetime: string (nullable = true)\n",
            " |-- logout_datetime: string (nullable = true)\n",
            " |-- Login_Event: integer (nullable = true)\n",
            " |-- duration: integer (nullable = true)\n",
            "\n"
          ]
        }
      ]
    },
    {
      "cell_type": "code",
      "source": [
        "df_pyspark.columns"
      ],
      "metadata": {
        "colab": {
          "base_uri": "https://localhost:8080/"
        },
        "id": "lHi-Irm2Bv-u",
        "outputId": "33f817cd-d9a4-4db4-b331-c4c15255f05e"
      },
      "execution_count": null,
      "outputs": [
        {
          "output_type": "execute_result",
          "data": {
            "text/plain": [
              "['call_date',\n",
              " 'state_time',\n",
              " 'tsr',\n",
              " 'sname',\n",
              " 'CallCenterID',\n",
              " 'agent_group',\n",
              " 'state_name',\n",
              " 'login_datetime',\n",
              " 'logout_datetime',\n",
              " 'Login_Event',\n",
              " 'duration']"
            ]
          },
          "metadata": {},
          "execution_count": 66
        }
      ]
    },
    {
      "cell_type": "code",
      "source": [
        "df_pyspark.select('call_date').show()"
      ],
      "metadata": {
        "colab": {
          "base_uri": "https://localhost:8080/"
        },
        "id": "6h-ZgacqCCEm",
        "outputId": "96319326-b32f-4166-edd4-d9ba0331542d"
      },
      "execution_count": null,
      "outputs": [
        {
          "output_type": "stream",
          "name": "stdout",
          "text": [
            "+----------+\n",
            "| call_date|\n",
            "+----------+\n",
            "|2024-03-08|\n",
            "|2024-03-08|\n",
            "|2024-03-08|\n",
            "|2024-03-08|\n",
            "|2024-03-08|\n",
            "|2024-03-08|\n",
            "|2024-03-08|\n",
            "|2024-03-08|\n",
            "|2024-03-08|\n",
            "|2024-03-08|\n",
            "|2024-03-08|\n",
            "|2024-03-08|\n",
            "|2024-03-08|\n",
            "|2024-03-08|\n",
            "|2024-03-08|\n",
            "|2024-03-08|\n",
            "|2024-03-08|\n",
            "|2024-03-08|\n",
            "|2024-03-08|\n",
            "|2024-03-08|\n",
            "+----------+\n",
            "only showing top 20 rows\n",
            "\n"
          ]
        }
      ]
    },
    {
      "cell_type": "code",
      "source": [
        "df_pyspark.select(['call_date', 'tsr']).show()"
      ],
      "metadata": {
        "colab": {
          "base_uri": "https://localhost:8080/"
        },
        "id": "DDyOcjGICV37",
        "outputId": "c29cf95b-ad81-452e-8e8d-3be59e1da363"
      },
      "execution_count": null,
      "outputs": [
        {
          "output_type": "stream",
          "name": "stdout",
          "text": [
            "+----------+---------------+\n",
            "| call_date|            tsr|\n",
            "+----------+---------------+\n",
            "|2024-03-08|     edu_aayton|\n",
            "|2024-03-08|   edu_apolanco|\n",
            "|2024-03-08|edu_devwilliams|\n",
            "|2024-03-08|    edu_dgarcia|\n",
            "|2024-03-08|    edu_fdennis|\n",
            "|2024-03-08|     edu_gallen|\n",
            "|2024-03-08|      edu_ghall|\n",
            "|2024-03-08| edu_glanzafame|\n",
            "|2024-03-08|    edu_idabney|\n",
            "|2024-03-08|     edu_kcline|\n",
            "|2024-03-08|    edu_klackey|\n",
            "|2024-03-08|   edu_kmangold|\n",
            "|2024-03-08|  edu_kplaisted|\n",
            "|2024-03-08|    edu_pmorgan|\n",
            "|2024-03-08|    edu_rgamble|\n",
            "|2024-03-08|   edu_rthweatt|\n",
            "|2024-03-08|   edu_ssignori|\n",
            "|2024-03-08|   edu_tpaschka|\n",
            "|2024-03-08|     edu_tspain|\n",
            "|2024-03-08|   edu_yjohnson|\n",
            "+----------+---------------+\n",
            "only showing top 20 rows\n",
            "\n"
          ]
        }
      ]
    },
    {
      "cell_type": "code",
      "source": [
        "df_pyspark.dtypes"
      ],
      "metadata": {
        "colab": {
          "base_uri": "https://localhost:8080/"
        },
        "id": "M6jOcJQcC0X2",
        "outputId": "d884ecb4-d0cc-4936-959f-04d5acd504b8"
      },
      "execution_count": null,
      "outputs": [
        {
          "output_type": "execute_result",
          "data": {
            "text/plain": [
              "[('call_date', 'date'),\n",
              " ('state_time', 'timestamp'),\n",
              " ('tsr', 'string'),\n",
              " ('sname', 'string'),\n",
              " ('CallCenterID', 'int'),\n",
              " ('agent_group', 'string'),\n",
              " ('state_name', 'string'),\n",
              " ('login_datetime', 'string'),\n",
              " ('logout_datetime', 'string'),\n",
              " ('Login_Event', 'int'),\n",
              " ('duration', 'int')]"
            ]
          },
          "metadata": {},
          "execution_count": 70
        }
      ]
    },
    {
      "cell_type": "code",
      "source": [
        "df_pyspark.describe()"
      ],
      "metadata": {
        "colab": {
          "base_uri": "https://localhost:8080/"
        },
        "id": "8nqSVx7IC-ZM",
        "outputId": "9c808291-d423-4d10-fe47-6804fd447783"
      },
      "execution_count": null,
      "outputs": [
        {
          "output_type": "execute_result",
          "data": {
            "text/plain": [
              "DataFrame[summary: string, tsr: string, sname: string, CallCenterID: string, agent_group: string, state_name: string, login_datetime: string, logout_datetime: string, Login_Event: string, duration: string]"
            ]
          },
          "metadata": {},
          "execution_count": 71
        }
      ]
    },
    {
      "cell_type": "code",
      "source": [
        "df_pyspark.describe().show()"
      ],
      "metadata": {
        "colab": {
          "base_uri": "https://localhost:8080/"
        },
        "id": "2ks_k6emDEvX",
        "outputId": "74cf3ab2-b133-40c9-dd78-a00a660cc91b"
      },
      "execution_count": null,
      "outputs": [
        {
          "output_type": "stream",
          "name": "stdout",
          "text": [
            "+-------+--------------+---------------+-----------------+-----------+---------------+--------------+---------------+--------------------+------------------+\n",
            "|summary|           tsr|          sname|     CallCenterID|agent_group|     state_name|login_datetime|logout_datetime|         Login_Event|          duration|\n",
            "+-------+--------------+---------------+-----------------+-----------+---------------+--------------+---------------+--------------------+------------------+\n",
            "|  count|          2522|           2522|             2522|       2522|           2522|             0|              0|                2522|              2522|\n",
            "|   mean|          NULL|           NULL|34.04044409199049|       NULL|           NULL|          NULL|           NULL|0.017446471054718478| 239.4888977002379|\n",
            "| stddev|          NULL|           NULL|25.19576564400042|       NULL|           NULL|          NULL|           NULL| 0.13095377589629223|2023.8398346692222|\n",
            "|    min|EGS_EF_echavez|    Adam Wright|               17|     BPO_EF|After Call Work|          NULL|           NULL|                   0|                 0|\n",
            "|    max|  edu_yjohnson|Yasmine Johnson|               72|      LX_IA|        Ringing|          NULL|           NULL|                   1|             20392|\n",
            "+-------+--------------+---------------+-----------------+-----------+---------------+--------------+---------------+--------------------+------------------+\n",
            "\n"
          ]
        }
      ]
    },
    {
      "cell_type": "code",
      "source": [
        "## add columns to dataframe"
      ],
      "metadata": {
        "id": "qjmENcWuDjkS"
      },
      "execution_count": null,
      "outputs": []
    },
    {
      "cell_type": "code",
      "source": [
        "df_pyspark = df_pyspark.withColumn('CallCenterID_Plus2', df_pyspark['CallCenterID'] + 2)"
      ],
      "metadata": {
        "id": "tfSA0Y-mDoCy"
      },
      "execution_count": null,
      "outputs": []
    },
    {
      "cell_type": "code",
      "source": [
        "df_pyspark.show(10)"
      ],
      "metadata": {
        "colab": {
          "base_uri": "https://localhost:8080/"
        },
        "id": "ij42EwpGEGxF",
        "outputId": "2164329d-c30d-4c6d-d6b0-22ba09976644"
      },
      "execution_count": null,
      "outputs": [
        {
          "output_type": "stream",
          "name": "stdout",
          "text": [
            "+----------+-------------------+---------------+-------------------+------------+-----------+-----------+--------------+---------------+-----------+--------+------------------+\n",
            "| call_date|         state_time|            tsr|              sname|CallCenterID|agent_group| state_name|login_datetime|logout_datetime|Login_Event|duration|CallCenterID_Plus2|\n",
            "+----------+-------------------+---------------+-------------------+------------+-----------+-----------+--------------+---------------+-----------+--------+------------------+\n",
            "|2024-03-08|2024-04-05 00:00:00|     edu_aayton|        Andre Ayton|          17|         IA|Agent Reset|          NULL|           NULL|          1|   19578|                19|\n",
            "|2024-03-08|2024-04-05 00:00:00|   edu_apolanco|      Ariel Polanco|          17|         IA|  End Shift|          NULL|           NULL|          1|   17251|                19|\n",
            "|2024-03-08|2024-04-05 00:00:00|edu_devwilliams|  Devontay Williams|          17|         IA|Agent Reset|          NULL|           NULL|          1|   18631|                19|\n",
            "|2024-03-08|2024-04-05 00:00:00|    edu_dgarcia|     Deborah Garcia|          17|         IA|     Logout|          NULL|           NULL|          1|   18049|                19|\n",
            "|2024-03-08|2024-04-05 00:00:00|    edu_fdennis|       Frank Dennis|          17|         IA|Agent Reset|          NULL|           NULL|          1|   18497|                19|\n",
            "|2024-03-08|2024-04-05 00:00:00|     edu_gallen|         Greg Allen|          17|         IA|Agent Reset|          NULL|           NULL|          1|   16785|                19|\n",
            "|2024-03-08|2024-04-05 00:00:00|      edu_ghall|       Gerrard Hall|          17|         IA|  End Shift|          NULL|           NULL|          1|   20053|                19|\n",
            "|2024-03-08|2024-04-05 00:00:00| edu_glanzafame|Gabrielle Lanzafame|          17|         IA|Agent Reset|          NULL|           NULL|          1|   17729|                19|\n",
            "|2024-03-08|2024-04-05 00:00:00|    edu_idabney|   Indonesia Dabney|          17|         IA|Agent Reset|          NULL|           NULL|          1|   19892|                19|\n",
            "|2024-03-08|2024-04-05 00:00:00|     edu_kcline|        Kelly Cline|          17|         IA|  End Shift|          NULL|           NULL|          1|   17747|                19|\n",
            "+----------+-------------------+---------------+-------------------+------------+-----------+-----------+--------------+---------------+-----------+--------+------------------+\n",
            "only showing top 10 rows\n",
            "\n"
          ]
        }
      ]
    },
    {
      "cell_type": "code",
      "source": [
        "df_pyspark = df_pyspark.drop('CallCenterID_Plus2')"
      ],
      "metadata": {
        "id": "MghoEfvNEuZ3"
      },
      "execution_count": null,
      "outputs": []
    },
    {
      "cell_type": "code",
      "source": [
        "df_pyspark.show(10)"
      ],
      "metadata": {
        "colab": {
          "base_uri": "https://localhost:8080/"
        },
        "id": "hL2irR0fE-2C",
        "outputId": "d8db44ae-f563-4c0c-c0d0-94ffd5d727e9"
      },
      "execution_count": null,
      "outputs": [
        {
          "output_type": "stream",
          "name": "stdout",
          "text": [
            "+----------+-------------------+---------------+-------------------+------------+-----------+-----------+--------------+---------------+-----------+--------+\n",
            "| call_date|         state_time|            tsr|              sname|CallCenterID|agent_group| state_name|login_datetime|logout_datetime|Login_Event|duration|\n",
            "+----------+-------------------+---------------+-------------------+------------+-----------+-----------+--------------+---------------+-----------+--------+\n",
            "|2024-03-08|2024-04-05 00:00:00|     edu_aayton|        Andre Ayton|          17|         IA|Agent Reset|          NULL|           NULL|          1|   19578|\n",
            "|2024-03-08|2024-04-05 00:00:00|   edu_apolanco|      Ariel Polanco|          17|         IA|  End Shift|          NULL|           NULL|          1|   17251|\n",
            "|2024-03-08|2024-04-05 00:00:00|edu_devwilliams|  Devontay Williams|          17|         IA|Agent Reset|          NULL|           NULL|          1|   18631|\n",
            "|2024-03-08|2024-04-05 00:00:00|    edu_dgarcia|     Deborah Garcia|          17|         IA|     Logout|          NULL|           NULL|          1|   18049|\n",
            "|2024-03-08|2024-04-05 00:00:00|    edu_fdennis|       Frank Dennis|          17|         IA|Agent Reset|          NULL|           NULL|          1|   18497|\n",
            "|2024-03-08|2024-04-05 00:00:00|     edu_gallen|         Greg Allen|          17|         IA|Agent Reset|          NULL|           NULL|          1|   16785|\n",
            "|2024-03-08|2024-04-05 00:00:00|      edu_ghall|       Gerrard Hall|          17|         IA|  End Shift|          NULL|           NULL|          1|   20053|\n",
            "|2024-03-08|2024-04-05 00:00:00| edu_glanzafame|Gabrielle Lanzafame|          17|         IA|Agent Reset|          NULL|           NULL|          1|   17729|\n",
            "|2024-03-08|2024-04-05 00:00:00|    edu_idabney|   Indonesia Dabney|          17|         IA|Agent Reset|          NULL|           NULL|          1|   19892|\n",
            "|2024-03-08|2024-04-05 00:00:00|     edu_kcline|        Kelly Cline|          17|         IA|  End Shift|          NULL|           NULL|          1|   17747|\n",
            "+----------+-------------------+---------------+-------------------+------------+-----------+-----------+--------------+---------------+-----------+--------+\n",
            "only showing top 10 rows\n",
            "\n"
          ]
        }
      ]
    },
    {
      "cell_type": "code",
      "source": [
        "## rename column\n",
        "df_pyspark = df_pyspark.withColumnRenamed('tsr', 'agentid')"
      ],
      "metadata": {
        "id": "spOZzBzvFI1C"
      },
      "execution_count": null,
      "outputs": []
    },
    {
      "cell_type": "code",
      "source": [
        "df_pyspark.show(10)"
      ],
      "metadata": {
        "colab": {
          "base_uri": "https://localhost:8080/"
        },
        "id": "f3aJkSPLFZ-a",
        "outputId": "bbc2faac-04fa-49cf-be5d-799b2e121fa7"
      },
      "execution_count": null,
      "outputs": [
        {
          "output_type": "stream",
          "name": "stdout",
          "text": [
            "+----------+-------------------+---------------+-------------------+------------+-----------+-----------+--------------+---------------+-----------+--------+\n",
            "| call_date|         state_time|        agentid|              sname|CallCenterID|agent_group| state_name|login_datetime|logout_datetime|Login_Event|duration|\n",
            "+----------+-------------------+---------------+-------------------+------------+-----------+-----------+--------------+---------------+-----------+--------+\n",
            "|2024-03-08|2024-04-05 00:00:00|     edu_aayton|        Andre Ayton|          17|         IA|Agent Reset|          NULL|           NULL|          1|   19578|\n",
            "|2024-03-08|2024-04-05 00:00:00|   edu_apolanco|      Ariel Polanco|          17|         IA|  End Shift|          NULL|           NULL|          1|   17251|\n",
            "|2024-03-08|2024-04-05 00:00:00|edu_devwilliams|  Devontay Williams|          17|         IA|Agent Reset|          NULL|           NULL|          1|   18631|\n",
            "|2024-03-08|2024-04-05 00:00:00|    edu_dgarcia|     Deborah Garcia|          17|         IA|     Logout|          NULL|           NULL|          1|   18049|\n",
            "|2024-03-08|2024-04-05 00:00:00|    edu_fdennis|       Frank Dennis|          17|         IA|Agent Reset|          NULL|           NULL|          1|   18497|\n",
            "|2024-03-08|2024-04-05 00:00:00|     edu_gallen|         Greg Allen|          17|         IA|Agent Reset|          NULL|           NULL|          1|   16785|\n",
            "|2024-03-08|2024-04-05 00:00:00|      edu_ghall|       Gerrard Hall|          17|         IA|  End Shift|          NULL|           NULL|          1|   20053|\n",
            "|2024-03-08|2024-04-05 00:00:00| edu_glanzafame|Gabrielle Lanzafame|          17|         IA|Agent Reset|          NULL|           NULL|          1|   17729|\n",
            "|2024-03-08|2024-04-05 00:00:00|    edu_idabney|   Indonesia Dabney|          17|         IA|Agent Reset|          NULL|           NULL|          1|   19892|\n",
            "|2024-03-08|2024-04-05 00:00:00|     edu_kcline|        Kelly Cline|          17|         IA|  End Shift|          NULL|           NULL|          1|   17747|\n",
            "+----------+-------------------+---------------+-------------------+------------+-----------+-----------+--------------+---------------+-----------+--------+\n",
            "only showing top 10 rows\n",
            "\n"
          ]
        }
      ]
    },
    {
      "cell_type": "code",
      "source": [
        "## drops all rows with a null value\n",
        "df_pyspark.na.drop().show()"
      ],
      "metadata": {
        "colab": {
          "base_uri": "https://localhost:8080/"
        },
        "id": "vlqGtgT9HU1f",
        "outputId": "d7d6d94b-fcd8-41cc-9d7f-5946572e008d"
      },
      "execution_count": null,
      "outputs": [
        {
          "output_type": "stream",
          "name": "stdout",
          "text": [
            "+---------+----------+-------+-----+------------+-----------+----------+--------------+---------------+-----------+--------+\n",
            "|call_date|state_time|agentid|sname|CallCenterID|agent_group|state_name|login_datetime|logout_datetime|Login_Event|duration|\n",
            "+---------+----------+-------+-----+------------+-----------+----------+--------------+---------------+-----------+--------+\n",
            "+---------+----------+-------+-----+------------+-----------+----------+--------------+---------------+-----------+--------+\n",
            "\n"
          ]
        }
      ]
    },
    {
      "cell_type": "code",
      "source": [
        "# drops all rows with a null value\n",
        "# how=any will drop row if any value is null\n",
        "# how=all will drop row if all column values are null\n",
        "\n",
        "# df_pyspark.na.drop().show() #defalut is \"any\"\n",
        "df_pyspark.na.drop(how='all').show()"
      ],
      "metadata": {
        "colab": {
          "base_uri": "https://localhost:8080/"
        },
        "id": "a7y5WFhXH09n",
        "outputId": "fb5fe317-637e-4160-9246-9270c93f1a85"
      },
      "execution_count": null,
      "outputs": [
        {
          "output_type": "stream",
          "name": "stdout",
          "text": [
            "+----------+-------------------+---------------+-------------------+------------+-----------+-----------+--------------+---------------+-----------+--------+\n",
            "| call_date|         state_time|        agentid|              sname|CallCenterID|agent_group| state_name|login_datetime|logout_datetime|Login_Event|duration|\n",
            "+----------+-------------------+---------------+-------------------+------------+-----------+-----------+--------------+---------------+-----------+--------+\n",
            "|2024-03-08|2024-04-05 00:00:00|     edu_aayton|        Andre Ayton|          17|         IA|Agent Reset|          NULL|           NULL|          1|   19578|\n",
            "|2024-03-08|2024-04-05 00:00:00|   edu_apolanco|      Ariel Polanco|          17|         IA|  End Shift|          NULL|           NULL|          1|   17251|\n",
            "|2024-03-08|2024-04-05 00:00:00|edu_devwilliams|  Devontay Williams|          17|         IA|Agent Reset|          NULL|           NULL|          1|   18631|\n",
            "|2024-03-08|2024-04-05 00:00:00|    edu_dgarcia|     Deborah Garcia|          17|         IA|     Logout|          NULL|           NULL|          1|   18049|\n",
            "|2024-03-08|2024-04-05 00:00:00|    edu_fdennis|       Frank Dennis|          17|         IA|Agent Reset|          NULL|           NULL|          1|   18497|\n",
            "|2024-03-08|2024-04-05 00:00:00|     edu_gallen|         Greg Allen|          17|         IA|Agent Reset|          NULL|           NULL|          1|   16785|\n",
            "|2024-03-08|2024-04-05 00:00:00|      edu_ghall|       Gerrard Hall|          17|         IA|  End Shift|          NULL|           NULL|          1|   20053|\n",
            "|2024-03-08|2024-04-05 00:00:00| edu_glanzafame|Gabrielle Lanzafame|          17|         IA|Agent Reset|          NULL|           NULL|          1|   17729|\n",
            "|2024-03-08|2024-04-05 00:00:00|    edu_idabney|   Indonesia Dabney|          17|         IA|Agent Reset|          NULL|           NULL|          1|   19892|\n",
            "|2024-03-08|2024-04-05 00:00:00|     edu_kcline|        Kelly Cline|          17|         IA|  End Shift|          NULL|           NULL|          1|   17747|\n",
            "|2024-03-08|2024-04-05 00:00:00|    edu_klackey|       Keith Lackey|          17|         IA|  End Shift|          NULL|           NULL|          1|   18575|\n",
            "|2024-03-08|2024-04-05 00:00:00|   edu_kmangold|      Kelly Mangold|          17|         IA|  End Shift|          NULL|           NULL|          1|   20392|\n",
            "|2024-03-08|2024-04-05 00:00:00|  edu_kplaisted|      Kent Plaisted|          17|         IA|Agent Reset|          NULL|           NULL|          1|   18836|\n",
            "|2024-03-08|2024-04-05 00:00:00|    edu_pmorgan|    PetaGaye Morgan|          17|         IA|Agent Reset|          NULL|           NULL|          1|   17899|\n",
            "|2024-03-08|2024-04-05 00:00:00|    edu_rgamble|       Rocio Gamble|          17|         IA|Agent Reset|          NULL|           NULL|          1|   20288|\n",
            "|2024-03-08|2024-04-05 00:00:00|   edu_rthweatt|     Robert Thweatt|          17|         IA|  End Shift|          NULL|           NULL|          1|   18041|\n",
            "|2024-03-08|2024-04-05 00:00:00|   edu_ssignori|   Santiago Singori|          17|         IA|Agent Reset|          NULL|           NULL|          1|   19700|\n",
            "|2024-03-08|2024-04-05 00:00:00|   edu_tpaschka|     Tracey Paschka|          17|         IA|Agent Reset|          NULL|           NULL|          1|   17199|\n",
            "|2024-03-08|2024-04-05 00:00:00|     edu_tspain|       Tommie Spain|          17|         IA|Agent Reset|          NULL|           NULL|          1|   18288|\n",
            "|2024-03-08|2024-04-05 00:00:00|   edu_yjohnson|    Yasmine Johnson|          17|         IA|  End Shift|          NULL|           NULL|          1|   17624|\n",
            "+----------+-------------------+---------------+-------------------+------------+-----------+-----------+--------------+---------------+-----------+--------+\n",
            "only showing top 20 rows\n",
            "\n"
          ]
        }
      ]
    },
    {
      "cell_type": "code",
      "source": [
        "# threshold\n",
        "\n",
        "df_pyspark.na.drop(how = 'all', thresh = 2).show()  # thresh at least 2 non-null values must be present"
      ],
      "metadata": {
        "colab": {
          "base_uri": "https://localhost:8080/"
        },
        "id": "1U0U_WAIIkXk",
        "outputId": "c53b68cd-0707-4f8e-9042-e1bbbc510138"
      },
      "execution_count": null,
      "outputs": [
        {
          "output_type": "stream",
          "name": "stdout",
          "text": [
            "+----------+-------------------+---------------+-------------------+------------+-----------+-----------+--------------+---------------+-----------+--------+\n",
            "| call_date|         state_time|        agentid|              sname|CallCenterID|agent_group| state_name|login_datetime|logout_datetime|Login_Event|duration|\n",
            "+----------+-------------------+---------------+-------------------+------------+-----------+-----------+--------------+---------------+-----------+--------+\n",
            "|2024-03-08|2024-04-05 00:00:00|     edu_aayton|        Andre Ayton|          17|         IA|Agent Reset|          NULL|           NULL|          1|   19578|\n",
            "|2024-03-08|2024-04-05 00:00:00|   edu_apolanco|      Ariel Polanco|          17|         IA|  End Shift|          NULL|           NULL|          1|   17251|\n",
            "|2024-03-08|2024-04-05 00:00:00|edu_devwilliams|  Devontay Williams|          17|         IA|Agent Reset|          NULL|           NULL|          1|   18631|\n",
            "|2024-03-08|2024-04-05 00:00:00|    edu_dgarcia|     Deborah Garcia|          17|         IA|     Logout|          NULL|           NULL|          1|   18049|\n",
            "|2024-03-08|2024-04-05 00:00:00|    edu_fdennis|       Frank Dennis|          17|         IA|Agent Reset|          NULL|           NULL|          1|   18497|\n",
            "|2024-03-08|2024-04-05 00:00:00|     edu_gallen|         Greg Allen|          17|         IA|Agent Reset|          NULL|           NULL|          1|   16785|\n",
            "|2024-03-08|2024-04-05 00:00:00|      edu_ghall|       Gerrard Hall|          17|         IA|  End Shift|          NULL|           NULL|          1|   20053|\n",
            "|2024-03-08|2024-04-05 00:00:00| edu_glanzafame|Gabrielle Lanzafame|          17|         IA|Agent Reset|          NULL|           NULL|          1|   17729|\n",
            "|2024-03-08|2024-04-05 00:00:00|    edu_idabney|   Indonesia Dabney|          17|         IA|Agent Reset|          NULL|           NULL|          1|   19892|\n",
            "|2024-03-08|2024-04-05 00:00:00|     edu_kcline|        Kelly Cline|          17|         IA|  End Shift|          NULL|           NULL|          1|   17747|\n",
            "|2024-03-08|2024-04-05 00:00:00|    edu_klackey|       Keith Lackey|          17|         IA|  End Shift|          NULL|           NULL|          1|   18575|\n",
            "|2024-03-08|2024-04-05 00:00:00|   edu_kmangold|      Kelly Mangold|          17|         IA|  End Shift|          NULL|           NULL|          1|   20392|\n",
            "|2024-03-08|2024-04-05 00:00:00|  edu_kplaisted|      Kent Plaisted|          17|         IA|Agent Reset|          NULL|           NULL|          1|   18836|\n",
            "|2024-03-08|2024-04-05 00:00:00|    edu_pmorgan|    PetaGaye Morgan|          17|         IA|Agent Reset|          NULL|           NULL|          1|   17899|\n",
            "|2024-03-08|2024-04-05 00:00:00|    edu_rgamble|       Rocio Gamble|          17|         IA|Agent Reset|          NULL|           NULL|          1|   20288|\n",
            "|2024-03-08|2024-04-05 00:00:00|   edu_rthweatt|     Robert Thweatt|          17|         IA|  End Shift|          NULL|           NULL|          1|   18041|\n",
            "|2024-03-08|2024-04-05 00:00:00|   edu_ssignori|   Santiago Singori|          17|         IA|Agent Reset|          NULL|           NULL|          1|   19700|\n",
            "|2024-03-08|2024-04-05 00:00:00|   edu_tpaschka|     Tracey Paschka|          17|         IA|Agent Reset|          NULL|           NULL|          1|   17199|\n",
            "|2024-03-08|2024-04-05 00:00:00|     edu_tspain|       Tommie Spain|          17|         IA|Agent Reset|          NULL|           NULL|          1|   18288|\n",
            "|2024-03-08|2024-04-05 00:00:00|   edu_yjohnson|    Yasmine Johnson|          17|         IA|  End Shift|          NULL|           NULL|          1|   17624|\n",
            "+----------+-------------------+---------------+-------------------+------------+-----------+-----------+--------------+---------------+-----------+--------+\n",
            "only showing top 20 rows\n",
            "\n"
          ]
        }
      ]
    },
    {
      "cell_type": "code",
      "source": [
        "# subset, to chose what column to check for nulls\n",
        "\n",
        "df_pyspark.na.drop(how = 'all', subset = ['login_datetime']).show()"
      ],
      "metadata": {
        "colab": {
          "base_uri": "https://localhost:8080/"
        },
        "id": "LCGo3iKVJjdb",
        "outputId": "18befcf3-9a7d-479b-f490-a02e1784b923"
      },
      "execution_count": null,
      "outputs": [
        {
          "output_type": "stream",
          "name": "stdout",
          "text": [
            "+---------+----------+-------+-----+------------+-----------+----------+--------------+---------------+-----------+--------+\n",
            "|call_date|state_time|agentid|sname|CallCenterID|agent_group|state_name|login_datetime|logout_datetime|Login_Event|duration|\n",
            "+---------+----------+-------+-----+------------+-----------+----------+--------------+---------------+-----------+--------+\n",
            "+---------+----------+-------+-----+------------+-----------+----------+--------------+---------------+-----------+--------+\n",
            "\n"
          ]
        }
      ]
    },
    {
      "cell_type": "code",
      "source": [
        "# fill missing or null values\n",
        "# df_pyspark.na.fill('MissingValues', subset = None).show(10) # all columns with null will be filled\n",
        "df_pyspark.na.fill('MissingValues', subset = ['login_datetime', 'logout_datetime']).show(10)"
      ],
      "metadata": {
        "colab": {
          "base_uri": "https://localhost:8080/"
        },
        "id": "n7ChNrU1KGbi",
        "outputId": "0fc70f78-bf47-4591-cc40-2a2918554504"
      },
      "execution_count": null,
      "outputs": [
        {
          "output_type": "stream",
          "name": "stdout",
          "text": [
            "+----------+-------------------+---------------+-------------------+------------+-----------+-----------+--------------+---------------+-----------+--------+\n",
            "| call_date|         state_time|        agentid|              sname|CallCenterID|agent_group| state_name|login_datetime|logout_datetime|Login_Event|duration|\n",
            "+----------+-------------------+---------------+-------------------+------------+-----------+-----------+--------------+---------------+-----------+--------+\n",
            "|2024-03-08|2024-04-05 00:00:00|     edu_aayton|        Andre Ayton|          17|         IA|Agent Reset| MissingValues|  MissingValues|          1|   19578|\n",
            "|2024-03-08|2024-04-05 00:00:00|   edu_apolanco|      Ariel Polanco|          17|         IA|  End Shift| MissingValues|  MissingValues|          1|   17251|\n",
            "|2024-03-08|2024-04-05 00:00:00|edu_devwilliams|  Devontay Williams|          17|         IA|Agent Reset| MissingValues|  MissingValues|          1|   18631|\n",
            "|2024-03-08|2024-04-05 00:00:00|    edu_dgarcia|     Deborah Garcia|          17|         IA|     Logout| MissingValues|  MissingValues|          1|   18049|\n",
            "|2024-03-08|2024-04-05 00:00:00|    edu_fdennis|       Frank Dennis|          17|         IA|Agent Reset| MissingValues|  MissingValues|          1|   18497|\n",
            "|2024-03-08|2024-04-05 00:00:00|     edu_gallen|         Greg Allen|          17|         IA|Agent Reset| MissingValues|  MissingValues|          1|   16785|\n",
            "|2024-03-08|2024-04-05 00:00:00|      edu_ghall|       Gerrard Hall|          17|         IA|  End Shift| MissingValues|  MissingValues|          1|   20053|\n",
            "|2024-03-08|2024-04-05 00:00:00| edu_glanzafame|Gabrielle Lanzafame|          17|         IA|Agent Reset| MissingValues|  MissingValues|          1|   17729|\n",
            "|2024-03-08|2024-04-05 00:00:00|    edu_idabney|   Indonesia Dabney|          17|         IA|Agent Reset| MissingValues|  MissingValues|          1|   19892|\n",
            "|2024-03-08|2024-04-05 00:00:00|     edu_kcline|        Kelly Cline|          17|         IA|  End Shift| MissingValues|  MissingValues|          1|   17747|\n",
            "+----------+-------------------+---------------+-------------------+------------+-----------+-----------+--------------+---------------+-----------+--------+\n",
            "only showing top 10 rows\n",
            "\n"
          ]
        }
      ]
    },
    {
      "cell_type": "code",
      "source": [
        "# if colunn is number to get the mean (median, etc) to fill the null or missing values\n",
        "from pyspark.ml.feature import Imputer\n",
        "\n",
        "imputer = Imputer(\n",
        "    inputCols=['CallCenterID', 'Login_Event'],\n",
        "    outputCols=['{}_imputed'.format(c) for c in ['CallCenterID', 'Login_Event']]\n",
        "    ).setStrategy('median')"
      ],
      "metadata": {
        "id": "UVyzA3OZK6_W"
      },
      "execution_count": null,
      "outputs": []
    },
    {
      "cell_type": "code",
      "source": [
        "# add imputation cols to dataframe\n",
        "imputer.fit(df_pyspark).transform(df_pyspark).show(10)"
      ],
      "metadata": {
        "colab": {
          "base_uri": "https://localhost:8080/"
        },
        "id": "9fZBRVagNYNJ",
        "outputId": "b6c5d789-8439-4c9c-9f90-81390a3ae5c2"
      },
      "execution_count": null,
      "outputs": [
        {
          "output_type": "stream",
          "name": "stdout",
          "text": [
            "+----------+-------------------+---------------+-------------------+------------+-----------+-----------+--------------+---------------+-----------+--------+--------------------+-------------------+\n",
            "| call_date|         state_time|        agentid|              sname|CallCenterID|agent_group| state_name|login_datetime|logout_datetime|Login_Event|duration|CallCenterID_imputed|Login_Event_imputed|\n",
            "+----------+-------------------+---------------+-------------------+------------+-----------+-----------+--------------+---------------+-----------+--------+--------------------+-------------------+\n",
            "|2024-03-08|2024-04-05 00:00:00|     edu_aayton|        Andre Ayton|          17|         IA|Agent Reset|          NULL|           NULL|          1|   19578|                  17|                  1|\n",
            "|2024-03-08|2024-04-05 00:00:00|   edu_apolanco|      Ariel Polanco|          17|         IA|  End Shift|          NULL|           NULL|          1|   17251|                  17|                  1|\n",
            "|2024-03-08|2024-04-05 00:00:00|edu_devwilliams|  Devontay Williams|          17|         IA|Agent Reset|          NULL|           NULL|          1|   18631|                  17|                  1|\n",
            "|2024-03-08|2024-04-05 00:00:00|    edu_dgarcia|     Deborah Garcia|          17|         IA|     Logout|          NULL|           NULL|          1|   18049|                  17|                  1|\n",
            "|2024-03-08|2024-04-05 00:00:00|    edu_fdennis|       Frank Dennis|          17|         IA|Agent Reset|          NULL|           NULL|          1|   18497|                  17|                  1|\n",
            "|2024-03-08|2024-04-05 00:00:00|     edu_gallen|         Greg Allen|          17|         IA|Agent Reset|          NULL|           NULL|          1|   16785|                  17|                  1|\n",
            "|2024-03-08|2024-04-05 00:00:00|      edu_ghall|       Gerrard Hall|          17|         IA|  End Shift|          NULL|           NULL|          1|   20053|                  17|                  1|\n",
            "|2024-03-08|2024-04-05 00:00:00| edu_glanzafame|Gabrielle Lanzafame|          17|         IA|Agent Reset|          NULL|           NULL|          1|   17729|                  17|                  1|\n",
            "|2024-03-08|2024-04-05 00:00:00|    edu_idabney|   Indonesia Dabney|          17|         IA|Agent Reset|          NULL|           NULL|          1|   19892|                  17|                  1|\n",
            "|2024-03-08|2024-04-05 00:00:00|     edu_kcline|        Kelly Cline|          17|         IA|  End Shift|          NULL|           NULL|          1|   17747|                  17|                  1|\n",
            "+----------+-------------------+---------------+-------------------+------------+-----------+-----------+--------------+---------------+-----------+--------+--------------------+-------------------+\n",
            "only showing top 10 rows\n",
            "\n"
          ]
        }
      ]
    },
    {
      "cell_type": "code",
      "source": [
        "# filter dataframes"
      ],
      "metadata": {
        "id": "1Hj2lGn0PwDr"
      },
      "execution_count": null,
      "outputs": []
    },
    {
      "cell_type": "code",
      "source": [
        "df_pyspark.filter('CallCenterID>=17').show(10)"
      ],
      "metadata": {
        "colab": {
          "base_uri": "https://localhost:8080/"
        },
        "id": "2hs8iX6XPyps",
        "outputId": "ec63d545-5605-4738-f7bb-d066c99f317b"
      },
      "execution_count": null,
      "outputs": [
        {
          "output_type": "stream",
          "name": "stdout",
          "text": [
            "+----------+-------------------+---------------+-------------------+------------+-----------+-----------+--------------+---------------+-----------+--------+\n",
            "| call_date|         state_time|        agentid|              sname|CallCenterID|agent_group| state_name|login_datetime|logout_datetime|Login_Event|duration|\n",
            "+----------+-------------------+---------------+-------------------+------------+-----------+-----------+--------------+---------------+-----------+--------+\n",
            "|2024-03-08|2024-04-05 00:00:00|     edu_aayton|        Andre Ayton|          17|         IA|Agent Reset|          NULL|           NULL|          1|   19578|\n",
            "|2024-03-08|2024-04-05 00:00:00|   edu_apolanco|      Ariel Polanco|          17|         IA|  End Shift|          NULL|           NULL|          1|   17251|\n",
            "|2024-03-08|2024-04-05 00:00:00|edu_devwilliams|  Devontay Williams|          17|         IA|Agent Reset|          NULL|           NULL|          1|   18631|\n",
            "|2024-03-08|2024-04-05 00:00:00|    edu_dgarcia|     Deborah Garcia|          17|         IA|     Logout|          NULL|           NULL|          1|   18049|\n",
            "|2024-03-08|2024-04-05 00:00:00|    edu_fdennis|       Frank Dennis|          17|         IA|Agent Reset|          NULL|           NULL|          1|   18497|\n",
            "|2024-03-08|2024-04-05 00:00:00|     edu_gallen|         Greg Allen|          17|         IA|Agent Reset|          NULL|           NULL|          1|   16785|\n",
            "|2024-03-08|2024-04-05 00:00:00|      edu_ghall|       Gerrard Hall|          17|         IA|  End Shift|          NULL|           NULL|          1|   20053|\n",
            "|2024-03-08|2024-04-05 00:00:00| edu_glanzafame|Gabrielle Lanzafame|          17|         IA|Agent Reset|          NULL|           NULL|          1|   17729|\n",
            "|2024-03-08|2024-04-05 00:00:00|    edu_idabney|   Indonesia Dabney|          17|         IA|Agent Reset|          NULL|           NULL|          1|   19892|\n",
            "|2024-03-08|2024-04-05 00:00:00|     edu_kcline|        Kelly Cline|          17|         IA|  End Shift|          NULL|           NULL|          1|   17747|\n",
            "+----------+-------------------+---------------+-------------------+------------+-----------+-----------+--------------+---------------+-----------+--------+\n",
            "only showing top 10 rows\n",
            "\n"
          ]
        }
      ]
    },
    {
      "cell_type": "code",
      "source": [
        "df_pyspark.filter('CallCenterID>=17').select(['agentid', 'sname']).show(10)"
      ],
      "metadata": {
        "colab": {
          "base_uri": "https://localhost:8080/"
        },
        "id": "UcxPvYoFQc3U",
        "outputId": "5fda6e73-a5c2-4e1d-a0ea-4f4dc2ef5c50"
      },
      "execution_count": null,
      "outputs": [
        {
          "output_type": "stream",
          "name": "stdout",
          "text": [
            "+---------------+-------------------+\n",
            "|        agentid|              sname|\n",
            "+---------------+-------------------+\n",
            "|     edu_aayton|        Andre Ayton|\n",
            "|   edu_apolanco|      Ariel Polanco|\n",
            "|edu_devwilliams|  Devontay Williams|\n",
            "|    edu_dgarcia|     Deborah Garcia|\n",
            "|    edu_fdennis|       Frank Dennis|\n",
            "|     edu_gallen|         Greg Allen|\n",
            "|      edu_ghall|       Gerrard Hall|\n",
            "| edu_glanzafame|Gabrielle Lanzafame|\n",
            "|    edu_idabney|   Indonesia Dabney|\n",
            "|     edu_kcline|        Kelly Cline|\n",
            "+---------------+-------------------+\n",
            "only showing top 10 rows\n",
            "\n"
          ]
        }
      ]
    },
    {
      "cell_type": "code",
      "source": [
        "# df_pyspark.filter((df_pyspark['CallCenterID']>=17) & (df_pyspark['CallCenterID']<=100)).show(10)\n",
        "df_pyspark.filter((df_pyspark['CallCenterID']>=17) & # and\n",
        "                  (df_pyspark['state_name']=='End Shift')).show(10)"
      ],
      "metadata": {
        "colab": {
          "base_uri": "https://localhost:8080/"
        },
        "id": "tFJB_4llQtJt",
        "outputId": "c219b9ac-d30f-4177-cd6b-4055c73b207b"
      },
      "execution_count": null,
      "outputs": [
        {
          "output_type": "stream",
          "name": "stdout",
          "text": [
            "+----------+-------------------+--------------+---------------+------------+-----------+----------+--------------+---------------+-----------+--------+\n",
            "| call_date|         state_time|       agentid|          sname|CallCenterID|agent_group|state_name|login_datetime|logout_datetime|Login_Event|duration|\n",
            "+----------+-------------------+--------------+---------------+------------+-----------+----------+--------------+---------------+-----------+--------+\n",
            "|2024-03-08|2024-04-05 00:00:00|  edu_apolanco|  Ariel Polanco|          17|         IA| End Shift|          NULL|           NULL|          1|   17251|\n",
            "|2024-03-08|2024-04-05 00:00:00|     edu_ghall|   Gerrard Hall|          17|         IA| End Shift|          NULL|           NULL|          1|   20053|\n",
            "|2024-03-08|2024-04-05 00:00:00|    edu_kcline|    Kelly Cline|          17|         IA| End Shift|          NULL|           NULL|          1|   17747|\n",
            "|2024-03-08|2024-04-05 00:00:00|   edu_klackey|   Keith Lackey|          17|         IA| End Shift|          NULL|           NULL|          1|   18575|\n",
            "|2024-03-08|2024-04-05 00:00:00|  edu_kmangold|  Kelly Mangold|          17|         IA| End Shift|          NULL|           NULL|          1|   20392|\n",
            "|2024-03-08|2024-04-05 00:00:00|  edu_rthweatt| Robert Thweatt|          17|         IA| End Shift|          NULL|           NULL|          1|   18041|\n",
            "|2024-03-08|2024-04-05 00:00:00|  edu_yjohnson|Yasmine Johnson|          17|         IA| End Shift|          NULL|           NULL|          1|   17624|\n",
            "|2024-03-08|2024-04-05 00:00:00|EGS_EF_emagana|    Eloy Magana|          70|     BPO_EF| End Shift|          NULL|           NULL|          1|   19498|\n",
            "|2024-03-08|2024-04-05 07:25:10|    edu_kcline|    Kelly Cline|          17|         IA| End Shift|          NULL|           NULL|          1|       0|\n",
            "+----------+-------------------+--------------+---------------+------------+-----------+----------+--------------+---------------+-----------+--------+\n",
            "\n"
          ]
        }
      ]
    },
    {
      "cell_type": "code",
      "source": [
        "df_pyspark.filter((df_pyspark['CallCenterID']>=17) | # or\n",
        "                  (df_pyspark['state_name']=='End Shift')).show(10)"
      ],
      "metadata": {
        "colab": {
          "base_uri": "https://localhost:8080/"
        },
        "id": "aTRxBvmETlLE",
        "outputId": "8678d517-0147-403b-902a-165f59b3baf9"
      },
      "execution_count": null,
      "outputs": [
        {
          "output_type": "stream",
          "name": "stdout",
          "text": [
            "+----------+-------------------+---------------+-------------------+------------+-----------+-----------+--------------+---------------+-----------+--------+\n",
            "| call_date|         state_time|        agentid|              sname|CallCenterID|agent_group| state_name|login_datetime|logout_datetime|Login_Event|duration|\n",
            "+----------+-------------------+---------------+-------------------+------------+-----------+-----------+--------------+---------------+-----------+--------+\n",
            "|2024-03-08|2024-04-05 00:00:00|     edu_aayton|        Andre Ayton|          17|         IA|Agent Reset|          NULL|           NULL|          1|   19578|\n",
            "|2024-03-08|2024-04-05 00:00:00|   edu_apolanco|      Ariel Polanco|          17|         IA|  End Shift|          NULL|           NULL|          1|   17251|\n",
            "|2024-03-08|2024-04-05 00:00:00|edu_devwilliams|  Devontay Williams|          17|         IA|Agent Reset|          NULL|           NULL|          1|   18631|\n",
            "|2024-03-08|2024-04-05 00:00:00|    edu_dgarcia|     Deborah Garcia|          17|         IA|     Logout|          NULL|           NULL|          1|   18049|\n",
            "|2024-03-08|2024-04-05 00:00:00|    edu_fdennis|       Frank Dennis|          17|         IA|Agent Reset|          NULL|           NULL|          1|   18497|\n",
            "|2024-03-08|2024-04-05 00:00:00|     edu_gallen|         Greg Allen|          17|         IA|Agent Reset|          NULL|           NULL|          1|   16785|\n",
            "|2024-03-08|2024-04-05 00:00:00|      edu_ghall|       Gerrard Hall|          17|         IA|  End Shift|          NULL|           NULL|          1|   20053|\n",
            "|2024-03-08|2024-04-05 00:00:00| edu_glanzafame|Gabrielle Lanzafame|          17|         IA|Agent Reset|          NULL|           NULL|          1|   17729|\n",
            "|2024-03-08|2024-04-05 00:00:00|    edu_idabney|   Indonesia Dabney|          17|         IA|Agent Reset|          NULL|           NULL|          1|   19892|\n",
            "|2024-03-08|2024-04-05 00:00:00|     edu_kcline|        Kelly Cline|          17|         IA|  End Shift|          NULL|           NULL|          1|   17747|\n",
            "+----------+-------------------+---------------+-------------------+------------+-----------+-----------+--------------+---------------+-----------+--------+\n",
            "only showing top 10 rows\n",
            "\n"
          ]
        }
      ]
    },
    {
      "cell_type": "code",
      "source": [
        "# not condition\n",
        "df_pyspark.filter(~(df_pyspark['CallCenterID']==17)).show(10)"
      ],
      "metadata": {
        "colab": {
          "base_uri": "https://localhost:8080/"
        },
        "id": "8atNJxmFT_Rm",
        "outputId": "a31710aa-6f40-4f32-ab9f-b42c6dcab6b0"
      },
      "execution_count": null,
      "outputs": [
        {
          "output_type": "stream",
          "name": "stdout",
          "text": [
            "+----------+-------------------+---------------+-----------------+------------+-----------+-----------+--------------+---------------+-----------+--------+\n",
            "| call_date|         state_time|        agentid|            sname|CallCenterID|agent_group| state_name|login_datetime|logout_datetime|Login_Event|duration|\n",
            "+----------+-------------------+---------------+-----------------+------------+-----------+-----------+--------------+---------------+-----------+--------+\n",
            "|2024-03-08|2024-04-05 00:00:00| EGS_EF_echavez|   Eduardo Chavez|          70|     BPO_EF|Agent Reset|          NULL|           NULL|          1|   19641|\n",
            "|2024-03-08|2024-04-05 00:00:00| EGS_EF_emagana|      Eloy Magana|          70|     BPO_EF|  End Shift|          NULL|           NULL|          1|   19498|\n",
            "|2024-03-08|2024-04-05 00:00:00| EGS_IA_cgarcia|  Cristina Garcia|          70|      LX_IA|Agent Reset|          NULL|           NULL|          1|   19884|\n",
            "|2024-03-08|2024-04-05 00:00:00|EGS_IA_mholguin|    Mario Holguin|          70|      LX_IA|Agent Reset|          NULL|           NULL|          1|   19893|\n",
            "|2024-03-08|2024-04-05 00:00:00|  TS_EF_hrogers|    Harris Rogers|          72|     BPO_EF|Agent Reset|          NULL|           NULL|          1|   20072|\n",
            "|2024-03-08|2024-04-05 00:00:00|    TS_EF_nhill|      Nathan Hill|          72|     BPO_EF|Agent Reset|          NULL|           NULL|          1|   19848|\n",
            "|2024-03-08|2024-04-05 00:00:00|   TS_EF_nmiles|       Nate Miles|          72|     BPO_EF|Agent Reset|          NULL|           NULL|          1|   20077|\n",
            "|2024-03-08|2024-04-05 00:00:00|TS_EF_psolomans|Pattrick Solomans|          72|     BPO_EF|Agent Reset|          NULL|           NULL|          1|   19939|\n",
            "|2024-03-08|2024-04-05 00:00:00|TS_EF_rwilliams|   Roger Williams|          72|     BPO_EF|Agent Reset|          NULL|           NULL|          1|   19908|\n",
            "|2024-03-08|2024-04-05 07:24:58| EGS_EF_emagana|      Eloy Magana|          70|     BPO_EF|  Not Ready|          NULL|           NULL|          0|     305|\n",
            "+----------+-------------------+---------------+-----------------+------------+-----------+-----------+--------------+---------------+-----------+--------+\n",
            "only showing top 10 rows\n",
            "\n"
          ]
        }
      ]
    },
    {
      "cell_type": "code",
      "source": [
        "# group by\n",
        "df_pyspark.groupBy('agentid').sum().show(10)"
      ],
      "metadata": {
        "colab": {
          "base_uri": "https://localhost:8080/"
        },
        "id": "NL0ZOGgYVsft",
        "outputId": "8a937262-5ae5-4fbf-ce4a-0cec62ecb9a5"
      },
      "execution_count": null,
      "outputs": [
        {
          "output_type": "stream",
          "name": "stdout",
          "text": [
            "+---------------+-----------------+----------------+-------------+\n",
            "|        agentid|sum(CallCenterID)|sum(Login_Event)|sum(duration)|\n",
            "+---------------+-----------------+----------------+-------------+\n",
            "|TS_EF_rwilliams|             2232|               1|        20457|\n",
            "|edu_devwilliams|              952|               1|        20455|\n",
            "|   edu_tpaschka|             2669|               1|        20457|\n",
            "|   edu_ssignori|             1190|               1|        20453|\n",
            "|   edu_yjohnson|             1921|               1|        20454|\n",
            "|  TS_IA_jwalker|              360|               0|          782|\n",
            "|   TS_EF_nmiles|             2088|               1|        20530|\n",
            "|  TS_IA_dwilson|             1224|               0|          663|\n",
            "|TS_EF_psolomans|              648|               1|        20455|\n",
            "|  edu_kplaisted|             1207|               1|        20454|\n",
            "+---------------+-----------------+----------------+-------------+\n",
            "only showing top 10 rows\n",
            "\n"
          ]
        }
      ]
    },
    {
      "cell_type": "code",
      "source": [
        "df_pyspark.groupBy('agentid').mean().show(10)"
      ],
      "metadata": {
        "colab": {
          "base_uri": "https://localhost:8080/"
        },
        "id": "vJbqyE2-W6uI",
        "outputId": "3002bb08-9e26-4bc5-f7bb-9c616a870d92"
      },
      "execution_count": null,
      "outputs": [
        {
          "output_type": "stream",
          "name": "stdout",
          "text": [
            "+---------------+-----------------+--------------------+------------------+\n",
            "|        agentid|avg(CallCenterID)|    avg(Login_Event)|     avg(duration)|\n",
            "+---------------+-----------------+--------------------+------------------+\n",
            "|TS_EF_rwilliams|             72.0| 0.03225806451612903| 659.9032258064516|\n",
            "|edu_devwilliams|             17.0|0.017857142857142856|365.26785714285717|\n",
            "|   edu_tpaschka|             17.0|0.006369426751592357|130.29936305732485|\n",
            "|   edu_ssignori|             17.0|0.014285714285714285| 292.1857142857143|\n",
            "|   edu_yjohnson|             17.0|0.008849557522123894|181.00884955752213|\n",
            "|  TS_IA_jwalker|             72.0|                 0.0|             156.4|\n",
            "|   TS_EF_nmiles|             72.0|0.034482758620689655| 707.9310344827586|\n",
            "|  TS_IA_dwilson|             72.0|                 0.0|              39.0|\n",
            "|TS_EF_psolomans|             72.0|  0.1111111111111111| 2272.777777777778|\n",
            "|  edu_kplaisted|             17.0|0.014084507042253521| 288.0845070422535|\n",
            "+---------------+-----------------+--------------------+------------------+\n",
            "only showing top 10 rows\n",
            "\n"
          ]
        }
      ]
    },
    {
      "cell_type": "code",
      "source": [
        "df_pyspark.groupBy('agentid').max().show(10)"
      ],
      "metadata": {
        "id": "mSLiF2wFXL5e"
      },
      "execution_count": null,
      "outputs": []
    },
    {
      "cell_type": "code",
      "source": [
        "df_pyspark.groupBy('agentid').count().show(10)"
      ],
      "metadata": {
        "colab": {
          "base_uri": "https://localhost:8080/"
        },
        "id": "Qzsq78dQXQ9l",
        "outputId": "a2cd9ab0-c381-4907-9f8a-5f00f281821e"
      },
      "execution_count": null,
      "outputs": [
        {
          "output_type": "stream",
          "name": "stdout",
          "text": [
            "+---------------+-----+\n",
            "|        agentid|count|\n",
            "+---------------+-----+\n",
            "|TS_EF_rwilliams|   31|\n",
            "|edu_devwilliams|   56|\n",
            "|   edu_tpaschka|  157|\n",
            "|   edu_ssignori|   70|\n",
            "|   edu_yjohnson|  113|\n",
            "|  TS_IA_jwalker|    5|\n",
            "|   TS_EF_nmiles|   29|\n",
            "|  TS_IA_dwilson|   17|\n",
            "|TS_EF_psolomans|    9|\n",
            "|  edu_kplaisted|   71|\n",
            "+---------------+-----+\n",
            "only showing top 10 rows\n",
            "\n"
          ]
        }
      ]
    },
    {
      "cell_type": "code",
      "source": [
        "df_pyspark.agg({'duration' : 'sum'}).show(10)"
      ],
      "metadata": {
        "colab": {
          "base_uri": "https://localhost:8080/"
        },
        "id": "LKcWVVf-XaPW",
        "outputId": "a4104a5f-4ffe-4922-dc51-9fcba4f20b4f"
      },
      "execution_count": null,
      "outputs": [
        {
          "output_type": "stream",
          "name": "stdout",
          "text": [
            "+-------------+\n",
            "|sum(duration)|\n",
            "+-------------+\n",
            "|       603991|\n",
            "+-------------+\n",
            "\n"
          ]
        }
      ]
    },
    {
      "cell_type": "code",
      "source": [
        "training = df_pyspark"
      ],
      "metadata": {
        "id": "_0avCE0kff8s"
      },
      "execution_count": null,
      "outputs": []
    },
    {
      "cell_type": "code",
      "source": [
        "training.show(10)"
      ],
      "metadata": {
        "colab": {
          "base_uri": "https://localhost:8080/"
        },
        "id": "o0hRdRFKfkPx",
        "outputId": "cec07350-05d5-4745-a3da-c247ada06f47"
      },
      "execution_count": null,
      "outputs": [
        {
          "output_type": "stream",
          "name": "stdout",
          "text": [
            "+----------+-------------------+---------------+-------------------+------------+-----------+-----------+--------------+---------------+-----------+--------+\n",
            "| call_date|         state_time|        agentid|              sname|CallCenterID|agent_group| state_name|login_datetime|logout_datetime|Login_Event|duration|\n",
            "+----------+-------------------+---------------+-------------------+------------+-----------+-----------+--------------+---------------+-----------+--------+\n",
            "|2024-03-08|2024-04-05 00:00:00|     edu_aayton|        Andre Ayton|          17|         IA|Agent Reset|          NULL|           NULL|          1|   19578|\n",
            "|2024-03-08|2024-04-05 00:00:00|   edu_apolanco|      Ariel Polanco|          17|         IA|  End Shift|          NULL|           NULL|          1|   17251|\n",
            "|2024-03-08|2024-04-05 00:00:00|edu_devwilliams|  Devontay Williams|          17|         IA|Agent Reset|          NULL|           NULL|          1|   18631|\n",
            "|2024-03-08|2024-04-05 00:00:00|    edu_dgarcia|     Deborah Garcia|          17|         IA|     Logout|          NULL|           NULL|          1|   18049|\n",
            "|2024-03-08|2024-04-05 00:00:00|    edu_fdennis|       Frank Dennis|          17|         IA|Agent Reset|          NULL|           NULL|          1|   18497|\n",
            "|2024-03-08|2024-04-05 00:00:00|     edu_gallen|         Greg Allen|          17|         IA|Agent Reset|          NULL|           NULL|          1|   16785|\n",
            "|2024-03-08|2024-04-05 00:00:00|      edu_ghall|       Gerrard Hall|          17|         IA|  End Shift|          NULL|           NULL|          1|   20053|\n",
            "|2024-03-08|2024-04-05 00:00:00| edu_glanzafame|Gabrielle Lanzafame|          17|         IA|Agent Reset|          NULL|           NULL|          1|   17729|\n",
            "|2024-03-08|2024-04-05 00:00:00|    edu_idabney|   Indonesia Dabney|          17|         IA|Agent Reset|          NULL|           NULL|          1|   19892|\n",
            "|2024-03-08|2024-04-05 00:00:00|     edu_kcline|        Kelly Cline|          17|         IA|  End Shift|          NULL|           NULL|          1|   17747|\n",
            "+----------+-------------------+---------------+-------------------+------------+-----------+-----------+--------------+---------------+-----------+--------+\n",
            "only showing top 10 rows\n",
            "\n"
          ]
        }
      ]
    },
    {
      "cell_type": "code",
      "source": [
        "from pyspark.ml.feature import VectorAssembler\n",
        "featureassembler = VectorAssembler(inputCols=['CallCenterID', 'duration'], outputCol='IndependentFeature')"
      ],
      "metadata": {
        "id": "XFjoS7Rqft7C"
      },
      "execution_count": null,
      "outputs": []
    },
    {
      "cell_type": "code",
      "source": [
        "output = featureassembler.transform(training)"
      ],
      "metadata": {
        "id": "b6cGkh6Wgjqn"
      },
      "execution_count": null,
      "outputs": []
    },
    {
      "cell_type": "code",
      "source": [
        "output.show(10)"
      ],
      "metadata": {
        "colab": {
          "base_uri": "https://localhost:8080/"
        },
        "id": "bSf18dMMgq6I",
        "outputId": "248e25e5-243d-465b-81ae-056a036d305d"
      },
      "execution_count": null,
      "outputs": [
        {
          "output_type": "stream",
          "name": "stdout",
          "text": [
            "+----------+-------------------+---------------+-------------------+------------+-----------+-----------+--------------+---------------+-----------+--------+------------------+\n",
            "| call_date|         state_time|        agentid|              sname|CallCenterID|agent_group| state_name|login_datetime|logout_datetime|Login_Event|duration|IndependentFeature|\n",
            "+----------+-------------------+---------------+-------------------+------------+-----------+-----------+--------------+---------------+-----------+--------+------------------+\n",
            "|2024-03-08|2024-04-05 00:00:00|     edu_aayton|        Andre Ayton|          17|         IA|Agent Reset|          NULL|           NULL|          1|   19578|    [17.0,19578.0]|\n",
            "|2024-03-08|2024-04-05 00:00:00|   edu_apolanco|      Ariel Polanco|          17|         IA|  End Shift|          NULL|           NULL|          1|   17251|    [17.0,17251.0]|\n",
            "|2024-03-08|2024-04-05 00:00:00|edu_devwilliams|  Devontay Williams|          17|         IA|Agent Reset|          NULL|           NULL|          1|   18631|    [17.0,18631.0]|\n",
            "|2024-03-08|2024-04-05 00:00:00|    edu_dgarcia|     Deborah Garcia|          17|         IA|     Logout|          NULL|           NULL|          1|   18049|    [17.0,18049.0]|\n",
            "|2024-03-08|2024-04-05 00:00:00|    edu_fdennis|       Frank Dennis|          17|         IA|Agent Reset|          NULL|           NULL|          1|   18497|    [17.0,18497.0]|\n",
            "|2024-03-08|2024-04-05 00:00:00|     edu_gallen|         Greg Allen|          17|         IA|Agent Reset|          NULL|           NULL|          1|   16785|    [17.0,16785.0]|\n",
            "|2024-03-08|2024-04-05 00:00:00|      edu_ghall|       Gerrard Hall|          17|         IA|  End Shift|          NULL|           NULL|          1|   20053|    [17.0,20053.0]|\n",
            "|2024-03-08|2024-04-05 00:00:00| edu_glanzafame|Gabrielle Lanzafame|          17|         IA|Agent Reset|          NULL|           NULL|          1|   17729|    [17.0,17729.0]|\n",
            "|2024-03-08|2024-04-05 00:00:00|    edu_idabney|   Indonesia Dabney|          17|         IA|Agent Reset|          NULL|           NULL|          1|   19892|    [17.0,19892.0]|\n",
            "|2024-03-08|2024-04-05 00:00:00|     edu_kcline|        Kelly Cline|          17|         IA|  End Shift|          NULL|           NULL|          1|   17747|    [17.0,17747.0]|\n",
            "+----------+-------------------+---------------+-------------------+------------+-----------+-----------+--------------+---------------+-----------+--------+------------------+\n",
            "only showing top 10 rows\n",
            "\n"
          ]
        }
      ]
    },
    {
      "cell_type": "code",
      "source": [
        "finalized_data = output.select('IndependentFeature', 'duration')"
      ],
      "metadata": {
        "id": "0WS-IH-ug5LF"
      },
      "execution_count": null,
      "outputs": []
    },
    {
      "cell_type": "code",
      "source": [
        "finalized_data.show(10)"
      ],
      "metadata": {
        "colab": {
          "base_uri": "https://localhost:8080/"
        },
        "id": "IwHx0i_thIYh",
        "outputId": "3955ee5d-7b83-4102-fc5d-f23ff182c0d8"
      },
      "execution_count": null,
      "outputs": [
        {
          "output_type": "stream",
          "name": "stdout",
          "text": [
            "+------------------+--------+\n",
            "|IndependentFeature|duration|\n",
            "+------------------+--------+\n",
            "|    [17.0,19578.0]|   19578|\n",
            "|    [17.0,17251.0]|   17251|\n",
            "|    [17.0,18631.0]|   18631|\n",
            "|    [17.0,18049.0]|   18049|\n",
            "|    [17.0,18497.0]|   18497|\n",
            "|    [17.0,16785.0]|   16785|\n",
            "|    [17.0,20053.0]|   20053|\n",
            "|    [17.0,17729.0]|   17729|\n",
            "|    [17.0,19892.0]|   19892|\n",
            "|    [17.0,17747.0]|   17747|\n",
            "+------------------+--------+\n",
            "only showing top 10 rows\n",
            "\n"
          ]
        }
      ]
    },
    {
      "cell_type": "code",
      "source": [
        "from pyspark.ml.regression import LinearRegression\n",
        "train_data, test_data=finalized_data.randomSplit([0.75, 0.25])\n",
        "regressor=LinearRegression(featuresCol='IndependentFeature', labelCol='duration')\n",
        "regressor=regressor.fit(train_data)"
      ],
      "metadata": {
        "id": "HWuemHXTiL9O"
      },
      "execution_count": null,
      "outputs": []
    },
    {
      "cell_type": "code",
      "source": [
        "regressor.coefficients"
      ],
      "metadata": {
        "colab": {
          "base_uri": "https://localhost:8080/"
        },
        "id": "n8LUBmQUjGo7",
        "outputId": "94712ac7-1386-4cdf-b0d1-bd86d28874d9"
      },
      "execution_count": null,
      "outputs": [
        {
          "output_type": "execute_result",
          "data": {
            "text/plain": [
              "DenseVector([-0.0, 1.0])"
            ]
          },
          "metadata": {},
          "execution_count": 139
        }
      ]
    },
    {
      "cell_type": "code",
      "source": [
        "regressor.intercept"
      ],
      "metadata": {
        "colab": {
          "base_uri": "https://localhost:8080/"
        },
        "id": "9vYpqSGNjOWh",
        "outputId": "17e8dea0-38dc-4f37-83c9-6e904b693942"
      },
      "execution_count": null,
      "outputs": [
        {
          "output_type": "execute_result",
          "data": {
            "text/plain": [
              "7.986213663626017e-14"
            ]
          },
          "metadata": {},
          "execution_count": 140
        }
      ]
    },
    {
      "cell_type": "code",
      "source": [
        "# prediction\n",
        "pred_results=regressor.evaluate(test_data)"
      ],
      "metadata": {
        "id": "Obe9ZZI6jWeN"
      },
      "execution_count": null,
      "outputs": []
    },
    {
      "cell_type": "code",
      "source": [
        "pred_results.predictions.show(10)"
      ],
      "metadata": {
        "colab": {
          "base_uri": "https://localhost:8080/"
        },
        "id": "TtHon5-KjfET",
        "outputId": "403d9c1a-1e20-431b-bb9c-8e76051e796b"
      },
      "execution_count": null,
      "outputs": [
        {
          "output_type": "stream",
          "name": "stdout",
          "text": [
            "+------------------+--------+--------------------+\n",
            "|IndependentFeature|duration|          prediction|\n",
            "+------------------+--------+--------------------+\n",
            "|        [17.0,0.0]|       0|5.704391346474898...|\n",
            "|        [17.0,0.0]|       0|5.704391346474898...|\n",
            "|        [17.0,0.0]|       0|5.704391346474898...|\n",
            "|        [17.0,0.0]|       0|5.704391346474898...|\n",
            "|        [17.0,0.0]|       0|5.704391346474898...|\n",
            "|        [17.0,0.0]|       0|5.704391346474898...|\n",
            "|        [17.0,0.0]|       0|5.704391346474898...|\n",
            "|        [17.0,0.0]|       0|5.704391346474898...|\n",
            "|        [17.0,0.0]|       0|5.704391346474898...|\n",
            "|        [17.0,0.0]|       0|5.704391346474898...|\n",
            "+------------------+--------+--------------------+\n",
            "only showing top 10 rows\n",
            "\n"
          ]
        }
      ]
    },
    {
      "cell_type": "code",
      "source": [
        "pred_results.meanAbsoluteError, pred_results.meanSquaredError"
      ],
      "metadata": {
        "colab": {
          "base_uri": "https://localhost:8080/"
        },
        "id": "TVWwrJ_wjr42",
        "outputId": "d3bd5601-bdec-4603-9099-f61936d41737"
      },
      "execution_count": null,
      "outputs": [
        {
          "output_type": "execute_result",
          "data": {
            "text/plain": [
              "(4.320277299895059e-14, 2.2611343561660863e-27)"
            ]
          },
          "metadata": {},
          "execution_count": 145
        }
      ]
    }
  ]
}