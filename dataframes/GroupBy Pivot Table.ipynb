{
 "cells": [
  {
   "cell_type": "code",
   "execution_count": 193,
   "id": "536d4c23",
   "metadata": {},
   "outputs": [],
   "source": [
    "import pandas as pd"
   ]
  },
  {
   "cell_type": "code",
   "execution_count": 194,
   "id": "6aaefbed",
   "metadata": {},
   "outputs": [
    {
     "name": "stdout",
     "output_type": "stream",
     "text": [
      "           Type                                             Total  \\\n",
      "0     ApexClass                              SObjectSelectorTests   \n",
      "1     ApexClass                 Service_InternalApplicationsTests   \n",
      "2          Flow                              RTSF Auto Close Opps   \n",
      "3          Flow                            Update Cadence Details   \n",
      "4          Flow                            Update Cadence Details   \n",
      "..          ...                                               ...   \n",
      "125  ReportType      Custom_Accounts_with_Opps_and_Cadence_Detail   \n",
      "126  ReportType  Opportunities_with_Quotes_and_Quote_Line_Items_c   \n",
      "127  ReportType     Custom_Opportunities_w_or_w_o_Docusign_Status   \n",
      "128  ReportType    Custom_Opportunities_with_or_without_Contracts   \n",
      "129  ReportType                     Opportunities_with_Products_c   \n",
      "\n",
      "                       Relationship  \n",
      "0    Cadence Details to Opportunity  \n",
      "1    Cadence Details to Opportunity  \n",
      "2    Cadence Details to Opportunity  \n",
      "3    Cadence Details to Opportunity  \n",
      "4    Cadence Details to Opportunity  \n",
      "..                              ...  \n",
      "125  Opportunity to Cadence Details  \n",
      "126  Opportunity to Cadence Details  \n",
      "127  Opportunity to Cadence Details  \n",
      "128  Opportunity to Cadence Details  \n",
      "129  Opportunity to Cadence Details  \n",
      "\n",
      "[130 rows x 3 columns]\n"
     ]
    }
   ],
   "source": [
    "df = pd.read_csv(\"SAL6024.csv\", index_col=False)\n",
    "df = df.rename(columns={\"Name\": \"Total\"})\n",
    "print(df)"
   ]
  },
  {
   "cell_type": "code",
   "execution_count": 195,
   "id": "5b1ee73d",
   "metadata": {},
   "outputs": [],
   "source": [
    "# crosstab_pivot = pd.crosstab(index=df.Relationship, columns=df.Type, values=df.Name, aggfunc='count', margins=True).fillna(0)\n",
    "# print(crosstab_pivot)"
   ]
  },
  {
   "cell_type": "code",
   "execution_count": 196,
   "id": "6b66b4f1",
   "metadata": {},
   "outputs": [
    {
     "name": "stdout",
     "output_type": "stream",
     "text": [
      "           Type                    Relationship  Total\n",
      "0     ApexClass  Cadence Details to Opportunity      2\n",
      "1     ApexClass  Opportunity to Cadence Details      1\n",
      "2   CustomField  Opportunity to Cadence Details      6\n",
      "3          Flow  Cadence Details to Opportunity     14\n",
      "4          Flow  Opportunity to Cadence Details     14\n",
      "5        Layout  Cadence Details to Opportunity      3\n",
      "6        Layout  Opportunity to Cadence Details      2\n",
      "7        Report  Cadence Details to Opportunity      6\n",
      "8        Report  Opportunity to Cadence Details     16\n",
      "9    ReportType  Cadence Details to Opportunity     13\n",
      "10   ReportType  Opportunity to Cadence Details     53\n"
     ]
    }
   ],
   "source": [
    "pivot = df.groupby([\"Type\", \"Relationship\"])[\"Total\"].count().reset_index()\n",
    "print(pivot)"
   ]
  },
  {
   "cell_type": "code",
   "execution_count": 197,
   "id": "9736fe74",
   "metadata": {},
   "outputs": [],
   "source": [
    "pivot.to_excel(\"SAL6024Analysis.xlsx\", index=False)"
   ]
  },
  {
   "cell_type": "code",
   "execution_count": null,
   "id": "831914cf",
   "metadata": {},
   "outputs": [],
   "source": []
  }
 ],
 "metadata": {
  "kernelspec": {
   "display_name": "Python 3 (ipykernel)",
   "language": "python",
   "name": "python3"
  },
  "language_info": {
   "codemirror_mode": {
    "name": "ipython",
    "version": 3
   },
   "file_extension": ".py",
   "mimetype": "text/x-python",
   "name": "python",
   "nbconvert_exporter": "python",
   "pygments_lexer": "ipython3",
   "version": "3.9.7"
  }
 },
 "nbformat": 4,
 "nbformat_minor": 5
}
