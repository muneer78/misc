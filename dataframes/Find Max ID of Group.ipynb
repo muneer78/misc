{
 "cells": [
  {
   "cell_type": "code",
   "execution_count": 17,
   "id": "02032ee4",
   "metadata": {},
   "outputs": [],
   "source": [
    "import pandas as pd\n",
    "\n",
    "df = pd.read_csv(\"ars.csv\")\n",
    "df[\"CREATED_DATE\"] = pd.to_datetime(\n",
    "    df[\"CREATED_DATE\"]\n",
    ")  # Convert 'CREATED_DATE' column to datetime"
   ]
  },
  {
   "cell_type": "code",
   "execution_count": 18,
   "id": "9b16eae1",
   "metadata": {},
   "outputs": [],
   "source": [
    "grouped = df.groupby(\"ARID\")"
   ]
  },
  {
   "cell_type": "code",
   "execution_count": 19,
   "id": "74706a53",
   "metadata": {},
   "outputs": [],
   "source": [
    "result = grouped.apply(lambda x: x.loc[x[\"CREATED_DATE\"].idxmax()])\n",
    "\n",
    "new_df = result.reset_index(drop=True)"
   ]
  },
  {
   "cell_type": "code",
   "execution_count": 20,
   "id": "7e3e6f4a",
   "metadata": {},
   "outputs": [
    {
     "name": "stdout",
     "output_type": "stream",
     "text": [
      "        ARID          ARMEMID             ARLABEL  \\\n",
      "0  AR-000000  a0g3x00000IMSsc  AR Member - 000001   \n",
      "1  AR-000002  a0g3x00000IMSsr  AR Member - 000005   \n",
      "2  AR-000003  a0g3x00000IMSus  AR Member - 000013   \n",
      "\n",
      "                                ARNAME   STATUS CREATED_DATE  \n",
      "0  RTS Internal Test Account AR-000000  Drafted   2023-02-03  \n",
      "1                    test fg AR-000002   Signed   2023-02-03  \n",
      "2            KAL FREIGHT INC AR-000003   Signed   2023-03-05  \n"
     ]
    }
   ],
   "source": [
    "print(new_df)\n",
    "# result.to_csv('armaxes.csv')"
   ]
  }
 ],
 "metadata": {
  "kernelspec": {
   "display_name": "Python 3 (ipykernel)",
   "language": "python",
   "name": "python3"
  },
  "language_info": {
   "codemirror_mode": {
    "name": "ipython",
    "version": 3
   },
   "file_extension": ".py",
   "mimetype": "text/x-python",
   "name": "python",
   "nbconvert_exporter": "python",
   "pygments_lexer": "ipython3",
   "version": "3.9.7"
  }
 },
 "nbformat": 4,
 "nbformat_minor": 5
}
