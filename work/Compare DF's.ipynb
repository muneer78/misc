{
 "cells": [
  {
   "cell_type": "code",
   "execution_count": 1,
   "id": "5cfe302c",
   "metadata": {},
   "outputs": [],
   "source": [
    "import pandas as pd\n",
    "\n",
    "dfoldcreatelead = pd.read_excel('20230522 Day 91.xlsx', sheet_name = 1)\n",
    "dfoldcreateleaderrors = pd.read_excel('20230522 Day 91.xlsx', sheet_name = 2)\n",
    "dfoldcreateopp = pd.read_excel('20230522 Day 91.xlsx', sheet_name = 3)\n",
    "dfoldcreateopperrors = pd.read_excel('20230522 Day 91.xlsx', sheet_name = 4)\n",
    "dfoldreassignopps = pd.read_excel('20230522 Day 91.xlsx', sheet_name = 5)\n",
    "\n",
    "dfnewcreatelead = pd.read_excel('pfj_day_91_scrub_output_202305230758.xlsx', sheet_name = 1)\n",
    "dfnewcreateleaderrors = pd.read_excel('pfj_day_91_scrub_output_202305230758.xlsx', sheet_name = 2)\n",
    "dfnewcreateopp = pd.read_excel('pfj_day_91_scrub_output_202305230758.xlsx', sheet_name = 3)\n",
    "dfnewcreateopperrors = pd.read_excel('pfj_day_91_scrub_output_202305230758.xlsx', sheet_name = 4)\n",
    "dfnewreassignopps = pd.read_excel('pfj_day_91_scrub_output_202305230758.xlsx', sheet_name = 5)"
   ]
  },
  {
   "cell_type": "code",
   "execution_count": 2,
   "id": "84d09991",
   "metadata": {},
   "outputs": [],
   "source": [
    "dfoldcreateleadlist = dfoldcreatelead.columns.values.tolist()\n",
    "dfoldcreateleaderrorslist = dfoldcreateleaderrors.columns.values.tolist()\n",
    "dfoldcreateopplist = dfoldcreateopp.columns.values.tolist()\n",
    "dfoldcreateopperrorslist = dfoldcreateopperrors.columns.values.tolist()\n",
    "dfoldreassignoppslist = dfoldreassignopps.columns.values.tolist()\n",
    "\n",
    "dfnewcreateleadlist = dfnewcreatelead.columns.values.tolist()\n",
    "dfnewcreateleaderrorslist = dfnewcreateleaderrors.columns.values.tolist()\n",
    "dfnewcreateopplist = dfnewcreateopp.columns.values.tolist()\n",
    "dfnewcreateopperrorslist = dfnewcreateopperrors.columns.values.tolist()\n",
    "dfnewreassignoppslist = dfnewreassignopps.columns.values.tolist()"
   ]
  },
  {
   "cell_type": "code",
   "execution_count": 3,
   "id": "76ccc465",
   "metadata": {},
   "outputs": [
    {
     "name": "stdout",
     "output_type": "stream",
     "text": [
      "['nk_dotnbr', 'stc_sf_id', 'stc_contact_id', 'open_cs_opp_id', 'cs_opp_last_activity', 'cs_opp_owner', 'stc_sf_name', 'pfj_sf_name', 'state', 'pfj_contact_first_name', 'pfj_contact_last_name', 'pfj_contact_phone_number', 'fmcsa_trucks', 'bdw_amount', 'billing_cards', 'cp_rate', 'rm_rate', 'last_nsf_date', 'action_item']\n"
     ]
    }
   ],
   "source": [
    "print(dfnewcreateleadlist)"
   ]
  },
  {
   "cell_type": "code",
   "execution_count": 4,
   "id": "1cf5940d",
   "metadata": {},
   "outputs": [
    {
     "name": "stdout",
     "output_type": "stream",
     "text": [
      "The create leads lists are identical\n"
     ]
    }
   ],
   "source": [
    "if dfoldcreateleadlist == dfnewcreateleadlist:\n",
    "    print(\"The create leads lists are identical\")\n",
    "else:\n",
    "    print(\"The create leads lists are not identical\")"
   ]
  },
  {
   "cell_type": "code",
   "execution_count": 5,
   "id": "1f6391dd",
   "metadata": {},
   "outputs": [
    {
     "name": "stdout",
     "output_type": "stream",
     "text": [
      "The createleaderrors lists are identical\n"
     ]
    }
   ],
   "source": [
    "if dfoldcreateleaderrorslist == dfnewcreateleaderrorslist:\n",
    "    print(\"The createleaderrors lists are identical\")\n",
    "else:\n",
    "    print(\"The create lead errors lists are not identical\")"
   ]
  },
  {
   "cell_type": "code",
   "execution_count": 6,
   "id": "bb97feb0",
   "metadata": {},
   "outputs": [
    {
     "name": "stdout",
     "output_type": "stream",
     "text": [
      "The createopps lists are identical\n"
     ]
    }
   ],
   "source": [
    "if dfoldcreateopplist == dfnewcreateopplist:\n",
    "    print(\"The createopps lists are identical\")\n",
    "else:\n",
    "    print(\"The create opps lists are not identical\")"
   ]
  },
  {
   "cell_type": "code",
   "execution_count": 7,
   "id": "426da299",
   "metadata": {},
   "outputs": [
    {
     "name": "stdout",
     "output_type": "stream",
     "text": [
      "The createoppserrors lists are identical\n"
     ]
    }
   ],
   "source": [
    "if dfoldcreateopperrorslist == dfnewcreateopperrorslist:\n",
    "    print(\"The createoppserrors lists are identical\")\n",
    "else:\n",
    "    print(\"The createoppserrors lists are not identical\")"
   ]
  },
  {
   "cell_type": "code",
   "execution_count": 8,
   "id": "ec570f4f",
   "metadata": {},
   "outputs": [
    {
     "name": "stdout",
     "output_type": "stream",
     "text": [
      "The reassignopps lists are identical\n"
     ]
    }
   ],
   "source": [
    "if dfoldreassignoppslist == dfnewreassignoppslist:\n",
    "    print(\"The reassignopps lists are identical\")\n",
    "else:\n",
    "    print(\"The reassign opps lists are not identical\")"
   ]
  },
  {
   "cell_type": "code",
   "execution_count": null,
   "id": "1905440f",
   "metadata": {},
   "outputs": [],
   "source": []
  }
 ],
 "metadata": {
  "kernelspec": {
   "display_name": "Python 3 (ipykernel)",
   "language": "python",
   "name": "python3"
  },
  "language_info": {
   "codemirror_mode": {
    "name": "ipython",
    "version": 3
   },
   "file_extension": ".py",
   "mimetype": "text/x-python",
   "name": "python",
   "nbconvert_exporter": "python",
   "pygments_lexer": "ipython3",
   "version": "3.9.7"
  }
 },
 "nbformat": 4,
 "nbformat_minor": 5
}
