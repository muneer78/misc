{
 "cells": [
  {
   "cell_type": "code",
   "execution_count": 1,
   "id": "bf682ee8",
   "metadata": {},
   "outputs": [],
   "source": [
    "import pandas as pd\n",
    "import numpy as np\n",
    "import datetime as dt\n",
    "import dateutil as du\n",
    "import datetime\n",
    "import dateutil\n",
    "from datetime import datetime as dt\n",
    "from dateutil.relativedelta import relativedelta\n",
    "\n",
    "date = dt.now().strftime('%Y%m%d')\n",
    "\n",
    "df = pd.read_excel('ExcelSheet.xlsx', sheet_name=['Create Sheet 1', 'Create Sheet 2', 'Create Sheet 3'])\n",
    "df1 = df.get('Sheet 1')\n",
    "df2 = df.get('Sheet 2')\n",
    "\n",
    "df_dictvalues = pd.read_csv('List.csv')\n",
    "id_dict = dict(zip(df_dictvalues.Name, df_dictvalues.ID))"
   ]
  },
  {
   "cell_type": "code",
   "execution_count": 2,
   "id": "b739db5f",
   "metadata": {},
   "outputs": [],
   "source": [
    "df1['assignees'] = None"
   ]
  },
  {
   "cell_type": "code",
   "execution_count": 3,
   "id": "3b03e5f8",
   "metadata": {},
   "outputs": [],
   "source": [
    "def setvalues(df):\n",
    "    if df['column a'] > 40: return \"40+\"\n",
    "    elif df['column b'] == 'AZ' and df['column a'] <= 5: return \"AZ 1-5\"\n",
    "    else: return \"not processed\""
   ]
  },
  {
   "cell_type": "code",
   "execution_count": 4,
   "id": "f7f5abdb",
   "metadata": {},
   "outputs": [],
   "source": [
    "df1['assignedvalue1'] = df.apply(setvalues, axis=1)"
   ]
  },
  {
   "cell_type": "code",
   "execution_count": 5,
   "id": "ac2530c6",
   "metadata": {},
   "outputs": [],
   "source": [
    "dict = {'Option A': ['abcd'], \n",
    "        'Option B': ['d','e', 'f'], \n",
    "        'Option C': ['m','n', 'o']\n",
    "          }"
   ]
  },
  {
   "cell_type": "code",
   "execution_count": 6,
   "id": "c787050f",
   "metadata": {},
   "outputs": [],
   "source": [
    "assignedvalue2 = {}\n",
    "def assignvals(row, dict, id_dict):\n",
    "    bucket = row['assignees']\n",
    "    values = repdict.get(assignees)\n",
    "    if values:\n",
    "        if bucket not in assigned_reps:\n",
    "            df_dictvalues[assignees] = 0\n",
    "        assigned_index =  df_dictvalues[assignees]\n",
    "        num_assignees = len(values)\n",
    "        val_index = assigned_index % num_reps\n",
    "        row['assignee'] = values[assigned_index]\n",
    "        row['id'] = id_dict.get(row['id'])  # Add 'id' column\n",
    "        df_dictvalues[assignees] += 1\n",
    "        return row\n",
    "    return None\n",
    "\n",
    "# Apply the assignreps function to each row in df_leads\n",
    "df1 = df1.apply(assignvals, args=(repdict, rep_id_dict), axis=1)"
   ]
  },
  {
   "cell_type": "code",
   "execution_count": 7,
   "id": "83062665",
   "metadata": {},
   "outputs": [],
   "source": [
    "# Map 'rep' to 'repid'\n",
    "df1['id'] = df1['id'].map(id_dict)\n",
    "\n",
    "# Filter rows based on 'fmcsa_trucks' condition\n",
    "df1_filtered = df1[df1['assignee'] = \"y\"].copy()\n",
    "\n",
    "# Reset index\n",
    "df1_filtered = df1_filtered.reset_index(drop=True)"
   ]
  },
  {
   "cell_type": "code",
   "execution_count": 8,
   "id": "0c990365",
   "metadata": {},
   "outputs": [],
   "source": [
    "df1['Column D'] = \"No\"\n",
    "df1['Column E'] = \"New\""
   ]
  },
  {
   "cell_type": "code",
   "execution_count": 10,
   "id": "1af3fe30",
   "metadata": {},
   "outputs": [],
   "source": [
    "df1.to_csv(f'{date}-Dataset.csv',index=False)"
   ]
  },
  {
   "cell_type": "code",
   "execution_count": null,
   "id": "99c84444",
   "metadata": {},
   "outputs": [],
   "source": [
    "df2['ColumnA'] = None"
   ]
  },
  {
   "cell_type": "code",
   "execution_count": 14,
   "id": "6a54f4bf",
   "metadata": {},
   "outputs": [],
   "source": [
    "date2 = dt.now()\n",
    "future = date2 + relativedelta(months=1)\n",
    "future_str = future.strftime(\"%m/%d/%Y\")"
   ]
  },
  {
   "cell_type": "code",
   "execution_count": 32,
   "id": "683d5f4a",
   "metadata": {},
   "outputs": [],
   "source": [
    "with pd.ExcelWriter(f'{date}-Exceptions.xlsx') as writer:\n",
    "    df2.to_excel(writer, sheet_name='Opportunities',index=False)"
   ]
  },
  {
   "cell_type": "code",
   "execution_count": 33,
   "id": "24448649",
   "metadata": {},
   "outputs": [],
   "source": [
    "df_result = pd.read_csv('result.csv')"
   ]
  },
  {
   "cell_type": "code",
   "execution_count": 34,
   "id": "32a83db2",
   "metadata": {},
   "outputs": [],
   "source": [
    "successresults = pd.merge(df_result, df, left_on='name', right_on=[\"other_name\"])\n",
    "successresults.drop('other_name', axis=1, inplace=True)"
   ]
  },
  {
   "cell_type": "code",
   "execution_count": 35,
   "id": "e3c39e12",
   "metadata": {},
   "outputs": [],
   "source": [
    "with pd.ExcelWriter(f'{date}-FinalFile.xlsx') as writer:\n",
    "    successresults.to_excel(writer, sheet_name='Sheet1',index=False)\n",
    "    df2.to_excel(writer, sheet_name='Sheet2',index=False)"
   ]
  },
  {
   "cell_type": "code",
   "execution_count": null,
   "id": "268c8430",
   "metadata": {},
   "outputs": [],
   "source": []
  }
 ],
 "metadata": {
  "kernelspec": {
   "display_name": "Python 3 (ipykernel)",
   "language": "python",
   "name": "python3"
  },
  "language_info": {
   "codemirror_mode": {
    "name": "ipython",
    "version": 3
   },
   "file_extension": ".py",
   "mimetype": "text/x-python",
   "name": "python",
   "nbconvert_exporter": "python",
   "pygments_lexer": "ipython3",
   "version": "3.9.7"
  }
 },
 "nbformat": 4,
 "nbformat_minor": 5
}
