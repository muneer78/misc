{
 "cells": [
  {
   "cell_type": "code",
   "execution_count": 1,
   "id": "bf682ee8",
   "metadata": {},
   "outputs": [],
   "source": [
    "import pandas as pd\n",
    "import numpy as np\n",
    "from datetime import datetime\n",
    "\n",
    "date = datetime.now().strftime('%Y%m%d')\n",
    "\n",
    "df = pd.read_excel('Day 91.xlsx', sheet_name=['Raw Data', 'Create Lead', 'Create Lead - Exception', 'Create Opp', 'Create Opp - Exception','Reassign Opp'])\n",
    "df_leads = df.get('Create Lead')\n",
    "df_leadserror = df.get('Create Lead - Exception')\n",
    "df_newopps = df.get('Create Opp')\n",
    "df_newoppserror = df.get('Create Opp - Exception')\n",
    "df_existingopps = df.get('Reassign Opp')\n",
    "\n",
    "df_reps = pd.read_csv('RepList.csv')\n",
    "rep_names = df_reps[\"Name\"]\n",
    "rep_territory_dict = dict(zip(df_reps.Name, df_reps.Bucket))\n",
    "rep_id_dict = dict(zip(df_reps.Name, df_reps.ID))"
   ]
  },
  {
   "cell_type": "code",
   "execution_count": 2,
   "id": "b739db5f",
   "metadata": {},
   "outputs": [],
   "source": [
    "df_leads['rep'] = None"
   ]
  },
  {
   "cell_type": "code",
   "execution_count": 3,
   "id": "3b03e5f8",
   "metadata": {},
   "outputs": [],
   "source": [
    "def setterritory(df_leads):\n",
    "    if df_leads['fmcsa_trucks'] > 40: return \"40+\"\n",
    "    elif df_leads['state'] == 'AZ' and df_leads['fmcsa_trucks'] <= 9: return \"AZ 1-9\"\n",
    "    elif df_leads['state'] == 'AZ' and (df_leads['fmcsa_trucks'] > 9 and df_leads['fmcsa_trucks'] < 26): return \"AZ 10-25\"\n",
    "    elif df_leads['state'] == 'AZ' and (df_leads['fmcsa_trucks'] > 25 and df_leads['fmcsa_trucks'] < 41): return \"AZ 26-40\"\n",
    "    elif df_leads['state'] == 'IL' and df_leads['fmcsa_trucks'] <= 9: return \"IL 1-9\"\n",
    "    elif df_leads['state'] == 'IL' and (df_leads['fmcsa_trucks'] > 9 and df_leads['fmcsa_trucks'] < 26): return \"IL 10-25\"\n",
    "    elif df_leads['state'] == 'IL' and (df_leads['fmcsa_trucks'] > 25 and df_leads['fmcsa_trucks'] < 41): return \"IL 26-40\"\n",
    "    elif df_leads['state'] == 'GA' and df_leads['fmcsa_trucks'] <= 9: return \"GA 1-9\"\n",
    "    elif df_leads['state'] == 'GA' and (df_leads['fmcsa_trucks'] > 9 and df_leads['fmcsa_trucks'] < 26): return \"GA 10-25\"\n",
    "    elif df_leads['state'] == 'GA' and (df_leads['fmcsa_trucks'] > 25 and df_leads['fmcsa_trucks'] < 41): return \"GA 26-40\"\n",
    "    elif df_leads['state'] == 'TN' and df_leads['fmcsa_trucks'] <= 9: return \"TN 1-9\"\n",
    "    elif df_leads['state'] == 'TN' and (df_leads['fmcsa_trucks'] > 9 and df_leads['fmcsa_trucks'] < 26): return \"TN 10-25\"\n",
    "    elif df_leads['state'] == 'TN' and (df_leads['fmcsa_trucks'] > 25 and df_leads['fmcsa_trucks'] < 41): return \"TN 26-40\"\n",
    "    elif df_leads['state'] == 'TX' and df_leads['fmcsa_trucks'] <= 9: return \"TX 1-9\"\n",
    "    elif df_leads['state'] == 'TX' and (df_leads['fmcsa_trucks'] > 9 and df_leads['fmcsa_trucks'] < 26): return \"TX 10-25\"\n",
    "    elif df_leads['state'] == 'TX' and (df_leads['fmcsa_trucks'] > 25 and df_leads['fmcsa_trucks'] < 41): return \"TX 26-40\"\n",
    "    elif df_leads['state'] not in ('AZ', 'GA', 'IL', 'TN' 'TX') and df_leads['fmcsa_trucks'] <= 9: return \"NR 1-9\"\n",
    "    elif df_leads['state'] not in ('AZ', 'GA', 'IL', 'TN' 'TX') and (df_leads['fmcsa_trucks'] > 9 and df_leads['fmcsa_trucks'] < 26): return \"NR 10-25\"\n",
    "    elif df_leads['state'] not in ('AZ', 'GA', 'IL', 'TN' 'TX') and (df_leads['fmcsa_trucks'] > 25 and df_leads['fmcsa_trucks'] < 41): return \"NR 26-40\"\n",
    "    else: return \"not processed\""
   ]
  },
  {
   "cell_type": "code",
   "execution_count": 4,
   "id": "f7f5abdb",
   "metadata": {},
   "outputs": [],
   "source": [
    "df_leads['bucket'] = df_leads.apply(setterritory, axis=1)"
   ]
  },
  {
   "cell_type": "code",
   "execution_count": 5,
   "id": "ac2530c6",
   "metadata": {},
   "outputs": [],
   "source": [
    "repdict = {'AZ 1-9': ['Brandon Homan'], \n",
    "           'GA 1-9': ['Gustavo Marquez', 'Junior Robert', 'Rosana Aboytes'], \n",
    "           'IL 1-9': ['Joe Knudson', 'Justin Wold', 'Rosana Aboytes'],\n",
    "           'NR 1-9': ['Adam Capps', 'Adris Veney', 'Amanda Breting', 'August Ripley', 'Austin Hicks', 'Dalton Graves', 'Ethan Warren', 'Jacob Peterson', 'Jed Kent', 'Jonathan Motyka', 'Justin Bilombele', 'Nagi Williams', 'Tony Lee', 'Wade Hyatt'],\n",
    "           'TN 1-9': ['Ryan Wendt'],\n",
    "           'TX 1-9': ['Maria Contin Garcia', 'TJ Thompson'],\n",
    "           'AZ 10-25': ['Emily Kamm'],\n",
    "           'GA 10-25': ['Holden Stallbaumer'],\n",
    "           'IL 10-25': ['Connor Sacks', 'Richard Azunna-Iwuh'],\n",
    "           'NR 10-25': ['Dylan Curry', 'Ethan Sageser', 'Nolan McCall', 'Robbie Genau', 'Tony Vitale'],\n",
    "           'TN 10-25': ['Cole Theodoropoulos'],\n",
    "           'TX 10-25': ['Landry Brewton'],\n",
    "           'AZ 26-40': ['Emily Kamm'],\n",
    "           'GA 26-40': ['Holden Stallbaumer'],\n",
    "           'IL 26-40': ['Ashli Hill'],\n",
    "           'NR 26-40': ['Jacob Douglas', 'Lucas Deegan', 'Seth Holman'],\n",
    "           'TN 26-40': ['Jon Kiger'],\n",
    "           'TX 26-40': ['Landry Brewton'],\n",
    "           '40+': ['Matt Bernard']\n",
    "          } "
   ]
  },
  {
   "cell_type": "code",
   "execution_count": 6,
   "id": "d03c965e",
   "metadata": {},
   "outputs": [],
   "source": [
    "# Iterate over the keys in the dictionary \n",
    "for bucket, values in repdict.items(): \n",
    "    # Get the row index where the key is present in the 'key' column \n",
    "    row_index = np.where(df_leads['bucket'] == bucket)\n",
    "    value_num = 0\n",
    "    for rowi in row_index[0]:\n",
    "# Assign one of the values from the value list in the dictionary to the 'value' column at the row index \n",
    "\n",
    "        df_leads.iloc[rowi, 19] = values[value_num]\n",
    "    \n",
    "        if len(values) == value_num + 1:\n",
    "            value_num = 0\n",
    "        else:\n",
    "            value_num +=1        "
   ]
  },
  {
   "cell_type": "code",
   "execution_count": 7,
   "id": "0c990365",
   "metadata": {},
   "outputs": [],
   "source": [
    "df_leads['Contact Attempted'] = \"No\"\n",
    "df_leads['Lead Status'] = \"New\"\n",
    "df_leads['Campaign'] = \"7013x000002LHUAAA4\"\n",
    "df_leads['Topic of Interest'] = \"RTS Carrier Services\"\n",
    "df_leads['Lead Record Type'] = \"0121H000001a2ShQAI\""
   ]
  },
  {
   "cell_type": "code",
   "execution_count": 8,
   "id": "ec0f432a",
   "metadata": {},
   "outputs": [],
   "source": [
    "df_leads['repid'] = df_leads['rep'].map(rep_id_dict)\n",
    "df_leads = df_leads[df_leads.fmcsa_trucks < 250]"
   ]
  },
  {
   "cell_type": "code",
   "execution_count": 9,
   "id": "1af3fe30",
   "metadata": {},
   "outputs": [],
   "source": [
    "df_leads.to_csv(f'{date}-Day91Leads.csv',index=False)"
   ]
  },
  {
   "cell_type": "code",
   "execution_count": 10,
   "id": "a612d717",
   "metadata": {},
   "outputs": [
    {
     "name": "stdout",
     "output_type": "stream",
     "text": [
      "                    rep  repid\n",
      "0            Adam Capps     14\n",
      "1           Adris Veney     14\n",
      "2        Amanda Breting     14\n",
      "3         August Ripley     14\n",
      "4          Austin Hicks     14\n",
      "5         Brandon Homan      9\n",
      "6          Connor Sacks      1\n",
      "7         Dalton Graves     14\n",
      "8           Dylan Curry      2\n",
      "9         Ethan Sageser      2\n",
      "10         Ethan Warren     14\n",
      "11      Gustavo Marquez      9\n",
      "12        Jacob Douglas      1\n",
      "13       Jacob Peterson     14\n",
      "14             Jed Kent     14\n",
      "15          Joe Knudson      3\n",
      "16      Jonathan Motyka     14\n",
      "17        Junior Robert      9\n",
      "18     Justin Bilombele     13\n",
      "19          Justin Wold      3\n",
      "20       Landry Brewton      1\n",
      "21         Lucas Deegan      1\n",
      "22  Maria Contin Garcia     14\n",
      "23         Matt Bernard      3\n",
      "24        Nagi Williams     13\n",
      "25         Nolan McCall      2\n",
      "26  Richard Azunna-Iwuh      1\n",
      "27         Robbie Genau      1\n",
      "28       Rosana Aboytes     10\n",
      "29           Ryan Wendt      8\n",
      "30          TJ Thompson     14\n",
      "31             Tony Lee     13\n",
      "32          Tony Vitale      1\n",
      "33           Wade Hyatt     13\n"
     ]
    }
   ],
   "source": [
    "df2 = df_leads.groupby(['rep'])['repid'].count().reset_index()\n",
    "print(df2)"
   ]
  },
  {
   "cell_type": "code",
   "execution_count": 11,
   "id": "0ec36a4c",
   "metadata": {},
   "outputs": [],
   "source": [
    "df_newopps['rep'] = None"
   ]
  },
  {
   "cell_type": "code",
   "execution_count": 12,
   "id": "4e21a0f9",
   "metadata": {},
   "outputs": [],
   "source": [
    "def setterritory(df_newopps):\n",
    "    if df_newopps['fmcsa_trucks'] > 40: return \"40+\"\n",
    "    elif df_newopps['state'] == 'AZ' and df_newopps['fmcsa_trucks'] <= 9: return \"AZ 1-9\"\n",
    "    elif df_newopps['state'] == 'AZ' and (df_newopps['fmcsa_trucks'] > 9 and df_newopps['fmcsa_trucks'] < 26): return \"AZ 10-25\"\n",
    "    elif df_newopps['state'] == 'AZ' and (df_newopps['fmcsa_trucks'] > 25 and df_newopps['fmcsa_trucks'] < 41): return \"AZ 26-40\"\n",
    "    elif df_newopps['state'] == 'IL' and df_newopps['fmcsa_trucks'] <= 9: return \"IL 1-9\"\n",
    "    elif df_newopps['state'] == 'IL' and (df_newopps['fmcsa_trucks'] > 9 and df_newopps['fmcsa_trucks'] < 26): return \"IL 10-25\"\n",
    "    elif df_newopps['state'] == 'IL' and (df_newopps['fmcsa_trucks'] > 25 and df_newopps['fmcsa_trucks'] < 41): return \"IL 26-40\"\n",
    "    elif df_newopps['state'] == 'GA' and df_newopps['fmcsa_trucks'] <= 9: return \"GA 1-9\"\n",
    "    elif df_newopps['state'] == 'GA' and (df_newopps['fmcsa_trucks'] > 9 and df_newopps['fmcsa_trucks'] < 26): return \"GA 10-25\"\n",
    "    elif df_newopps['state'] == 'GA' and (df_newopps['fmcsa_trucks'] > 25 and df_newopps['fmcsa_trucks'] < 41): return \"GA 26-40\"\n",
    "    elif df_newopps['state'] == 'TN' and df_newopps['fmcsa_trucks'] <= 9: return \"TN 1-9\"\n",
    "    elif df_newopps['state'] == 'TN' and (df_newopps['fmcsa_trucks'] > 9 and df_newopps['fmcsa_trucks'] < 26): return \"TN 10-25\"\n",
    "    elif df_newopps['state'] == 'TN' and (df_newopps['fmcsa_trucks'] > 25 and df_newopps['fmcsa_trucks'] < 41): return \"TN 26-40\"\n",
    "    elif df_newopps['state'] == 'TX' and df_newopps['fmcsa_trucks'] <= 9: return \"TX 1-9\"\n",
    "    elif df_newopps['state'] == 'TX' and (df_newopps['fmcsa_trucks'] > 9 and df_newopps['fmcsa_trucks'] < 26): return \"TX 10-25\"\n",
    "    elif df_newopps['state'] == 'TX' and (df_newopps['fmcsa_trucks'] > 25 and df_newopps['fmcsa_trucks'] < 41): return \"TX 26-40\"\n",
    "    elif df_newopps['state'] not in ('AZ', 'GA', 'IL', 'TN' 'TX') and df_newopps['fmcsa_trucks'] <= 9: return \"NR 1-9\"\n",
    "    elif df_newopps['state'] not in ('AZ', 'GA', 'IL', 'TN' 'TX') and (df_newopps['fmcsa_trucks'] > 9 and df_newopps['fmcsa_trucks'] < 26): return \"NR 10-25\"\n",
    "    elif df_newopps['state'] not in ('AZ', 'GA', 'IL', 'TN' 'TX') and (df_newopps['fmcsa_trucks'] > 25 and df_newopps['fmcsa_trucks'] < 41): return \"NR 26-40\"\n",
    "    else: return \"not processed\""
   ]
  },
  {
   "cell_type": "code",
   "execution_count": 13,
   "id": "e5b47769",
   "metadata": {},
   "outputs": [],
   "source": [
    "df_newopps['bucket'] = df_newopps.apply(setterritory, axis=1)"
   ]
  },
  {
   "cell_type": "code",
   "execution_count": 14,
   "id": "29178f0a",
   "metadata": {},
   "outputs": [],
   "source": [
    "# Iterate over the keys in the dictionary \n",
    "for bucket, values in repdict.items(): \n",
    "    # Get the row index where the key is present in the 'key' column \n",
    "    row_index = np.where(df_newopps['bucket'] == bucket)\n",
    "    value_num = 0\n",
    "    for rowi in row_index[0]:\n",
    "# Assign one of the values from the value list in the dictionary to the 'value' column at the row index \n",
    "\n",
    "        df_newopps.iloc[rowi, 19] = values[value_num]\n",
    "    \n",
    "        if len(values) == value_num + 1:\n",
    "            value_num = 0\n",
    "        else:\n",
    "            value_num +=1     "
   ]
  },
  {
   "cell_type": "code",
   "execution_count": 15,
   "id": "29a3f1a7",
   "metadata": {},
   "outputs": [],
   "source": [
    "df_newopps['Close Date'] = \"6/6/2023\"\n",
    "df_newopps['Primary Source Campaign ID'] = \"7013x000002LHUAAA4\"\n",
    "df_newopps['Opportunity Type'] = \"RTSCS\"\n",
    "df_newopps['RecordTypeId'] = \"0123x000001dXL2AAM\"\n",
    "df_newopps['StageName'] = \"Open\""
   ]
  },
  {
   "cell_type": "code",
   "execution_count": 16,
   "id": "d9811246",
   "metadata": {},
   "outputs": [],
   "source": [
    "df_newopps['repid'] = df_newopps['rep'].map(rep_id_dict)\n",
    "df_newopps = df_newopps[df_newopps.fmcsa_trucks < 250]"
   ]
  },
  {
   "cell_type": "code",
   "execution_count": 17,
   "id": "cab7c770",
   "metadata": {},
   "outputs": [],
   "source": [
    "df_newopps.to_csv(f'{date}-Day91NewOpps.csv',index=False)"
   ]
  },
  {
   "cell_type": "code",
   "execution_count": 18,
   "id": "4eadc778",
   "metadata": {},
   "outputs": [],
   "source": [
    "df_existingopps['rep'] = None"
   ]
  },
  {
   "cell_type": "code",
   "execution_count": 19,
   "id": "d546babb",
   "metadata": {},
   "outputs": [],
   "source": [
    "def setterritory(df_existingopps):\n",
    "    if df_existingopps['fmcsa_trucks'] > 40: return \"40+\"\n",
    "    elif df_existingopps['state'] == 'AZ' and df_existingopps['fmcsa_trucks'] <= 9: return \"AZ 1-9\"\n",
    "    elif df_existingopps['state'] == 'AZ' and (df_existingopps['fmcsa_trucks'] > 9 and df_existingopps['fmcsa_trucks'] < 26): return \"AZ 10-25\"\n",
    "    elif df_existingopps['state'] == 'AZ' and (df_existingopps['fmcsa_trucks'] > 25 and df_existingopps['fmcsa_trucks'] < 41): return \"AZ 26-40\"\n",
    "    elif df_existingopps['state'] == 'IL' and df_existingopps['fmcsa_trucks'] <= 9: return \"IL 1-9\"\n",
    "    elif df_existingopps['state'] == 'IL' and (df_existingopps['fmcsa_trucks'] > 9 and df_existingopps['fmcsa_trucks'] < 26): return \"IL 10-25\"\n",
    "    elif df_existingopps['state'] == 'IL' and (df_existingopps['fmcsa_trucks'] > 25 and df_existingopps['fmcsa_trucks'] < 41): return \"IL 26-40\"\n",
    "    elif df_existingopps['state'] == 'GA' and df_existingopps['fmcsa_trucks'] <= 9: return \"GA 1-9\"\n",
    "    elif df_existingopps['state'] == 'GA' and (df_existingopps['fmcsa_trucks'] > 9 and df_existingopps['fmcsa_trucks'] < 26): return \"GA 10-25\"\n",
    "    elif df_existingopps['state'] == 'GA' and (df_existingopps['fmcsa_trucks'] > 25 and df_existingopps['fmcsa_trucks'] < 41): return \"GA 26-40\"\n",
    "    elif df_existingopps['state'] == 'TN' and df_existingopps['fmcsa_trucks'] <= 9: return \"TN 1-9\"\n",
    "    elif df_existingopps['state'] == 'TN' and (df_existingopps['fmcsa_trucks'] > 9 and df_existingopps['fmcsa_trucks'] < 26): return \"TN 10-25\"\n",
    "    elif df_existingopps['state'] == 'TN' and (df_existingopps['fmcsa_trucks'] > 25 and df_existingopps['fmcsa_trucks'] < 41): return \"TN 26-40\"\n",
    "    elif df_existingopps['state'] == 'TX' and df_existingopps['fmcsa_trucks'] <= 9: return \"TX 1-9\"\n",
    "    elif df_existingopps['state'] == 'TX' and (df_existingopps['fmcsa_trucks'] > 9 and df_existingopps['fmcsa_trucks'] < 26): return \"TX 10-25\"\n",
    "    elif df_existingopps['state'] == 'TX' and (df_existingopps['fmcsa_trucks'] > 25 and df_existingopps['fmcsa_trucks'] < 41): return \"TX 26-40\"\n",
    "    elif df_existingopps['state'] not in ('AZ', 'GA', 'IL', 'TN' 'TX') and df_existingopps['fmcsa_trucks'] <= 9: return \"NR 1-9\"\n",
    "    elif df_existingopps['state'] not in ('AZ', 'GA', 'IL', 'TN' 'TX') and (df_existingopps['fmcsa_trucks'] > 9 and df_existingopps['fmcsa_trucks'] < 26): return \"NR 10-25\"\n",
    "    elif df_existingopps['state'] not in ('AZ', 'GA', 'IL', 'TN' 'TX') and (df_existingopps['fmcsa_trucks'] > 25 and df_existingopps['fmcsa_trucks'] < 41): return \"NR 26-40\"\n",
    "    else: return \"not processed\""
   ]
  },
  {
   "cell_type": "code",
   "execution_count": 20,
   "id": "69a95acc",
   "metadata": {},
   "outputs": [],
   "source": [
    "df_existingopps['bucket'] = df_existingopps.apply(setterritory, axis=1)"
   ]
  },
  {
   "cell_type": "code",
   "execution_count": 21,
   "id": "e46a3df1",
   "metadata": {},
   "outputs": [],
   "source": [
    "# Iterate over the keys in the dictionary \n",
    "for bucket, values in repdict.items(): \n",
    "    # Get the row index where the key is present in the 'key' column \n",
    "    row_index = np.where(df_existingopps['bucket'] == bucket)\n",
    "    value_num = 0\n",
    "    for rowi in row_index[0]:\n",
    "# Assign one of the values from the value list in the dictionary to the 'value' column at the row index \n",
    "\n",
    "        df_existingopps.iloc[rowi, 19] = values[value_num]\n",
    "    \n",
    "        if len(values) == value_num + 1:\n",
    "            value_num = 0\n",
    "        else:\n",
    "            value_num +=1     "
   ]
  },
  {
   "cell_type": "code",
   "execution_count": 22,
   "id": "42fcb599",
   "metadata": {},
   "outputs": [],
   "source": [
    "df_existingopps['Primary Source Campaign ID'] = \"7013x000002LHUAAA4\""
   ]
  },
  {
   "cell_type": "code",
   "execution_count": 23,
   "id": "3bb835f1",
   "metadata": {},
   "outputs": [],
   "source": [
    "df_existingopps['repid'] = df_existingopps['rep'].map(rep_id_dict)\n",
    "df_existingopps = df_existingopps[df_existingopps.fmcsa_trucks < 250]"
   ]
  },
  {
   "cell_type": "code",
   "execution_count": 24,
   "id": "e0a76572",
   "metadata": {},
   "outputs": [],
   "source": [
    "df_existingopps.to_csv(f'{date}-Day91ReassignOpps.csv',index=False)"
   ]
  },
  {
   "cell_type": "code",
   "execution_count": 25,
   "id": "6eb5b0f5",
   "metadata": {},
   "outputs": [],
   "source": [
    "df_newoppserror['rep'] = None"
   ]
  },
  {
   "cell_type": "code",
   "execution_count": 26,
   "id": "0a3a719f",
   "metadata": {},
   "outputs": [],
   "source": [
    "def setterritory(df_newoppserror):\n",
    "    if df_newoppserror['fmcsa_trucks'] > 40: return \"40+\"\n",
    "    elif df_newoppserror['state'] == 'AZ' and df_newoppserror['fmcsa_trucks'] <= 9: return \"AZ 1-9\"\n",
    "    elif df_newoppserror['state'] == 'AZ' and (df_newoppserror['fmcsa_trucks'] > 9 and df_newoppserror['fmcsa_trucks'] < 26): return \"AZ 10-25\"\n",
    "    elif df_newoppserror['state'] == 'AZ' and (df_newoppserror['fmcsa_trucks'] > 25 and df_newoppserror['fmcsa_trucks'] < 41): return \"AZ 26-40\"\n",
    "    elif df_newoppserror['state'] == 'IL' and df_newoppserror['fmcsa_trucks'] <= 9: return \"IL 1-9\"\n",
    "    elif df_newoppserror['state'] == 'IL' and (df_newoppserror['fmcsa_trucks'] > 9 and df_newoppserror['fmcsa_trucks'] < 26): return \"IL 10-25\"\n",
    "    elif df_newoppserror['state'] == 'IL' and (df_newoppserror['fmcsa_trucks'] > 25 and df_newoppserror['fmcsa_trucks'] < 41): return \"IL 26-40\"\n",
    "    elif df_newoppserror['state'] == 'GA' and df_newoppserror['fmcsa_trucks'] <= 9: return \"GA 1-9\"\n",
    "    elif df_newoppserror['state'] == 'GA' and (df_newoppserror['fmcsa_trucks'] > 9 and df_newoppserror['fmcsa_trucks'] < 26): return \"GA 10-25\"\n",
    "    elif df_newoppserror['state'] == 'GA' and (df_newoppserror['fmcsa_trucks'] > 25 and df_newoppserror['fmcsa_trucks'] < 41): return \"GA 26-40\"\n",
    "    elif df_newoppserror['state'] == 'TN' and df_newoppserror['fmcsa_trucks'] <= 9: return \"TN 1-9\"\n",
    "    elif df_newoppserror['state'] == 'TN' and (df_newoppserror['fmcsa_trucks'] > 9 and df_newoppserror['fmcsa_trucks'] < 26): return \"TN 10-25\"\n",
    "    elif df_newoppserror['state'] == 'TN' and (df_newoppserror['fmcsa_trucks'] > 25 and df_newoppserror['fmcsa_trucks'] < 41): return \"TN 26-40\"\n",
    "    elif df_newoppserror['state'] == 'TX' and df_newoppserror['fmcsa_trucks'] <= 9: return \"TX 1-9\"\n",
    "    elif df_newoppserror['state'] == 'TX' and (df_newoppserror['fmcsa_trucks'] > 9 and df_newoppserror['fmcsa_trucks'] < 26): return \"TX 10-25\"\n",
    "    elif df_newoppserror['state'] == 'TX' and (df_newoppserror['fmcsa_trucks'] > 25 and df_newoppserror['fmcsa_trucks'] < 41): return \"TX 26-40\"\n",
    "    elif df_newoppserror['state'] not in ('AZ', 'GA', 'IL', 'TN' 'TX') and df_newoppserror['fmcsa_trucks'] <= 9: return \"NR 1-9\"\n",
    "    elif df_newoppserror['state'] not in ('AZ', 'GA', 'IL', 'TN' 'TX') and (df_newoppserror['fmcsa_trucks'] > 9 and df_newoppserror['fmcsa_trucks'] < 26): return \"NR 10-25\"\n",
    "    elif df_newoppserror['state'] not in ('AZ', 'GA', 'IL', 'TN' 'TX') and (df_newoppserror['fmcsa_trucks'] > 25 and df_newoppserror['fmcsa_trucks'] < 41): return \"NR 26-40\"\n",
    "    else: return \"not processed\""
   ]
  },
  {
   "cell_type": "code",
   "execution_count": 27,
   "id": "3fb726b0",
   "metadata": {},
   "outputs": [],
   "source": [
    "df_newoppserror['bucket'] = df_newoppserror.apply(setterritory, axis=1)"
   ]
  },
  {
   "cell_type": "code",
   "execution_count": 28,
   "id": "21171a74",
   "metadata": {},
   "outputs": [],
   "source": [
    "# Iterate over the keys in the dictionary \n",
    "for bucket, values in repdict.items(): \n",
    "    # Get the row index where the key is present in the 'key' column \n",
    "    row_index = np.where(df_newoppserror['bucket'] == bucket)\n",
    "    value_num = 0\n",
    "    for rowi in row_index[0]:\n",
    "# Assign one of the values from the value list in the dictionary to the 'value' column at the row index \n",
    "\n",
    "        df_newoppserror.iloc[rowi, 19] = values[value_num]\n",
    "    \n",
    "        if len(values) == value_num + 1:\n",
    "            value_num = 0\n",
    "        else:\n",
    "            value_num +=1     "
   ]
  },
  {
   "cell_type": "code",
   "execution_count": 29,
   "id": "0e2f6be9",
   "metadata": {},
   "outputs": [],
   "source": [
    "df_newoppserror = df_newoppserror[df_newoppserror.fmcsa_trucks < 250]"
   ]
  },
  {
   "cell_type": "code",
   "execution_count": 30,
   "id": "831cd098",
   "metadata": {},
   "outputs": [],
   "source": [
    "df_leadserror['rep'] = None"
   ]
  },
  {
   "cell_type": "code",
   "execution_count": 31,
   "id": "eecf6331",
   "metadata": {},
   "outputs": [],
   "source": [
    "def setterritory(df_leadserror):\n",
    "    if df_leadserror['fmcsa_trucks'] > 40: return \"40+\"\n",
    "    elif df_leadserror['state'] == 'AZ' and df_leadserror['fmcsa_trucks'] <= 9: return \"AZ 1-9\"\n",
    "    elif df_leadserror['state'] == 'AZ' and (df_leadserror['fmcsa_trucks'] > 9 and df_leadserror['fmcsa_trucks'] < 26): return \"AZ 10-25\"\n",
    "    elif df_leadserror['state'] == 'AZ' and (df_leadserror['fmcsa_trucks'] > 25 and df_leadserror['fmcsa_trucks'] < 41): return \"AZ 26-40\"\n",
    "    elif df_leadserror['state'] == 'IL' and df_leadserror['fmcsa_trucks'] <= 9: return \"IL 1-9\"\n",
    "    elif df_leadserror['state'] == 'IL' and (df_leadserror['fmcsa_trucks'] > 9 and df_leadserror['fmcsa_trucks'] < 26): return \"IL 10-25\"\n",
    "    elif df_leadserror['state'] == 'IL' and (df_leadserror['fmcsa_trucks'] > 25 and df_leadserror['fmcsa_trucks'] < 41): return \"IL 26-40\"\n",
    "    elif df_leadserror['state'] == 'GA' and df_leadserror['fmcsa_trucks'] <= 9: return \"GA 1-9\"\n",
    "    elif df_leadserror['state'] == 'GA' and (df_leadserror['fmcsa_trucks'] > 9 and df_leadserror['fmcsa_trucks'] < 26): return \"GA 10-25\"\n",
    "    elif df_leadserror['state'] == 'GA' and (df_leadserror['fmcsa_trucks'] > 25 and df_leadserror['fmcsa_trucks'] < 41): return \"GA 26-40\"\n",
    "    elif df_leadserror['state'] == 'TN' and df_leadserror['fmcsa_trucks'] <= 9: return \"TN 1-9\"\n",
    "    elif df_leadserror['state'] == 'TN' and (df_leadserror['fmcsa_trucks'] > 9 and df_leadserror['fmcsa_trucks'] < 26): return \"TN 10-25\"\n",
    "    elif df_leadserror['state'] == 'TN' and (df_leadserror['fmcsa_trucks'] > 25 and df_leadserror['fmcsa_trucks'] < 41): return \"TN 26-40\"\n",
    "    elif df_leadserror['state'] == 'TX' and df_leadserror['fmcsa_trucks'] <= 9: return \"TX 1-9\"\n",
    "    elif df_leadserror['state'] == 'TX' and (df_leadserror['fmcsa_trucks'] > 9 and df_leadserror['fmcsa_trucks'] < 26): return \"TX 10-25\"\n",
    "    elif df_leadserror['state'] == 'TX' and (df_leadserror['fmcsa_trucks'] > 25 and df_leadserror['fmcsa_trucks'] < 41): return \"TX 26-40\"\n",
    "    elif df_leadserror['state'] not in ('AZ', 'GA', 'IL', 'TN' 'TX') and df_leadserror['fmcsa_trucks'] <= 9: return \"NR 1-9\"\n",
    "    elif df_leadserror['state'] not in ('AZ', 'GA', 'IL', 'TN' 'TX') and (df_leadserror['fmcsa_trucks'] > 9 and df_leadserror['fmcsa_trucks'] < 26): return \"NR 10-25\"\n",
    "    elif df_leadserror['state'] not in ('AZ', 'GA', 'IL', 'TN' 'TX') and (df_leadserror['fmcsa_trucks'] > 25 and df_leadserror['fmcsa_trucks'] < 41): return \"NR 26-40\"\n",
    "    else: return \"not processed\""
   ]
  },
  {
   "cell_type": "code",
   "execution_count": 32,
   "id": "1a40a0f3",
   "metadata": {},
   "outputs": [],
   "source": [
    "df_leadserror['bucket'] = df_leadserror.apply(setterritory, axis=1)"
   ]
  },
  {
   "cell_type": "code",
   "execution_count": 33,
   "id": "b1a2716a",
   "metadata": {},
   "outputs": [],
   "source": [
    "# Iterate over the keys in the dictionary \n",
    "for bucket, values in repdict.items(): \n",
    "    # Get the row index where the key is present in the 'key' column \n",
    "    row_index = np.where(df_leadserror['bucket'] == bucket)\n",
    "    value_num = 0\n",
    "    for rowi in row_index[0]:\n",
    "# Assign one of the values from the value list in the dictionary to the 'value' column at the row index \n",
    "\n",
    "        df_leadserror.iloc[rowi, 19] = values[value_num]\n",
    "    \n",
    "        if len(values) == value_num + 1:\n",
    "            value_num = 0\n",
    "        else:\n",
    "            value_num +=1     "
   ]
  },
  {
   "cell_type": "code",
   "execution_count": 34,
   "id": "bd6a2053",
   "metadata": {},
   "outputs": [],
   "source": [
    "df_leadserror = df_leadserror[df_leadserror.fmcsa_trucks < 250]"
   ]
  },
  {
   "cell_type": "code",
   "execution_count": 35,
   "id": "683d5f4a",
   "metadata": {},
   "outputs": [],
   "source": [
    "with pd.ExcelWriter(f'{date}-Day91Errors.xlsx') as writer:\n",
    "    df_leadserror.to_excel(writer, sheet_name='Leads',index=False)\n",
    "    df_newoppserror.to_excel(writer, sheet_name='Opportunities',index=False)"
   ]
  },
  {
   "cell_type": "code",
   "execution_count": 36,
   "id": "24448649",
   "metadata": {},
   "outputs": [],
   "source": [
    "df_successleads = pd.read_csv('Day91SuccessLeads.csv')"
   ]
  },
  {
   "cell_type": "code",
   "execution_count": 37,
   "id": "32a83db2",
   "metadata": {},
   "outputs": [
    {
     "name": "stdout",
     "output_type": "stream",
     "text": [
      "                    ID  NK_DOTNBR  STC_SF_ID  STC_CONTACT_ID  OPEN_CS_OPP_ID  \\\n",
      "0   00Q3x00001wC0X3EAK     140561        NaN             NaN             NaN   \n",
      "1   00Q3x00001wC0X4EAK    2465666        NaN             NaN             NaN   \n",
      "2   00Q3x00001wC0X5EAK     876929        NaN             NaN             NaN   \n",
      "3   00Q3x00001wC0X6EAK    1455547        NaN             NaN             NaN   \n",
      "4   00Q3x00001wC0X7EAK    3216336        NaN             NaN             NaN   \n",
      "5   00Q3x00001wC0XAEA0    1894365        NaN             NaN             NaN   \n",
      "6   00Q3x00001wC0XBEA0    3917084        NaN             NaN             NaN   \n",
      "7   00Q3x00001wC0XLEA0    3468925        NaN             NaN             NaN   \n",
      "8   00Q3x00001wC0XMEA0    3432350        NaN             NaN             NaN   \n",
      "9   00Q3x00001wC0XNEA0     923873        NaN             NaN             NaN   \n",
      "10  00Q3x00001wC0XOEA0    2110528        NaN             NaN             NaN   \n",
      "11  00Q3x00001wC0XPEA0     803850        NaN             NaN             NaN   \n",
      "12  00Q3x00001wC0XQEA0    3429954        NaN             NaN             NaN   \n",
      "13  00Q3x00001wC0XREA0    3012644        NaN             NaN             NaN   \n",
      "14  00Q3x00001wC0XSEA0    3473219        NaN             NaN             NaN   \n",
      "15  00Q3x00001wC0XZEA0    3396627        NaN             NaN             NaN   \n",
      "16  00Q3x00001wC0XaEAK    3511699        NaN             NaN             NaN   \n",
      "17  00Q3x00001wC0XbEAK    2867883        NaN             NaN             NaN   \n",
      "18  00Q3x00001wC0XcEAK     577691        NaN             NaN             NaN   \n",
      "19  00Q3x00001wC0XdEAK    3016160        NaN             NaN             NaN   \n",
      "20  00Q3x00001wC0XeEAK    3366886        NaN             NaN             NaN   \n",
      "21  00Q3x00001wC0XjEAK    3695332        NaN             NaN             NaN   \n",
      "22  00Q3x00001wC0XkEAK    3229551        NaN             NaN             NaN   \n",
      "23  00Q3x00001wC0XlEAK    1849245        NaN             NaN             NaN   \n",
      "24  00Q3x00001wC0XmEAK    3333184        NaN             NaN             NaN   \n",
      "25  00Q3x00001wC0XrEAK    2119368        NaN             NaN             NaN   \n",
      "26  00Q3x00001wC0XsEAK     563643        NaN             NaN             NaN   \n",
      "\n",
      "    CS_OPP_LAST_ACTIVITY  CS_OPP_OWNER  STC_SF_NAME  \\\n",
      "0                    NaN           NaN          NaN   \n",
      "1                    NaN           NaN          NaN   \n",
      "2                    NaN           NaN          NaN   \n",
      "3                    NaN           NaN          NaN   \n",
      "4                    NaN           NaN          NaN   \n",
      "5                    NaN           NaN          NaN   \n",
      "6                    NaN           NaN          NaN   \n",
      "7                    NaN           NaN          NaN   \n",
      "8                    NaN           NaN          NaN   \n",
      "9                    NaN           NaN          NaN   \n",
      "10                   NaN           NaN          NaN   \n",
      "11                   NaN           NaN          NaN   \n",
      "12                   NaN           NaN          NaN   \n",
      "13                   NaN           NaN          NaN   \n",
      "14                   NaN           NaN          NaN   \n",
      "15                   NaN           NaN          NaN   \n",
      "16                   NaN           NaN          NaN   \n",
      "17                   NaN           NaN          NaN   \n",
      "18                   NaN           NaN          NaN   \n",
      "19                   NaN           NaN          NaN   \n",
      "20                   NaN           NaN          NaN   \n",
      "21                   NaN           NaN          NaN   \n",
      "22                   NaN           NaN          NaN   \n",
      "23                   NaN           NaN          NaN   \n",
      "24                   NaN           NaN          NaN   \n",
      "25                   NaN           NaN          NaN   \n",
      "26                   NaN           NaN          NaN   \n",
      "\n",
      "                                 PFJ_SF_NAME STATE  ... last_nsf_date  \\\n",
      "0                HOMERS TOWING & SERVICE INC    WI  ...           NaT   \n",
      "1   WAGNER CONSTRUCTION LLC DBA 330 TRUCKING    OH  ...    2022-03-24   \n",
      "2                         PASCAL LESSARD INC    ME  ...           NaT   \n",
      "3                    CLAYWELL TRUCKING, INC.    FL  ...           NaT   \n",
      "4        5 KINGS 3 QUEENS TRANSPORTATION LLC    NC  ...           NaT   \n",
      "5                                RIO LEASING    MT  ...           NaT   \n",
      "6                     R&P TRANSPORTATION LLC    TX  ...           NaT   \n",
      "7                             GM EXPRESS LLC    IN  ...           NaT   \n",
      "8                           ROBERT ABACHERLI    NC  ...           NaT   \n",
      "9                            E1-TRUCKING LLC    GA  ...           NaT   \n",
      "10                       FORTUNE G LOGISTICS    CA  ...           NaT   \n",
      "11                  BILL ARNOLD TRUCKING INC    KY  ...           NaT   \n",
      "12                      BIG SAM SERVICES LLC    NE  ...           NaT   \n",
      "13               COMMERCIAL DRIVING PROS LLC    FL  ...    2021-08-04   \n",
      "14                 IMPERIAL EXPRESS LINE INC    PA  ...           NaT   \n",
      "15                                   THABTOM    TX  ...           NaT   \n",
      "16                        ANKO LOGISTICS LLC    MA  ...           NaT   \n",
      "17                         DOJ TRANSPORT LLC    VA  ...           NaT   \n",
      "18                           AKR ENTERPRISES    NE  ...           NaT   \n",
      "19                         BROADIS TRANSPORT    AZ  ...           NaT   \n",
      "20                        JTAA TRANSPORT LLC    RI  ...    2020-06-26   \n",
      "21        MABROOK TRANSPORTATION COMPANY LLC    MN  ...           NaT   \n",
      "22                    BILLY STAPLES TRUCKING    OK  ...           NaT   \n",
      "23                              JACOB PETERS    KS  ...           NaT   \n",
      "24             COVINGTON TRANSPORTATIONS LLC    FL  ...    2023-02-09   \n",
      "25                    MJ MICEK CONCRETE INC.    MN  ...           NaT   \n",
      "26                         WT TRUCKING, INC.    WY  ...           NaT   \n",
      "\n",
      "    action_item                  rep    bucket  Contact Attempted Lead Status  \\\n",
      "0   Create Lead          Dylan Curry  NR 10-25                 No         New   \n",
      "1   Create Lead         Nolan McCall  NR 10-25                 No         New   \n",
      "2   Create Lead        Nagi Williams    NR 1-9                 No         New   \n",
      "3   Create Lead           Adam Capps    NR 1-9                 No         New   \n",
      "4   Create Lead        Dalton Graves    NR 1-9                 No         New   \n",
      "5   Create Lead        August Ripley    NR 1-9                 No         New   \n",
      "6   Create Lead          TJ Thompson    TX 1-9                 No         New   \n",
      "7   Create Lead         Austin Hicks    NR 1-9                 No         New   \n",
      "8   Create Lead        Nagi Williams    NR 1-9                 No         New   \n",
      "9   Create Lead       Rosana Aboytes    GA 1-9                 No         New   \n",
      "10  Create Lead             Tony Lee    NR 1-9                 No         New   \n",
      "11  Create Lead          Adris Veney    NR 1-9                 No         New   \n",
      "12  Create Lead             Jed Kent    NR 1-9                 No         New   \n",
      "13  Create Lead        August Ripley    NR 1-9                 No         New   \n",
      "14  Create Lead             Jed Kent    NR 1-9                 No         New   \n",
      "15  Create Lead  Maria Contin Garcia    TX 1-9                 No         New   \n",
      "16  Create Lead         Austin Hicks    NR 1-9                 No         New   \n",
      "17  Create Lead       Jacob Peterson    NR 1-9                 No         New   \n",
      "18  Create Lead        Nagi Williams    NR 1-9                 No         New   \n",
      "19  Create Lead        Brandon Homan    AZ 1-9                 No         New   \n",
      "20  Create Lead     Justin Bilombele    NR 1-9                 No         New   \n",
      "21  Create Lead       Amanda Breting    NR 1-9                 No         New   \n",
      "22  Create Lead        August Ripley    NR 1-9                 No         New   \n",
      "23  Create Lead     Justin Bilombele    NR 1-9                 No         New   \n",
      "24  Create Lead          Adris Veney    NR 1-9                 No         New   \n",
      "25  Create Lead         Ethan Warren    NR 1-9                 No         New   \n",
      "26  Create Lead             Jed Kent    NR 1-9                 No         New   \n",
      "\n",
      "              Campaign     Topic of Interest    Lead Record Type  \\\n",
      "0   7013x000002LHUAAA4  RTS Carrier Services  0121H000001a2ShQAI   \n",
      "1   7013x000002LHUAAA4  RTS Carrier Services  0121H000001a2ShQAI   \n",
      "2   7013x000002LHUAAA4  RTS Carrier Services  0121H000001a2ShQAI   \n",
      "3   7013x000002LHUAAA4  RTS Carrier Services  0121H000001a2ShQAI   \n",
      "4   7013x000002LHUAAA4  RTS Carrier Services  0121H000001a2ShQAI   \n",
      "5   7013x000002LHUAAA4  RTS Carrier Services  0121H000001a2ShQAI   \n",
      "6   7013x000002LHUAAA4  RTS Carrier Services  0121H000001a2ShQAI   \n",
      "7   7013x000002LHUAAA4  RTS Carrier Services  0121H000001a2ShQAI   \n",
      "8   7013x000002LHUAAA4  RTS Carrier Services  0121H000001a2ShQAI   \n",
      "9   7013x000002LHUAAA4  RTS Carrier Services  0121H000001a2ShQAI   \n",
      "10  7013x000002LHUAAA4  RTS Carrier Services  0121H000001a2ShQAI   \n",
      "11  7013x000002LHUAAA4  RTS Carrier Services  0121H000001a2ShQAI   \n",
      "12  7013x000002LHUAAA4  RTS Carrier Services  0121H000001a2ShQAI   \n",
      "13  7013x000002LHUAAA4  RTS Carrier Services  0121H000001a2ShQAI   \n",
      "14  7013x000002LHUAAA4  RTS Carrier Services  0121H000001a2ShQAI   \n",
      "15  7013x000002LHUAAA4  RTS Carrier Services  0121H000001a2ShQAI   \n",
      "16  7013x000002LHUAAA4  RTS Carrier Services  0121H000001a2ShQAI   \n",
      "17  7013x000002LHUAAA4  RTS Carrier Services  0121H000001a2ShQAI   \n",
      "18  7013x000002LHUAAA4  RTS Carrier Services  0121H000001a2ShQAI   \n",
      "19  7013x000002LHUAAA4  RTS Carrier Services  0121H000001a2ShQAI   \n",
      "20  7013x000002LHUAAA4  RTS Carrier Services  0121H000001a2ShQAI   \n",
      "21  7013x000002LHUAAA4  RTS Carrier Services  0121H000001a2ShQAI   \n",
      "22  7013x000002LHUAAA4  RTS Carrier Services  0121H000001a2ShQAI   \n",
      "23  7013x000002LHUAAA4  RTS Carrier Services  0121H000001a2ShQAI   \n",
      "24  7013x000002LHUAAA4  RTS Carrier Services  0121H000001a2ShQAI   \n",
      "25  7013x000002LHUAAA4  RTS Carrier Services  0121H000001a2ShQAI   \n",
      "26  7013x000002LHUAAA4  RTS Carrier Services  0121H000001a2ShQAI   \n",
      "\n",
      "                 repid  \n",
      "0   0053x00000FRspfAAD  \n",
      "1   0051H00000AMyVsQAL  \n",
      "2   0053x00000GQstzAAD  \n",
      "3   0053x00000GQHesAAH  \n",
      "4   0053x00000GRCRbAAP  \n",
      "5   0053x00000GRjZJAA1  \n",
      "6   0053x00000GDHvFAAX  \n",
      "7   0053x00000GQVqaAAH  \n",
      "8   0053x00000GQstzAAD  \n",
      "9   0053x00000GQWCFAA5  \n",
      "10  0053x00000GRIgJAAX  \n",
      "11  0053x00000GSCcYAAX  \n",
      "12  0053x00000G7NwpAAF  \n",
      "13  0053x00000GRjZJAA1  \n",
      "14  0053x00000G7NwpAAF  \n",
      "15  0053x00000GRkcYAAT  \n",
      "16  0053x00000GQVqaAAH  \n",
      "17  0053x00000GRdAtAAL  \n",
      "18  0053x00000GQstzAAD  \n",
      "19  0053x00000GSCeDAAX  \n",
      "20  0053x00000GRq51AAD  \n",
      "21  0053x00000G73sOAAR  \n",
      "22  0053x00000GRjZJAA1  \n",
      "23  0053x00000GRq51AAD  \n",
      "24  0053x00000GSCcYAAX  \n",
      "25  0053x00000GSCcaAAH  \n",
      "26  0053x00000G7NwpAAF  \n",
      "\n",
      "[27 rows x 56 columns]\n"
     ]
    }
   ],
   "source": [
    "successleads = pd.merge(df_successleads, df_leads, left_on='PFJ_SF_NAME', right_on=[\"pfj_sf_name\"])\n",
    "successleads.drop('pfj_sf_name', axis=1, inplace=True)\n",
    "\n",
    "print(successleads)"
   ]
  },
  {
   "cell_type": "code",
   "execution_count": 39,
   "id": "e3c39e12",
   "metadata": {},
   "outputs": [],
   "source": [
    "with pd.ExcelWriter(f'{date}-Day91Load.xlsx') as writer:\n",
    "    successleads.to_excel(writer, sheet_name='Leads',index=False)\n",
    "    df_newopps.to_excel(writer, sheet_name='New Opportunities',index=False)\n",
    "    df_existingopps.to_excel(writer, sheet_name='Reassigned Opportunities',index=False)"
   ]
  }
 ],
 "metadata": {
  "kernelspec": {
   "display_name": "Python 3 (ipykernel)",
   "language": "python",
   "name": "python3"
  },
  "language_info": {
   "codemirror_mode": {
    "name": "ipython",
    "version": 3
   },
   "file_extension": ".py",
   "mimetype": "text/x-python",
   "name": "python",
   "nbconvert_exporter": "python",
   "pygments_lexer": "ipython3",
   "version": "3.9.7"
  }
 },
 "nbformat": 4,
 "nbformat_minor": 5
}
